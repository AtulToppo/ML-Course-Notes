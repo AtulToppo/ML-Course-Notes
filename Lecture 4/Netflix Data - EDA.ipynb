{
 "cells": [
  {
   "cell_type": "markdown",
   "id": "bf3f8e40-8713-4923-8748-74a291aed892",
   "metadata": {},
   "source": [
    "# Exploratory Data Analysis (EDA) - Netflix\n",
    "\n",
    "EDA is a crucial step in data analysis, focusing on understanding data characteristics, detecting anomalies, identifying patterns, and formulating hypotheses. It helps in gaining insights into data structure and guiding further analysis and decision-making processes.\n",
    "\n",
    "#### Purpose\n",
    "\n",
    "EDA aims to:\n",
    "- Understand data structure and distribution\n",
    "- Detect anomalies and outliers\n",
    "- Identify patterns and trends\n",
    "- Formulate hypotheses\n",
    "- Assess assumptions\n",
    "\n",
    "#### Techniques\n",
    "\n",
    "- Summary Statistics\n",
    "- Data Visualization\n",
    "- Univariate, Bivariate, and Multivariate Analysis\n",
    "- Outlier Detection\n",
    "- Missing Value Imputation"
   ]
  },
  {
   "cell_type": "markdown",
   "id": "7667256a",
   "metadata": {
    "papermill": {
     "duration": 0.016767,
     "end_time": "2024-04-04T12:47:13.321001",
     "exception": false,
     "start_time": "2024-04-04T12:47:13.304234",
     "status": "completed"
    },
    "tags": []
   },
   "source": [
    "### **Importing Libraries**"
   ]
  },
  {
   "cell_type": "code",
   "execution_count": 1,
   "id": "8cc85df3",
   "metadata": {
    "papermill": {
     "duration": 2.022016,
     "end_time": "2024-04-04T12:47:15.358774",
     "exception": false,
     "start_time": "2024-04-04T12:47:13.336758",
     "status": "completed"
    },
    "tags": []
   },
   "outputs": [],
   "source": [
    "import pandas as pd\n",
    "import numpy as np\n",
    "import matplotlib.pyplot as plt\n",
    "import seaborn as sns\n",
    "sns.set()"
   ]
  },
  {
   "cell_type": "markdown",
   "id": "47f54fe3",
   "metadata": {
    "papermill": {
     "duration": 0.014342,
     "end_time": "2024-04-04T12:47:15.388181",
     "exception": false,
     "start_time": "2024-04-04T12:47:15.373839",
     "status": "completed"
    },
    "tags": []
   },
   "source": [
    "#### Reading Data"
   ]
  },
  {
   "cell_type": "code",
   "execution_count": 2,
   "id": "6a01323f",
   "metadata": {
    "papermill": {
     "duration": 0.159389,
     "end_time": "2024-04-04T12:47:15.563577",
     "exception": false,
     "start_time": "2024-04-04T12:47:15.404188",
     "status": "completed"
    },
    "tags": []
   },
   "outputs": [
    {
     "data": {
      "text/html": [
       "<div>\n",
       "<style scoped>\n",
       "    .dataframe tbody tr th:only-of-type {\n",
       "        vertical-align: middle;\n",
       "    }\n",
       "\n",
       "    .dataframe tbody tr th {\n",
       "        vertical-align: top;\n",
       "    }\n",
       "\n",
       "    .dataframe thead th {\n",
       "        text-align: right;\n",
       "    }\n",
       "</style>\n",
       "<table border=\"1\" class=\"dataframe\">\n",
       "  <thead>\n",
       "    <tr style=\"text-align: right;\">\n",
       "      <th></th>\n",
       "      <th>show_id</th>\n",
       "      <th>type</th>\n",
       "      <th>title</th>\n",
       "      <th>director</th>\n",
       "      <th>cast</th>\n",
       "      <th>country</th>\n",
       "      <th>date_added</th>\n",
       "      <th>release_year</th>\n",
       "      <th>rating</th>\n",
       "      <th>duration</th>\n",
       "      <th>listed_in</th>\n",
       "      <th>description</th>\n",
       "    </tr>\n",
       "  </thead>\n",
       "  <tbody>\n",
       "    <tr>\n",
       "      <th>0</th>\n",
       "      <td>s1</td>\n",
       "      <td>Movie</td>\n",
       "      <td>Dick Johnson Is Dead</td>\n",
       "      <td>Kirsten Johnson</td>\n",
       "      <td>NaN</td>\n",
       "      <td>United States</td>\n",
       "      <td>September 25, 2021</td>\n",
       "      <td>2020</td>\n",
       "      <td>PG-13</td>\n",
       "      <td>90 min</td>\n",
       "      <td>Documentaries</td>\n",
       "      <td>As her father nears the end of his life, filmm...</td>\n",
       "    </tr>\n",
       "    <tr>\n",
       "      <th>1</th>\n",
       "      <td>s2</td>\n",
       "      <td>TV Show</td>\n",
       "      <td>Blood &amp; Water</td>\n",
       "      <td>NaN</td>\n",
       "      <td>Ama Qamata, Khosi Ngema, Gail Mabalane, Thaban...</td>\n",
       "      <td>South Africa</td>\n",
       "      <td>September 24, 2021</td>\n",
       "      <td>2021</td>\n",
       "      <td>TV-MA</td>\n",
       "      <td>2 Seasons</td>\n",
       "      <td>International TV Shows, TV Dramas, TV Mysteries</td>\n",
       "      <td>After crossing paths at a party, a Cape Town t...</td>\n",
       "    </tr>\n",
       "    <tr>\n",
       "      <th>2</th>\n",
       "      <td>s3</td>\n",
       "      <td>TV Show</td>\n",
       "      <td>Ganglands</td>\n",
       "      <td>Julien Leclercq</td>\n",
       "      <td>Sami Bouajila, Tracy Gotoas, Samuel Jouy, Nabi...</td>\n",
       "      <td>NaN</td>\n",
       "      <td>September 24, 2021</td>\n",
       "      <td>2021</td>\n",
       "      <td>TV-MA</td>\n",
       "      <td>1 Season</td>\n",
       "      <td>Crime TV Shows, International TV Shows, TV Act...</td>\n",
       "      <td>To protect his family from a powerful drug lor...</td>\n",
       "    </tr>\n",
       "    <tr>\n",
       "      <th>3</th>\n",
       "      <td>s4</td>\n",
       "      <td>TV Show</td>\n",
       "      <td>Jailbirds New Orleans</td>\n",
       "      <td>NaN</td>\n",
       "      <td>NaN</td>\n",
       "      <td>NaN</td>\n",
       "      <td>September 24, 2021</td>\n",
       "      <td>2021</td>\n",
       "      <td>TV-MA</td>\n",
       "      <td>1 Season</td>\n",
       "      <td>Docuseries, Reality TV</td>\n",
       "      <td>Feuds, flirtations and toilet talk go down amo...</td>\n",
       "    </tr>\n",
       "    <tr>\n",
       "      <th>4</th>\n",
       "      <td>s5</td>\n",
       "      <td>TV Show</td>\n",
       "      <td>Kota Factory</td>\n",
       "      <td>NaN</td>\n",
       "      <td>Mayur More, Jitendra Kumar, Ranjan Raj, Alam K...</td>\n",
       "      <td>India</td>\n",
       "      <td>September 24, 2021</td>\n",
       "      <td>2021</td>\n",
       "      <td>TV-MA</td>\n",
       "      <td>2 Seasons</td>\n",
       "      <td>International TV Shows, Romantic TV Shows, TV ...</td>\n",
       "      <td>In a city of coaching centers known to train I...</td>\n",
       "    </tr>\n",
       "  </tbody>\n",
       "</table>\n",
       "</div>"
      ],
      "text/plain": [
       "  show_id     type                  title         director  \\\n",
       "0      s1    Movie   Dick Johnson Is Dead  Kirsten Johnson   \n",
       "1      s2  TV Show          Blood & Water              NaN   \n",
       "2      s3  TV Show              Ganglands  Julien Leclercq   \n",
       "3      s4  TV Show  Jailbirds New Orleans              NaN   \n",
       "4      s5  TV Show           Kota Factory              NaN   \n",
       "\n",
       "                                                cast        country  \\\n",
       "0                                                NaN  United States   \n",
       "1  Ama Qamata, Khosi Ngema, Gail Mabalane, Thaban...   South Africa   \n",
       "2  Sami Bouajila, Tracy Gotoas, Samuel Jouy, Nabi...            NaN   \n",
       "3                                                NaN            NaN   \n",
       "4  Mayur More, Jitendra Kumar, Ranjan Raj, Alam K...          India   \n",
       "\n",
       "           date_added  release_year rating   duration  \\\n",
       "0  September 25, 2021          2020  PG-13     90 min   \n",
       "1  September 24, 2021          2021  TV-MA  2 Seasons   \n",
       "2  September 24, 2021          2021  TV-MA   1 Season   \n",
       "3  September 24, 2021          2021  TV-MA   1 Season   \n",
       "4  September 24, 2021          2021  TV-MA  2 Seasons   \n",
       "\n",
       "                                           listed_in  \\\n",
       "0                                      Documentaries   \n",
       "1    International TV Shows, TV Dramas, TV Mysteries   \n",
       "2  Crime TV Shows, International TV Shows, TV Act...   \n",
       "3                             Docuseries, Reality TV   \n",
       "4  International TV Shows, Romantic TV Shows, TV ...   \n",
       "\n",
       "                                         description  \n",
       "0  As her father nears the end of his life, filmm...  \n",
       "1  After crossing paths at a party, a Cape Town t...  \n",
       "2  To protect his family from a powerful drug lor...  \n",
       "3  Feuds, flirtations and toilet talk go down amo...  \n",
       "4  In a city of coaching centers known to train I...  "
      ]
     },
     "execution_count": 2,
     "metadata": {},
     "output_type": "execute_result"
    }
   ],
   "source": [
    "df = pd.read_csv(\"C:\\\\Users\\\\prabh\\\\OneDrive\\\\Desktop\\\\ML Course Notes\\\\Lecture 4\\\\netflix_titles.csv\")\n",
    "df.head()"
   ]
  },
  {
   "cell_type": "code",
   "execution_count": 3,
   "id": "c72160ff",
   "metadata": {
    "papermill": {
     "duration": 0.023477,
     "end_time": "2024-04-04T12:47:15.602458",
     "exception": false,
     "start_time": "2024-04-04T12:47:15.578981",
     "status": "completed"
    },
    "tags": []
   },
   "outputs": [
    {
     "data": {
      "text/plain": [
       "(8807, 12)"
      ]
     },
     "execution_count": 3,
     "metadata": {},
     "output_type": "execute_result"
    }
   ],
   "source": [
    "df.shape"
   ]
  },
  {
   "cell_type": "code",
   "execution_count": 4,
   "id": "e87a6582",
   "metadata": {
    "papermill": {
     "duration": 0.048546,
     "end_time": "2024-04-04T12:47:15.666068",
     "exception": false,
     "start_time": "2024-04-04T12:47:15.617522",
     "status": "completed"
    },
    "tags": []
   },
   "outputs": [
    {
     "name": "stdout",
     "output_type": "stream",
     "text": [
      "<class 'pandas.core.frame.DataFrame'>\n",
      "RangeIndex: 8807 entries, 0 to 8806\n",
      "Data columns (total 12 columns):\n",
      " #   Column        Non-Null Count  Dtype \n",
      "---  ------        --------------  ----- \n",
      " 0   show_id       8807 non-null   object\n",
      " 1   type          8807 non-null   object\n",
      " 2   title         8807 non-null   object\n",
      " 3   director      6173 non-null   object\n",
      " 4   cast          7982 non-null   object\n",
      " 5   country       7976 non-null   object\n",
      " 6   date_added    8797 non-null   object\n",
      " 7   release_year  8807 non-null   int64 \n",
      " 8   rating        8803 non-null   object\n",
      " 9   duration      8804 non-null   object\n",
      " 10  listed_in     8807 non-null   object\n",
      " 11  description   8807 non-null   object\n",
      "dtypes: int64(1), object(11)\n",
      "memory usage: 825.8+ KB\n"
     ]
    }
   ],
   "source": [
    "df.info()"
   ]
  },
  {
   "cell_type": "markdown",
   "id": "fe3a79ab",
   "metadata": {
    "papermill": {
     "duration": 0.016047,
     "end_time": "2024-04-04T12:47:15.698244",
     "exception": false,
     "start_time": "2024-04-04T12:47:15.682197",
     "status": "completed"
    },
    "tags": []
   },
   "source": [
    "### **Data Cleaning**"
   ]
  },
  {
   "cell_type": "markdown",
   "id": "f951cbe6",
   "metadata": {
    "papermill": {
     "duration": 0.01544,
     "end_time": "2024-04-04T12:47:15.729283",
     "exception": false,
     "start_time": "2024-04-04T12:47:15.713843",
     "status": "completed"
    },
    "tags": []
   },
   "source": [
    "#### Checking percentage of missing values"
   ]
  },
  {
   "cell_type": "code",
   "execution_count": 5,
   "id": "dee61a30",
   "metadata": {
    "papermill": {
     "duration": 0.040167,
     "end_time": "2024-04-04T12:47:15.785436",
     "exception": false,
     "start_time": "2024-04-04T12:47:15.745269",
     "status": "completed"
    },
    "tags": []
   },
   "outputs": [
    {
     "data": {
      "text/plain": [
       "show_id          0.000000\n",
       "type             0.000000\n",
       "title            0.000000\n",
       "director        29.908028\n",
       "cast             9.367549\n",
       "country          9.435676\n",
       "date_added       0.113546\n",
       "release_year     0.000000\n",
       "rating           0.045418\n",
       "duration         0.034064\n",
       "listed_in        0.000000\n",
       "description      0.000000\n",
       "dtype: float64"
      ]
     },
     "execution_count": 5,
     "metadata": {},
     "output_type": "execute_result"
    }
   ],
   "source": [
    "df.isnull().mean()*100"
   ]
  },
  {
   "cell_type": "markdown",
   "id": "2dcf91a9",
   "metadata": {
    "papermill": {
     "duration": 0.01611,
     "end_time": "2024-04-04T12:47:15.817905",
     "exception": false,
     "start_time": "2024-04-04T12:47:15.801795",
     "status": "completed"
    },
    "tags": []
   },
   "source": [
    "#### Handling Missing Values"
   ]
  },
  {
   "cell_type": "code",
   "execution_count": 6,
   "id": "874b585b",
   "metadata": {
    "papermill": {
     "duration": 0.041589,
     "end_time": "2024-04-04T12:47:15.875609",
     "exception": false,
     "start_time": "2024-04-04T12:47:15.834020",
     "status": "completed"
    },
    "tags": []
   },
   "outputs": [
    {
     "data": {
      "text/html": [
       "<div>\n",
       "<style scoped>\n",
       "    .dataframe tbody tr th:only-of-type {\n",
       "        vertical-align: middle;\n",
       "    }\n",
       "\n",
       "    .dataframe tbody tr th {\n",
       "        vertical-align: top;\n",
       "    }\n",
       "\n",
       "    .dataframe thead th {\n",
       "        text-align: right;\n",
       "    }\n",
       "</style>\n",
       "<table border=\"1\" class=\"dataframe\">\n",
       "  <thead>\n",
       "    <tr style=\"text-align: right;\">\n",
       "      <th></th>\n",
       "      <th>show_id</th>\n",
       "      <th>type</th>\n",
       "      <th>title</th>\n",
       "      <th>director</th>\n",
       "      <th>cast</th>\n",
       "      <th>country</th>\n",
       "      <th>date_added</th>\n",
       "      <th>release_year</th>\n",
       "      <th>rating</th>\n",
       "      <th>duration</th>\n",
       "      <th>listed_in</th>\n",
       "      <th>description</th>\n",
       "    </tr>\n",
       "  </thead>\n",
       "  <tbody>\n",
       "    <tr>\n",
       "      <th>1</th>\n",
       "      <td>s2</td>\n",
       "      <td>TV Show</td>\n",
       "      <td>Blood &amp; Water</td>\n",
       "      <td>NaN</td>\n",
       "      <td>Ama Qamata, Khosi Ngema, Gail Mabalane, Thaban...</td>\n",
       "      <td>South Africa</td>\n",
       "      <td>September 24, 2021</td>\n",
       "      <td>2021</td>\n",
       "      <td>TV-MA</td>\n",
       "      <td>2 Seasons</td>\n",
       "      <td>International TV Shows, TV Dramas, TV Mysteries</td>\n",
       "      <td>After crossing paths at a party, a Cape Town t...</td>\n",
       "    </tr>\n",
       "    <tr>\n",
       "      <th>3</th>\n",
       "      <td>s4</td>\n",
       "      <td>TV Show</td>\n",
       "      <td>Jailbirds New Orleans</td>\n",
       "      <td>NaN</td>\n",
       "      <td>NaN</td>\n",
       "      <td>NaN</td>\n",
       "      <td>September 24, 2021</td>\n",
       "      <td>2021</td>\n",
       "      <td>TV-MA</td>\n",
       "      <td>1 Season</td>\n",
       "      <td>Docuseries, Reality TV</td>\n",
       "      <td>Feuds, flirtations and toilet talk go down amo...</td>\n",
       "    </tr>\n",
       "    <tr>\n",
       "      <th>4</th>\n",
       "      <td>s5</td>\n",
       "      <td>TV Show</td>\n",
       "      <td>Kota Factory</td>\n",
       "      <td>NaN</td>\n",
       "      <td>Mayur More, Jitendra Kumar, Ranjan Raj, Alam K...</td>\n",
       "      <td>India</td>\n",
       "      <td>September 24, 2021</td>\n",
       "      <td>2021</td>\n",
       "      <td>TV-MA</td>\n",
       "      <td>2 Seasons</td>\n",
       "      <td>International TV Shows, Romantic TV Shows, TV ...</td>\n",
       "      <td>In a city of coaching centers known to train I...</td>\n",
       "    </tr>\n",
       "    <tr>\n",
       "      <th>10</th>\n",
       "      <td>s11</td>\n",
       "      <td>TV Show</td>\n",
       "      <td>Vendetta: Truth, Lies and The Mafia</td>\n",
       "      <td>NaN</td>\n",
       "      <td>NaN</td>\n",
       "      <td>NaN</td>\n",
       "      <td>September 24, 2021</td>\n",
       "      <td>2021</td>\n",
       "      <td>TV-MA</td>\n",
       "      <td>1 Season</td>\n",
       "      <td>Crime TV Shows, Docuseries, International TV S...</td>\n",
       "      <td>Sicily boasts a bold \"Anti-Mafia\" coalition. B...</td>\n",
       "    </tr>\n",
       "    <tr>\n",
       "      <th>14</th>\n",
       "      <td>s15</td>\n",
       "      <td>TV Show</td>\n",
       "      <td>Crime Stories: India Detectives</td>\n",
       "      <td>NaN</td>\n",
       "      <td>NaN</td>\n",
       "      <td>NaN</td>\n",
       "      <td>September 22, 2021</td>\n",
       "      <td>2021</td>\n",
       "      <td>TV-MA</td>\n",
       "      <td>1 Season</td>\n",
       "      <td>British TV Shows, Crime TV Shows, Docuseries</td>\n",
       "      <td>Cameras following Bengaluru police on the job ...</td>\n",
       "    </tr>\n",
       "    <tr>\n",
       "      <th>...</th>\n",
       "      <td>...</td>\n",
       "      <td>...</td>\n",
       "      <td>...</td>\n",
       "      <td>...</td>\n",
       "      <td>...</td>\n",
       "      <td>...</td>\n",
       "      <td>...</td>\n",
       "      <td>...</td>\n",
       "      <td>...</td>\n",
       "      <td>...</td>\n",
       "      <td>...</td>\n",
       "      <td>...</td>\n",
       "    </tr>\n",
       "    <tr>\n",
       "      <th>8795</th>\n",
       "      <td>s8796</td>\n",
       "      <td>TV Show</td>\n",
       "      <td>Yu-Gi-Oh! Arc-V</td>\n",
       "      <td>NaN</td>\n",
       "      <td>Mike Liscio, Emily Bauer, Billy Bob Thompson, ...</td>\n",
       "      <td>Japan, Canada</td>\n",
       "      <td>May 1, 2018</td>\n",
       "      <td>2015</td>\n",
       "      <td>TV-Y7</td>\n",
       "      <td>2 Seasons</td>\n",
       "      <td>Anime Series, Kids' TV</td>\n",
       "      <td>Now that he's discovered the Pendulum Summonin...</td>\n",
       "    </tr>\n",
       "    <tr>\n",
       "      <th>8796</th>\n",
       "      <td>s8797</td>\n",
       "      <td>TV Show</td>\n",
       "      <td>Yunus Emre</td>\n",
       "      <td>NaN</td>\n",
       "      <td>Gökhan Atalay, Payidar Tüfekçioglu, Baran Akbu...</td>\n",
       "      <td>Turkey</td>\n",
       "      <td>January 17, 2017</td>\n",
       "      <td>2016</td>\n",
       "      <td>TV-PG</td>\n",
       "      <td>2 Seasons</td>\n",
       "      <td>International TV Shows, TV Dramas</td>\n",
       "      <td>During the Mongol invasions, Yunus Emre leaves...</td>\n",
       "    </tr>\n",
       "    <tr>\n",
       "      <th>8797</th>\n",
       "      <td>s8798</td>\n",
       "      <td>TV Show</td>\n",
       "      <td>Zak Storm</td>\n",
       "      <td>NaN</td>\n",
       "      <td>Michael Johnston, Jessica Gee-George, Christin...</td>\n",
       "      <td>United States, France, South Korea, Indonesia</td>\n",
       "      <td>September 13, 2018</td>\n",
       "      <td>2016</td>\n",
       "      <td>TV-Y7</td>\n",
       "      <td>3 Seasons</td>\n",
       "      <td>Kids' TV</td>\n",
       "      <td>Teen surfer Zak Storm is mysteriously transpor...</td>\n",
       "    </tr>\n",
       "    <tr>\n",
       "      <th>8800</th>\n",
       "      <td>s8801</td>\n",
       "      <td>TV Show</td>\n",
       "      <td>Zindagi Gulzar Hai</td>\n",
       "      <td>NaN</td>\n",
       "      <td>Sanam Saeed, Fawad Khan, Ayesha Omer, Mehreen ...</td>\n",
       "      <td>Pakistan</td>\n",
       "      <td>December 15, 2016</td>\n",
       "      <td>2012</td>\n",
       "      <td>TV-PG</td>\n",
       "      <td>1 Season</td>\n",
       "      <td>International TV Shows, Romantic TV Shows, TV ...</td>\n",
       "      <td>Strong-willed, middle-class Kashaf and carefre...</td>\n",
       "    </tr>\n",
       "    <tr>\n",
       "      <th>8803</th>\n",
       "      <td>s8804</td>\n",
       "      <td>TV Show</td>\n",
       "      <td>Zombie Dumb</td>\n",
       "      <td>NaN</td>\n",
       "      <td>NaN</td>\n",
       "      <td>NaN</td>\n",
       "      <td>July 1, 2019</td>\n",
       "      <td>2018</td>\n",
       "      <td>TV-Y7</td>\n",
       "      <td>2 Seasons</td>\n",
       "      <td>Kids' TV, Korean TV Shows, TV Comedies</td>\n",
       "      <td>While living alone in a spooky town, a young g...</td>\n",
       "    </tr>\n",
       "  </tbody>\n",
       "</table>\n",
       "<p>2634 rows × 12 columns</p>\n",
       "</div>"
      ],
      "text/plain": [
       "     show_id     type                                title director  \\\n",
       "1         s2  TV Show                        Blood & Water      NaN   \n",
       "3         s4  TV Show                Jailbirds New Orleans      NaN   \n",
       "4         s5  TV Show                         Kota Factory      NaN   \n",
       "10       s11  TV Show  Vendetta: Truth, Lies and The Mafia      NaN   \n",
       "14       s15  TV Show      Crime Stories: India Detectives      NaN   \n",
       "...      ...      ...                                  ...      ...   \n",
       "8795   s8796  TV Show                      Yu-Gi-Oh! Arc-V      NaN   \n",
       "8796   s8797  TV Show                           Yunus Emre      NaN   \n",
       "8797   s8798  TV Show                            Zak Storm      NaN   \n",
       "8800   s8801  TV Show                   Zindagi Gulzar Hai      NaN   \n",
       "8803   s8804  TV Show                          Zombie Dumb      NaN   \n",
       "\n",
       "                                                   cast  \\\n",
       "1     Ama Qamata, Khosi Ngema, Gail Mabalane, Thaban...   \n",
       "3                                                   NaN   \n",
       "4     Mayur More, Jitendra Kumar, Ranjan Raj, Alam K...   \n",
       "10                                                  NaN   \n",
       "14                                                  NaN   \n",
       "...                                                 ...   \n",
       "8795  Mike Liscio, Emily Bauer, Billy Bob Thompson, ...   \n",
       "8796  Gökhan Atalay, Payidar Tüfekçioglu, Baran Akbu...   \n",
       "8797  Michael Johnston, Jessica Gee-George, Christin...   \n",
       "8800  Sanam Saeed, Fawad Khan, Ayesha Omer, Mehreen ...   \n",
       "8803                                                NaN   \n",
       "\n",
       "                                            country          date_added  \\\n",
       "1                                      South Africa  September 24, 2021   \n",
       "3                                               NaN  September 24, 2021   \n",
       "4                                             India  September 24, 2021   \n",
       "10                                              NaN  September 24, 2021   \n",
       "14                                              NaN  September 22, 2021   \n",
       "...                                             ...                 ...   \n",
       "8795                                  Japan, Canada         May 1, 2018   \n",
       "8796                                         Turkey    January 17, 2017   \n",
       "8797  United States, France, South Korea, Indonesia  September 13, 2018   \n",
       "8800                                       Pakistan   December 15, 2016   \n",
       "8803                                            NaN        July 1, 2019   \n",
       "\n",
       "      release_year rating   duration  \\\n",
       "1             2021  TV-MA  2 Seasons   \n",
       "3             2021  TV-MA   1 Season   \n",
       "4             2021  TV-MA  2 Seasons   \n",
       "10            2021  TV-MA   1 Season   \n",
       "14            2021  TV-MA   1 Season   \n",
       "...            ...    ...        ...   \n",
       "8795          2015  TV-Y7  2 Seasons   \n",
       "8796          2016  TV-PG  2 Seasons   \n",
       "8797          2016  TV-Y7  3 Seasons   \n",
       "8800          2012  TV-PG   1 Season   \n",
       "8803          2018  TV-Y7  2 Seasons   \n",
       "\n",
       "                                              listed_in  \\\n",
       "1       International TV Shows, TV Dramas, TV Mysteries   \n",
       "3                                Docuseries, Reality TV   \n",
       "4     International TV Shows, Romantic TV Shows, TV ...   \n",
       "10    Crime TV Shows, Docuseries, International TV S...   \n",
       "14         British TV Shows, Crime TV Shows, Docuseries   \n",
       "...                                                 ...   \n",
       "8795                             Anime Series, Kids' TV   \n",
       "8796                  International TV Shows, TV Dramas   \n",
       "8797                                           Kids' TV   \n",
       "8800  International TV Shows, Romantic TV Shows, TV ...   \n",
       "8803             Kids' TV, Korean TV Shows, TV Comedies   \n",
       "\n",
       "                                            description  \n",
       "1     After crossing paths at a party, a Cape Town t...  \n",
       "3     Feuds, flirtations and toilet talk go down amo...  \n",
       "4     In a city of coaching centers known to train I...  \n",
       "10    Sicily boasts a bold \"Anti-Mafia\" coalition. B...  \n",
       "14    Cameras following Bengaluru police on the job ...  \n",
       "...                                                 ...  \n",
       "8795  Now that he's discovered the Pendulum Summonin...  \n",
       "8796  During the Mongol invasions, Yunus Emre leaves...  \n",
       "8797  Teen surfer Zak Storm is mysteriously transpor...  \n",
       "8800  Strong-willed, middle-class Kashaf and carefre...  \n",
       "8803  While living alone in a spooky town, a young g...  \n",
       "\n",
       "[2634 rows x 12 columns]"
      ]
     },
     "execution_count": 6,
     "metadata": {},
     "output_type": "execute_result"
    }
   ],
   "source": [
    "df[df['director'].isnull()]"
   ]
  },
  {
   "cell_type": "code",
   "execution_count": 7,
   "id": "b9fb1713",
   "metadata": {
    "papermill": {
     "duration": 0.029717,
     "end_time": "2024-04-04T12:47:15.922169",
     "exception": false,
     "start_time": "2024-04-04T12:47:15.892452",
     "status": "completed"
    },
    "tags": []
   },
   "outputs": [
    {
     "data": {
      "text/plain": [
       "0"
      ]
     },
     "execution_count": 7,
     "metadata": {},
     "output_type": "execute_result"
    }
   ],
   "source": [
    "df['director'] = df['director'].fillna('unknown')\n",
    "df['director'].isnull().sum()"
   ]
  },
  {
   "cell_type": "code",
   "execution_count": 8,
   "id": "c5026995",
   "metadata": {
    "papermill": {
     "duration": 0.030111,
     "end_time": "2024-04-04T12:47:15.968883",
     "exception": false,
     "start_time": "2024-04-04T12:47:15.938772",
     "status": "completed"
    },
    "tags": []
   },
   "outputs": [
    {
     "data": {
      "text/plain": [
       "0"
      ]
     },
     "execution_count": 8,
     "metadata": {},
     "output_type": "execute_result"
    }
   ],
   "source": [
    "df['cast'] = df['cast'].fillna('unknown')\n",
    "df['cast'].isnull().sum()"
   ]
  },
  {
   "cell_type": "code",
   "execution_count": 9,
   "id": "681582a6",
   "metadata": {
    "papermill": {
     "duration": 0.029868,
     "end_time": "2024-04-04T12:47:16.015471",
     "exception": false,
     "start_time": "2024-04-04T12:47:15.985603",
     "status": "completed"
    },
    "tags": []
   },
   "outputs": [
    {
     "data": {
      "text/plain": [
       "0"
      ]
     },
     "execution_count": 9,
     "metadata": {},
     "output_type": "execute_result"
    }
   ],
   "source": [
    "df['country'] = df['country'].fillna('unknown')\n",
    "df['country'].isnull().sum()"
   ]
  },
  {
   "cell_type": "code",
   "execution_count": 10,
   "id": "7554128a",
   "metadata": {
    "papermill": {
     "duration": 0.052823,
     "end_time": "2024-04-04T12:47:16.085198",
     "exception": false,
     "start_time": "2024-04-04T12:47:16.032375",
     "status": "completed"
    },
    "tags": []
   },
   "outputs": [
    {
     "data": {
      "text/plain": [
       "show_id         0\n",
       "type            0\n",
       "title           0\n",
       "director        0\n",
       "cast            0\n",
       "country         0\n",
       "date_added      0\n",
       "release_year    0\n",
       "rating          0\n",
       "duration        0\n",
       "listed_in       0\n",
       "description     0\n",
       "dtype: int64"
      ]
     },
     "execution_count": 10,
     "metadata": {},
     "output_type": "execute_result"
    }
   ],
   "source": [
    "# Removes rows containing missing values from DataFrame df, updating it in place (without creating a new copy).\n",
    "\n",
    "df.dropna(inplace=True)\n",
    "df.isnull().sum()"
   ]
  },
  {
   "cell_type": "code",
   "execution_count": 11,
   "id": "16dcf657",
   "metadata": {
    "papermill": {
     "duration": 0.032273,
     "end_time": "2024-04-04T12:47:16.134005",
     "exception": false,
     "start_time": "2024-04-04T12:47:16.101732",
     "status": "completed"
    },
    "tags": []
   },
   "outputs": [
    {
     "data": {
      "text/plain": [
       "0    United states\n",
       "1     South africa\n",
       "2          Unknown\n",
       "3          Unknown\n",
       "4            India\n",
       "Name: country, dtype: object"
      ]
     },
     "execution_count": 11,
     "metadata": {},
     "output_type": "execute_result"
    }
   ],
   "source": [
    "# A lambda function is defined using the `lambda` keyword, used for small, short-lived operations like mapping or filtering\n",
    "# Example - add = lambda x, y: x + y\n",
    "\n",
    "df['country'] = df['country'].apply(lambda x:x.capitalize())\n",
    "df['country'].head()"
   ]
  },
  {
   "cell_type": "code",
   "execution_count": 12,
   "id": "e257bd0b",
   "metadata": {
    "papermill": {
     "duration": 0.034443,
     "end_time": "2024-04-04T12:47:16.184876",
     "exception": false,
     "start_time": "2024-04-04T12:47:16.150433",
     "status": "completed"
    },
    "tags": []
   },
   "outputs": [
    {
     "data": {
      "text/html": [
       "<div>\n",
       "<style scoped>\n",
       "    .dataframe tbody tr th:only-of-type {\n",
       "        vertical-align: middle;\n",
       "    }\n",
       "\n",
       "    .dataframe tbody tr th {\n",
       "        vertical-align: top;\n",
       "    }\n",
       "\n",
       "    .dataframe thead th {\n",
       "        text-align: right;\n",
       "    }\n",
       "</style>\n",
       "<table border=\"1\" class=\"dataframe\">\n",
       "  <thead>\n",
       "    <tr style=\"text-align: right;\">\n",
       "      <th></th>\n",
       "      <th>date_added</th>\n",
       "      <th>release_year</th>\n",
       "    </tr>\n",
       "  </thead>\n",
       "  <tbody>\n",
       "    <tr>\n",
       "      <th>0</th>\n",
       "      <td>September 25, 2021</td>\n",
       "      <td>2020</td>\n",
       "    </tr>\n",
       "    <tr>\n",
       "      <th>1</th>\n",
       "      <td>September 24, 2021</td>\n",
       "      <td>2021</td>\n",
       "    </tr>\n",
       "    <tr>\n",
       "      <th>2</th>\n",
       "      <td>September 24, 2021</td>\n",
       "      <td>2021</td>\n",
       "    </tr>\n",
       "    <tr>\n",
       "      <th>3</th>\n",
       "      <td>September 24, 2021</td>\n",
       "      <td>2021</td>\n",
       "    </tr>\n",
       "    <tr>\n",
       "      <th>4</th>\n",
       "      <td>September 24, 2021</td>\n",
       "      <td>2021</td>\n",
       "    </tr>\n",
       "    <tr>\n",
       "      <th>...</th>\n",
       "      <td>...</td>\n",
       "      <td>...</td>\n",
       "    </tr>\n",
       "    <tr>\n",
       "      <th>8802</th>\n",
       "      <td>November 20, 2019</td>\n",
       "      <td>2007</td>\n",
       "    </tr>\n",
       "    <tr>\n",
       "      <th>8803</th>\n",
       "      <td>July 1, 2019</td>\n",
       "      <td>2018</td>\n",
       "    </tr>\n",
       "    <tr>\n",
       "      <th>8804</th>\n",
       "      <td>November 1, 2019</td>\n",
       "      <td>2009</td>\n",
       "    </tr>\n",
       "    <tr>\n",
       "      <th>8805</th>\n",
       "      <td>January 11, 2020</td>\n",
       "      <td>2006</td>\n",
       "    </tr>\n",
       "    <tr>\n",
       "      <th>8806</th>\n",
       "      <td>March 2, 2019</td>\n",
       "      <td>2015</td>\n",
       "    </tr>\n",
       "  </tbody>\n",
       "</table>\n",
       "<p>8790 rows × 2 columns</p>\n",
       "</div>"
      ],
      "text/plain": [
       "              date_added  release_year\n",
       "0     September 25, 2021          2020\n",
       "1     September 24, 2021          2021\n",
       "2     September 24, 2021          2021\n",
       "3     September 24, 2021          2021\n",
       "4     September 24, 2021          2021\n",
       "...                  ...           ...\n",
       "8802   November 20, 2019          2007\n",
       "8803        July 1, 2019          2018\n",
       "8804    November 1, 2019          2009\n",
       "8805    January 11, 2020          2006\n",
       "8806       March 2, 2019          2015\n",
       "\n",
       "[8790 rows x 2 columns]"
      ]
     },
     "execution_count": 12,
     "metadata": {},
     "output_type": "execute_result"
    }
   ],
   "source": [
    "df[['date_added','release_year']]"
   ]
  },
  {
   "cell_type": "code",
   "execution_count": 13,
   "id": "30345def",
   "metadata": {
    "papermill": {
     "duration": 0.046098,
     "end_time": "2024-04-04T12:47:16.248142",
     "exception": false,
     "start_time": "2024-04-04T12:47:16.202044",
     "status": "completed"
    },
    "tags": []
   },
   "outputs": [
    {
     "data": {
      "text/html": [
       "<div>\n",
       "<style scoped>\n",
       "    .dataframe tbody tr th:only-of-type {\n",
       "        vertical-align: middle;\n",
       "    }\n",
       "\n",
       "    .dataframe tbody tr th {\n",
       "        vertical-align: top;\n",
       "    }\n",
       "\n",
       "    .dataframe thead th {\n",
       "        text-align: right;\n",
       "    }\n",
       "</style>\n",
       "<table border=\"1\" class=\"dataframe\">\n",
       "  <thead>\n",
       "    <tr style=\"text-align: right;\">\n",
       "      <th></th>\n",
       "      <th>added_month</th>\n",
       "      <th>added_year</th>\n",
       "    </tr>\n",
       "  </thead>\n",
       "  <tbody>\n",
       "    <tr>\n",
       "      <th>0</th>\n",
       "      <td>September</td>\n",
       "      <td>2021</td>\n",
       "    </tr>\n",
       "    <tr>\n",
       "      <th>1</th>\n",
       "      <td>September</td>\n",
       "      <td>2021</td>\n",
       "    </tr>\n",
       "    <tr>\n",
       "      <th>2</th>\n",
       "      <td>September</td>\n",
       "      <td>2021</td>\n",
       "    </tr>\n",
       "    <tr>\n",
       "      <th>3</th>\n",
       "      <td>September</td>\n",
       "      <td>2021</td>\n",
       "    </tr>\n",
       "    <tr>\n",
       "      <th>4</th>\n",
       "      <td>September</td>\n",
       "      <td>2021</td>\n",
       "    </tr>\n",
       "    <tr>\n",
       "      <th>...</th>\n",
       "      <td>...</td>\n",
       "      <td>...</td>\n",
       "    </tr>\n",
       "    <tr>\n",
       "      <th>8802</th>\n",
       "      <td>November</td>\n",
       "      <td>2019</td>\n",
       "    </tr>\n",
       "    <tr>\n",
       "      <th>8803</th>\n",
       "      <td>July</td>\n",
       "      <td>2019</td>\n",
       "    </tr>\n",
       "    <tr>\n",
       "      <th>8804</th>\n",
       "      <td>November</td>\n",
       "      <td>2019</td>\n",
       "    </tr>\n",
       "    <tr>\n",
       "      <th>8805</th>\n",
       "      <td>January</td>\n",
       "      <td>2020</td>\n",
       "    </tr>\n",
       "    <tr>\n",
       "      <th>8806</th>\n",
       "      <td>March</td>\n",
       "      <td>2019</td>\n",
       "    </tr>\n",
       "  </tbody>\n",
       "</table>\n",
       "<p>8790 rows × 2 columns</p>\n",
       "</div>"
      ],
      "text/plain": [
       "     added_month added_year\n",
       "0      September       2021\n",
       "1      September       2021\n",
       "2      September       2021\n",
       "3      September       2021\n",
       "4      September       2021\n",
       "...          ...        ...\n",
       "8802    November       2019\n",
       "8803        July       2019\n",
       "8804    November       2019\n",
       "8805     January       2020\n",
       "8806       March       2019\n",
       "\n",
       "[8790 rows x 2 columns]"
      ]
     },
     "execution_count": 13,
     "metadata": {},
     "output_type": "execute_result"
    }
   ],
   "source": [
    "df['added_month'] = df['date_added'].apply(lambda x:x.split(',')[0].split()[0])\n",
    "df['added_year'] = df['date_added'].apply(lambda x:x.split(',')[1])\n",
    "df[['added_month','added_year']]"
   ]
  },
  {
   "cell_type": "code",
   "execution_count": 14,
   "id": "a71f05d4",
   "metadata": {
    "papermill": {
     "duration": 0.028295,
     "end_time": "2024-04-04T12:47:16.294040",
     "exception": false,
     "start_time": "2024-04-04T12:47:16.265745",
     "status": "completed"
    },
    "tags": []
   },
   "outputs": [],
   "source": [
    "df.drop('date_added', axis=1, inplace = True)"
   ]
  },
  {
   "cell_type": "code",
   "execution_count": 15,
   "id": "45cbe67e",
   "metadata": {
    "papermill": {
     "duration": 0.026729,
     "end_time": "2024-04-04T12:47:16.338345",
     "exception": false,
     "start_time": "2024-04-04T12:47:16.311616",
     "status": "completed"
    },
    "tags": []
   },
   "outputs": [],
   "source": [
    "df['added_year'] = df['added_year'].astype(int)"
   ]
  },
  {
   "cell_type": "markdown",
   "id": "89dc004a",
   "metadata": {
    "papermill": {
     "duration": 0.016978,
     "end_time": "2024-04-04T12:47:16.372571",
     "exception": false,
     "start_time": "2024-04-04T12:47:16.355593",
     "status": "completed"
    },
    "tags": []
   },
   "source": [
    "#### Droping rows in which added_year is less than release_year"
   ]
  },
  {
   "cell_type": "code",
   "execution_count": 16,
   "id": "7310c0ce",
   "metadata": {
    "papermill": {
     "duration": 0.077041,
     "end_time": "2024-04-04T12:47:16.466863",
     "exception": false,
     "start_time": "2024-04-04T12:47:16.389822",
     "status": "completed"
    },
    "tags": []
   },
   "outputs": [],
   "source": [
    "df.drop(df[df['added_year']<df['release_year']].index, inplace=True)"
   ]
  },
  {
   "cell_type": "code",
   "execution_count": 17,
   "id": "70c00683",
   "metadata": {
    "papermill": {
     "duration": 0.037133,
     "end_time": "2024-04-04T12:47:16.522158",
     "exception": false,
     "start_time": "2024-04-04T12:47:16.485025",
     "status": "completed"
    },
    "tags": []
   },
   "outputs": [
    {
     "data": {
      "text/html": [
       "<div>\n",
       "<style scoped>\n",
       "    .dataframe tbody tr th:only-of-type {\n",
       "        vertical-align: middle;\n",
       "    }\n",
       "\n",
       "    .dataframe tbody tr th {\n",
       "        vertical-align: top;\n",
       "    }\n",
       "\n",
       "    .dataframe thead th {\n",
       "        text-align: right;\n",
       "    }\n",
       "</style>\n",
       "<table border=\"1\" class=\"dataframe\">\n",
       "  <thead>\n",
       "    <tr style=\"text-align: right;\">\n",
       "      <th></th>\n",
       "      <th>show_id</th>\n",
       "      <th>type</th>\n",
       "      <th>title</th>\n",
       "      <th>director</th>\n",
       "      <th>cast</th>\n",
       "      <th>country</th>\n",
       "      <th>release_year</th>\n",
       "      <th>rating</th>\n",
       "      <th>duration</th>\n",
       "      <th>listed_in</th>\n",
       "      <th>description</th>\n",
       "      <th>added_month</th>\n",
       "      <th>added_year</th>\n",
       "    </tr>\n",
       "  </thead>\n",
       "  <tbody>\n",
       "    <tr>\n",
       "      <th>0</th>\n",
       "      <td>s1</td>\n",
       "      <td>Movie</td>\n",
       "      <td>Dick Johnson Is Dead</td>\n",
       "      <td>Kirsten Johnson</td>\n",
       "      <td>unknown</td>\n",
       "      <td>United states</td>\n",
       "      <td>2020</td>\n",
       "      <td>PG-13</td>\n",
       "      <td>90 min</td>\n",
       "      <td>Documentaries</td>\n",
       "      <td>As her father nears the end of his life, filmm...</td>\n",
       "      <td>September</td>\n",
       "      <td>2021</td>\n",
       "    </tr>\n",
       "    <tr>\n",
       "      <th>1</th>\n",
       "      <td>s2</td>\n",
       "      <td>TV Show</td>\n",
       "      <td>Blood &amp; Water</td>\n",
       "      <td>unknown</td>\n",
       "      <td>Ama Qamata, Khosi Ngema, Gail Mabalane, Thaban...</td>\n",
       "      <td>South africa</td>\n",
       "      <td>2021</td>\n",
       "      <td>TV-MA</td>\n",
       "      <td>2 Seasons</td>\n",
       "      <td>International TV Shows, TV Dramas, TV Mysteries</td>\n",
       "      <td>After crossing paths at a party, a Cape Town t...</td>\n",
       "      <td>September</td>\n",
       "      <td>2021</td>\n",
       "    </tr>\n",
       "    <tr>\n",
       "      <th>2</th>\n",
       "      <td>s3</td>\n",
       "      <td>TV Show</td>\n",
       "      <td>Ganglands</td>\n",
       "      <td>Julien Leclercq</td>\n",
       "      <td>Sami Bouajila, Tracy Gotoas, Samuel Jouy, Nabi...</td>\n",
       "      <td>Unknown</td>\n",
       "      <td>2021</td>\n",
       "      <td>TV-MA</td>\n",
       "      <td>1 Season</td>\n",
       "      <td>Crime TV Shows, International TV Shows, TV Act...</td>\n",
       "      <td>To protect his family from a powerful drug lor...</td>\n",
       "      <td>September</td>\n",
       "      <td>2021</td>\n",
       "    </tr>\n",
       "    <tr>\n",
       "      <th>3</th>\n",
       "      <td>s4</td>\n",
       "      <td>TV Show</td>\n",
       "      <td>Jailbirds New Orleans</td>\n",
       "      <td>unknown</td>\n",
       "      <td>unknown</td>\n",
       "      <td>Unknown</td>\n",
       "      <td>2021</td>\n",
       "      <td>TV-MA</td>\n",
       "      <td>1 Season</td>\n",
       "      <td>Docuseries, Reality TV</td>\n",
       "      <td>Feuds, flirtations and toilet talk go down amo...</td>\n",
       "      <td>September</td>\n",
       "      <td>2021</td>\n",
       "    </tr>\n",
       "    <tr>\n",
       "      <th>4</th>\n",
       "      <td>s5</td>\n",
       "      <td>TV Show</td>\n",
       "      <td>Kota Factory</td>\n",
       "      <td>unknown</td>\n",
       "      <td>Mayur More, Jitendra Kumar, Ranjan Raj, Alam K...</td>\n",
       "      <td>India</td>\n",
       "      <td>2021</td>\n",
       "      <td>TV-MA</td>\n",
       "      <td>2 Seasons</td>\n",
       "      <td>International TV Shows, Romantic TV Shows, TV ...</td>\n",
       "      <td>In a city of coaching centers known to train I...</td>\n",
       "      <td>September</td>\n",
       "      <td>2021</td>\n",
       "    </tr>\n",
       "  </tbody>\n",
       "</table>\n",
       "</div>"
      ],
      "text/plain": [
       "  show_id     type                  title         director  \\\n",
       "0      s1    Movie   Dick Johnson Is Dead  Kirsten Johnson   \n",
       "1      s2  TV Show          Blood & Water          unknown   \n",
       "2      s3  TV Show              Ganglands  Julien Leclercq   \n",
       "3      s4  TV Show  Jailbirds New Orleans          unknown   \n",
       "4      s5  TV Show           Kota Factory          unknown   \n",
       "\n",
       "                                                cast        country  \\\n",
       "0                                            unknown  United states   \n",
       "1  Ama Qamata, Khosi Ngema, Gail Mabalane, Thaban...   South africa   \n",
       "2  Sami Bouajila, Tracy Gotoas, Samuel Jouy, Nabi...        Unknown   \n",
       "3                                            unknown        Unknown   \n",
       "4  Mayur More, Jitendra Kumar, Ranjan Raj, Alam K...          India   \n",
       "\n",
       "   release_year rating   duration  \\\n",
       "0          2020  PG-13     90 min   \n",
       "1          2021  TV-MA  2 Seasons   \n",
       "2          2021  TV-MA   1 Season   \n",
       "3          2021  TV-MA   1 Season   \n",
       "4          2021  TV-MA  2 Seasons   \n",
       "\n",
       "                                           listed_in  \\\n",
       "0                                      Documentaries   \n",
       "1    International TV Shows, TV Dramas, TV Mysteries   \n",
       "2  Crime TV Shows, International TV Shows, TV Act...   \n",
       "3                             Docuseries, Reality TV   \n",
       "4  International TV Shows, Romantic TV Shows, TV ...   \n",
       "\n",
       "                                         description added_month  added_year  \n",
       "0  As her father nears the end of his life, filmm...   September        2021  \n",
       "1  After crossing paths at a party, a Cape Town t...   September        2021  \n",
       "2  To protect his family from a powerful drug lor...   September        2021  \n",
       "3  Feuds, flirtations and toilet talk go down amo...   September        2021  \n",
       "4  In a city of coaching centers known to train I...   September        2021  "
      ]
     },
     "execution_count": 17,
     "metadata": {},
     "output_type": "execute_result"
    }
   ],
   "source": [
    "df.head()"
   ]
  },
  {
   "cell_type": "markdown",
   "id": "4b79416a",
   "metadata": {
    "papermill": {
     "duration": 0.017478,
     "end_time": "2024-04-04T12:47:16.557405",
     "exception": false,
     "start_time": "2024-04-04T12:47:16.539927",
     "status": "completed"
    },
    "tags": []
   },
   "source": [
    "### **Univariate Analysis**"
   ]
  },
  {
   "cell_type": "markdown",
   "id": "5064e8bb",
   "metadata": {
    "papermill": {
     "duration": 0.017074,
     "end_time": "2024-04-04T12:47:16.591947",
     "exception": false,
     "start_time": "2024-04-04T12:47:16.574873",
     "status": "completed"
    },
    "tags": []
   },
   "source": [
    "#### Analyzing 'Type' Feature"
   ]
  },
  {
   "cell_type": "code",
   "execution_count": 18,
   "id": "4b9bcd36",
   "metadata": {
    "papermill": {
     "duration": 0.027248,
     "end_time": "2024-04-04T12:47:16.636557",
     "exception": false,
     "start_time": "2024-04-04T12:47:16.609309",
     "status": "completed"
    },
    "tags": []
   },
   "outputs": [
    {
     "data": {
      "text/plain": [
       "2"
      ]
     },
     "execution_count": 18,
     "metadata": {},
     "output_type": "execute_result"
    }
   ],
   "source": [
    "# Number of unique values in the 'type' column\n",
    "\n",
    "df['type'].nunique()"
   ]
  },
  {
   "cell_type": "code",
   "execution_count": 19,
   "id": "0e2e8f00",
   "metadata": {
    "papermill": {
     "duration": 0.028117,
     "end_time": "2024-04-04T12:47:16.682880",
     "exception": false,
     "start_time": "2024-04-04T12:47:16.654763",
     "status": "completed"
    },
    "tags": []
   },
   "outputs": [
    {
     "data": {
      "text/plain": [
       "type\n",
       "Movie      6124\n",
       "TV Show    2652\n",
       "Name: count, dtype: int64"
      ]
     },
     "execution_count": 19,
     "metadata": {},
     "output_type": "execute_result"
    }
   ],
   "source": [
    "type_counts = df['type'].value_counts()\n",
    "type_counts"
   ]
  },
  {
   "cell_type": "code",
   "execution_count": 20,
   "id": "247845a1",
   "metadata": {
    "papermill": {
     "duration": 0.303054,
     "end_time": "2024-04-04T12:47:17.003255",
     "exception": false,
     "start_time": "2024-04-04T12:47:16.700201",
     "status": "completed"
    },
    "tags": []
   },
   "outputs": [
    {
     "data": {
      "text/plain": [
       "<Axes: xlabel='type', ylabel='count'>"
      ]
     },
     "execution_count": 20,
     "metadata": {},
     "output_type": "execute_result"
    },
    {
     "data": {
      "image/png": "[encoded data removed]",
      "text/plain": [
       "<Figure size 640x480 with 1 Axes>"
      ]
     },
     "metadata": {},
     "output_type": "display_data"
    }
   ],
   "source": [
    "sns.countplot(x = df['type'],width=0.5)"
   ]
  },
  {
   "cell_type": "code",
   "execution_count": 21,
   "id": "8fc8a3fc-624b-457e-8aef-de66760d1ee8",
   "metadata": {},
   "outputs": [
    {
     "data": {
      "image/png": "[encoded data removed]",
      "text/plain": [
       "<Figure size 640x480 with 1 Axes>"
      ]
     },
     "metadata": {},
     "output_type": "display_data"
    }
   ],
   "source": [
    "plt.pie(type_counts, labels=type_counts.index, explode=[.2, 0])\n",
    "plt.title('The Difference in the Type of Contents')\n",
    "plt.show()"
   ]
  },
  {
   "cell_type": "code",
   "execution_count": 22,
   "id": "2b413291",
   "metadata": {
    "papermill": {
     "duration": 0.028072,
     "end_time": "2024-04-04T12:47:17.049896",
     "exception": false,
     "start_time": "2024-04-04T12:47:17.021824",
     "status": "completed"
    },
    "tags": []
   },
   "outputs": [
    {
     "name": "stdout",
     "output_type": "stream",
     "text": [
      "On Netflix, 69.78% are Movies and 30.22% are TV shows.\n"
     ]
    }
   ],
   "source": [
    "# Calculate percentages\n",
    "movie_percentage = round((type_counts.iloc[0] / type_counts.sum()) * 100, 2)\n",
    "tv_show_percentage = round((type_counts.iloc[1] / type_counts.sum()) * 100, 2)\n",
    "\n",
    "# Print percentages\n",
    "print('On Netflix, ' + str(movie_percentage) + '% are Movies and ' + str(tv_show_percentage) + '% are TV shows.')"
   ]
  },
  {
   "cell_type": "markdown",
   "id": "924e4e8c",
   "metadata": {
    "papermill": {
     "duration": 0.017751,
     "end_time": "2024-04-04T12:47:17.085914",
     "exception": false,
     "start_time": "2024-04-04T12:47:17.068163",
     "status": "completed"
    },
    "tags": []
   },
   "source": [
    "#### Analyzing 'director' feature"
   ]
  },
  {
   "cell_type": "code",
   "execution_count": 23,
   "id": "592ae5ae",
   "metadata": {
    "papermill": {
     "duration": 0.02939,
     "end_time": "2024-04-04T12:47:17.133796",
     "exception": false,
     "start_time": "2024-04-04T12:47:17.104406",
     "status": "completed"
    },
    "tags": []
   },
   "outputs": [
    {
     "data": {
      "text/plain": [
       "4524"
      ]
     },
     "execution_count": 23,
     "metadata": {},
     "output_type": "execute_result"
    }
   ],
   "source": [
    "# The number of unique values in the 'director' column\n",
    "\n",
    "df['director'].nunique()"
   ]
  },
  {
   "cell_type": "code",
   "execution_count": 24,
   "id": "326ebde1",
   "metadata": {
    "papermill": {
     "duration": 0.034309,
     "end_time": "2024-04-04T12:47:17.186343",
     "exception": false,
     "start_time": "2024-04-04T12:47:17.152034",
     "status": "completed"
    },
    "tags": []
   },
   "outputs": [
    {
     "data": {
      "text/plain": [
       "director\n",
       "unknown                           2610\n",
       "Rajiv Chilaka                       19\n",
       "Raúl Campos, Jan Suter              18\n",
       "Marcus Raboy                        16\n",
       "Suhas Kadav                         16\n",
       "                                  ... \n",
       "Raymie Muzquiz, Stu Livingston       1\n",
       "Joe Menendez                         1\n",
       "Eric Bross                           1\n",
       "Will Eisenberg                       1\n",
       "Mozez Singh                          1\n",
       "Name: count, Length: 4524, dtype: int64"
      ]
     },
     "execution_count": 24,
     "metadata": {},
     "output_type": "execute_result"
    }
   ],
   "source": [
    "director_counts = df['director'].value_counts()\n",
    "director_counts"
   ]
  },
  {
   "cell_type": "markdown",
   "id": "4dc1ec0c",
   "metadata": {
    "papermill": {
     "duration": 0.018595,
     "end_time": "2024-04-04T12:47:17.224281",
     "exception": false,
     "start_time": "2024-04-04T12:47:17.205686",
     "status": "completed"
    },
    "tags": []
   },
   "source": [
    "##### 'Rajiv Chilaka' has released highest no. of shows."
   ]
  },
  {
   "cell_type": "markdown",
   "id": "ee720d99",
   "metadata": {
    "papermill": {
     "duration": 0.018543,
     "end_time": "2024-04-04T12:47:17.261609",
     "exception": false,
     "start_time": "2024-04-04T12:47:17.243066",
     "status": "completed"
    },
    "tags": []
   },
   "source": [
    "#### Analyzing 'country' feature"
   ]
  },
  {
   "cell_type": "code",
   "execution_count": 25,
   "id": "6cc716d7",
   "metadata": {
    "papermill": {
     "duration": 0.029353,
     "end_time": "2024-04-04T12:47:17.309799",
     "exception": false,
     "start_time": "2024-04-04T12:47:17.280446",
     "status": "completed"
    },
    "tags": []
   },
   "outputs": [
    {
     "data": {
      "text/plain": [
       "746"
      ]
     },
     "execution_count": 25,
     "metadata": {},
     "output_type": "execute_result"
    }
   ],
   "source": [
    "# The number of unique values in the 'country' column\n",
    "\n",
    "df['country'].nunique()"
   ]
  },
  {
   "cell_type": "code",
   "execution_count": 26,
   "id": "a04903ea",
   "metadata": {
    "papermill": {
     "duration": 0.033024,
     "end_time": "2024-04-04T12:47:17.362325",
     "exception": false,
     "start_time": "2024-04-04T12:47:17.329301",
     "status": "completed"
    },
    "tags": []
   },
   "outputs": [
    {
     "data": {
      "text/plain": [
       "country\n",
       "United states                             2803\n",
       "India                                      972\n",
       "Unknown                                    829\n",
       "United kingdom                             418\n",
       "Japan                                      243\n",
       "                                          ... \n",
       "Romania, bulgaria, hungary                   1\n",
       "Uruguay, guatemala                           1\n",
       "France, senegal, belgium                     1\n",
       "Mexico, united states, spain, colombia       1\n",
       "United arab emirates, jordan                 1\n",
       "Name: count, Length: 746, dtype: int64"
      ]
     },
     "execution_count": 26,
     "metadata": {},
     "output_type": "execute_result"
    }
   ],
   "source": [
    "country_counts = df['country'].value_counts()\n",
    "country_counts"
   ]
  },
  {
   "cell_type": "code",
   "execution_count": 27,
   "id": "ac80e226",
   "metadata": {
    "papermill": {
     "duration": 0.384429,
     "end_time": "2024-04-04T12:47:17.766178",
     "exception": false,
     "start_time": "2024-04-04T12:47:17.381749",
     "status": "completed"
    },
    "tags": []
   },
   "outputs": [
    {
     "data": {
      "text/plain": [
       "<Axes: xlabel='country', ylabel='count'>"
      ]
     },
     "execution_count": 27,
     "metadata": {},
     "output_type": "execute_result"
    },
    {
     "data": {
      "image/png": "[encoded data removed]",
      "text/plain": [
       "<Figure size 640x480 with 1 Axes>"
      ]
     },
     "metadata": {},
     "output_type": "display_data"
    }
   ],
   "source": [
    "top_countries = country_counts.nlargest(5)\n",
    "top_countries\n",
    "sns.countplot(x=df['country'], order=top_countries.index, hue=df['country'], palette='Set2')"
   ]
  },
  {
   "cell_type": "markdown",
   "id": "1c712213",
   "metadata": {
    "papermill": {
     "duration": 0.019629,
     "end_time": "2024-04-04T12:47:17.805689",
     "exception": false,
     "start_time": "2024-04-04T12:47:17.786060",
     "status": "completed"
    },
    "tags": []
   },
   "source": [
    "##### On Netflix, Most of the shows are from USA and India"
   ]
  },
  {
   "cell_type": "markdown",
   "id": "43fd13ba",
   "metadata": {
    "papermill": {
     "duration": 0.019093,
     "end_time": "2024-04-04T12:47:17.844542",
     "exception": false,
     "start_time": "2024-04-04T12:47:17.825449",
     "status": "completed"
    },
    "tags": []
   },
   "source": [
    "#### Analyzing 'added_year' & 'added_month' Feature"
   ]
  },
  {
   "cell_type": "code",
   "execution_count": 28,
   "id": "5b891def",
   "metadata": {
    "papermill": {
     "duration": 0.031527,
     "end_time": "2024-04-04T12:47:17.895616",
     "exception": false,
     "start_time": "2024-04-04T12:47:17.864089",
     "status": "completed"
    },
    "tags": []
   },
   "outputs": [
    {
     "data": {
      "text/plain": [
       "14"
      ]
     },
     "execution_count": 28,
     "metadata": {},
     "output_type": "execute_result"
    }
   ],
   "source": [
    "# The number of unique values in the 'added_year' column\n",
    "\n",
    "df['added_year'].nunique()"
   ]
  },
  {
   "cell_type": "code",
   "execution_count": 29,
   "id": "3c7f4492",
   "metadata": {
    "papermill": {
     "duration": 0.032423,
     "end_time": "2024-04-04T12:47:17.948111",
     "exception": false,
     "start_time": "2024-04-04T12:47:17.915688",
     "status": "completed"
    },
    "tags": []
   },
   "outputs": [
    {
     "data": {
      "text/plain": [
       "added_year\n",
       "2019    2012\n",
       "2020    1876\n",
       "2018    1645\n",
       "2021    1498\n",
       "2017    1184\n",
       "2016     424\n",
       "2015      82\n",
       "2014      24\n",
       "2011      13\n",
       "2013      10\n",
       "2012       3\n",
       "2009       2\n",
       "2008       2\n",
       "2010       1\n",
       "Name: count, dtype: int64"
      ]
     },
     "execution_count": 29,
     "metadata": {},
     "output_type": "execute_result"
    }
   ],
   "source": [
    "df['added_year'].value_counts()"
   ]
  },
  {
   "cell_type": "code",
   "execution_count": 30,
   "id": "acdc6675",
   "metadata": {
    "papermill": {
     "duration": 0.493227,
     "end_time": "2024-04-04T12:47:18.461390",
     "exception": false,
     "start_time": "2024-04-04T12:47:17.968163",
     "status": "completed"
    },
    "tags": []
   },
   "outputs": [
    {
     "data": {
      "text/plain": [
       "<Axes: xlabel='added_year', ylabel='count'>"
      ]
     },
     "execution_count": 30,
     "metadata": {},
     "output_type": "execute_result"
    },
    {
     "data": {
      "image/png": "[encoded data removed]",
      "text/plain": [
       "<Figure size 1200x500 with 1 Axes>"
      ]
     },
     "metadata": {},
     "output_type": "display_data"
    }
   ],
   "source": [
    "plt.figure(figsize=(12,5))\n",
    "sns.countplot(x = df['added_year'], hue=df['added_year'], palette='Set2')"
   ]
  },
  {
   "cell_type": "markdown",
   "id": "af2b4ea3",
   "metadata": {
    "papermill": {
     "duration": 0.022604,
     "end_time": "2024-04-04T12:47:18.504699",
     "exception": false,
     "start_time": "2024-04-04T12:47:18.482095",
     "status": "completed"
    },
    "tags": []
   },
   "source": [
    "##### In 2019, Highest no. of shows were added."
   ]
  },
  {
   "cell_type": "code",
   "execution_count": 31,
   "id": "d5a4cb47",
   "metadata": {
    "papermill": {
     "duration": 0.03412,
     "end_time": "2024-04-04T12:47:18.560207",
     "exception": false,
     "start_time": "2024-04-04T12:47:18.526087",
     "status": "completed"
    },
    "tags": []
   },
   "outputs": [
    {
     "data": {
      "text/plain": [
       "12"
      ]
     },
     "execution_count": 31,
     "metadata": {},
     "output_type": "execute_result"
    }
   ],
   "source": [
    "# The number of unique values in the 'added_month' column\n",
    "\n",
    "df['added_month'].nunique()"
   ]
  },
  {
   "cell_type": "code",
   "execution_count": 32,
   "id": "ed1c138c",
   "metadata": {
    "papermill": {
     "duration": 0.034806,
     "end_time": "2024-04-04T12:47:18.615868",
     "exception": false,
     "start_time": "2024-04-04T12:47:18.581062",
     "status": "completed"
    },
    "tags": []
   },
   "outputs": [
    {
     "data": {
      "text/plain": [
       "added_month\n",
       "July         826\n",
       "December     808\n",
       "September    769\n",
       "April        763\n",
       "October      757\n",
       "August       754\n",
       "March        740\n",
       "January      737\n",
       "June         728\n",
       "November     703\n",
       "May          630\n",
       "February     561\n",
       "Name: count, dtype: int64"
      ]
     },
     "execution_count": 32,
     "metadata": {},
     "output_type": "execute_result"
    }
   ],
   "source": [
    "df['added_month'].value_counts()"
   ]
  },
  {
   "cell_type": "code",
   "execution_count": 33,
   "id": "669a7e26",
   "metadata": {
    "papermill": {
     "duration": 0.460579,
     "end_time": "2024-04-04T12:47:19.098020",
     "exception": false,
     "start_time": "2024-04-04T12:47:18.637441",
     "status": "completed"
    },
    "tags": []
   },
   "outputs": [
    {
     "data": {
      "text/plain": [
       "<Axes: xlabel='added_month', ylabel='count'>"
      ]
     },
     "execution_count": 33,
     "metadata": {},
     "output_type": "execute_result"
    },
    {
     "data": {
      "image/png": "[encoded data removed]",
      "text/plain": [
       "<Figure size 1200x500 with 1 Axes>"
      ]
     },
     "metadata": {},
     "output_type": "display_data"
    }
   ],
   "source": [
    "plt.figure(figsize=(12,5))\n",
    "sns.countplot(x = df['added_month'], hue=df['added_month'], palette='Set2')"
   ]
  },
  {
   "cell_type": "markdown",
   "id": "3647b523",
   "metadata": {
    "papermill": {
     "duration": 0.021441,
     "end_time": "2024-04-04T12:47:19.141421",
     "exception": false,
     "start_time": "2024-04-04T12:47:19.119980",
     "status": "completed"
    },
    "tags": []
   },
   "source": [
    "##### July and December are the months in which most shows are released"
   ]
  },
  {
   "cell_type": "markdown",
   "id": "002332c7",
   "metadata": {
    "papermill": {
     "duration": 0.021009,
     "end_time": "2024-04-04T12:47:19.184723",
     "exception": false,
     "start_time": "2024-04-04T12:47:19.163714",
     "status": "completed"
    },
    "tags": []
   },
   "source": [
    "### Analyzing 'rating' feature"
   ]
  },
  {
   "cell_type": "code",
   "execution_count": 34,
   "id": "83133f1a",
   "metadata": {
    "papermill": {
     "duration": 0.031743,
     "end_time": "2024-04-04T12:47:19.239514",
     "exception": false,
     "start_time": "2024-04-04T12:47:19.207771",
     "status": "completed"
    },
    "tags": []
   },
   "outputs": [
    {
     "data": {
      "text/plain": [
       "14"
      ]
     },
     "execution_count": 34,
     "metadata": {},
     "output_type": "execute_result"
    }
   ],
   "source": [
    "# The number of unique values in the 'rating' column\n",
    "\n",
    "df['rating'].nunique()"
   ]
  },
  {
   "cell_type": "code",
   "execution_count": 35,
   "id": "86b1d0e0",
   "metadata": {
    "papermill": {
     "duration": 0.033561,
     "end_time": "2024-04-04T12:47:19.294409",
     "exception": false,
     "start_time": "2024-04-04T12:47:19.260848",
     "status": "completed"
    },
    "tags": []
   },
   "outputs": [
    {
     "data": {
      "text/plain": [
       "rating\n",
       "TV-MA       0.364061\n",
       "TV-14       0.245670\n",
       "TV-PG       0.097995\n",
       "R           0.091044\n",
       "PG-13       0.055834\n",
       "TV-Y7       0.037830\n",
       "TV-Y        0.034754\n",
       "PG          0.032703\n",
       "TV-G        0.025068\n",
       "NR          0.009002\n",
       "G           0.004672\n",
       "TV-Y7-FV    0.000684\n",
       "NC-17       0.000342\n",
       "UR          0.000342\n",
       "Name: proportion, dtype: float64"
      ]
     },
     "execution_count": 35,
     "metadata": {},
     "output_type": "execute_result"
    }
   ],
   "source": [
    "# Normalize=True returns the relative frequencies of the unique values instead of their counts.\n",
    "\n",
    "df['rating'].value_counts(normalize=True)"
   ]
  },
  {
   "cell_type": "code",
   "execution_count": 36,
   "id": "dd3f38f5",
   "metadata": {
    "papermill": {
     "duration": 0.434517,
     "end_time": "2024-04-04T12:47:19.751966",
     "exception": false,
     "start_time": "2024-04-04T12:47:19.317449",
     "status": "completed"
    },
    "tags": []
   },
   "outputs": [
    {
     "data": {
      "text/plain": [
       "<Axes: xlabel='count', ylabel='rating'>"
      ]
     },
     "execution_count": 36,
     "metadata": {},
     "output_type": "execute_result"
    },
    {
     "data": {
      "image/png": "[encoded data removed]",
      "text/plain": [
       "<Figure size 640x480 with 1 Axes>"
      ]
     },
     "metadata": {},
     "output_type": "display_data"
    }
   ],
   "source": [
    "sns.countplot(y = df['rating'], hue=df['rating'], palette='Set2')"
   ]
  },
  {
   "cell_type": "markdown",
   "id": "7f8b7066",
   "metadata": {
    "papermill": {
     "duration": 0.022385,
     "end_time": "2024-04-04T12:47:19.797303",
     "exception": false,
     "start_time": "2024-04-04T12:47:19.774918",
     "status": "completed"
    },
    "tags": []
   },
   "source": [
    "##### Most of the shows have got 'TV-MA' and 'TV-14' rating"
   ]
  },
  {
   "cell_type": "markdown",
   "id": "5da7f528",
   "metadata": {
    "papermill": {
     "duration": 0.021788,
     "end_time": "2024-04-04T12:47:19.841412",
     "exception": false,
     "start_time": "2024-04-04T12:47:19.819624",
     "status": "completed"
    },
    "tags": []
   },
   "source": [
    "### **Bivariate Analysis**"
   ]
  },
  {
   "cell_type": "markdown",
   "id": "c3fbe607",
   "metadata": {
    "papermill": {
     "duration": 0.022216,
     "end_time": "2024-04-04T12:47:19.885717",
     "exception": false,
     "start_time": "2024-04-04T12:47:19.863501",
     "status": "completed"
    },
    "tags": []
   },
   "source": [
    "#### Which 'type' is Popular in the Top Countries?"
   ]
  },
  {
   "cell_type": "code",
   "execution_count": 37,
   "id": "39ab5ee7",
   "metadata": {
    "papermill": {
     "duration": 0.406567,
     "end_time": "2024-04-04T12:47:20.314162",
     "exception": false,
     "start_time": "2024-04-04T12:47:19.907595",
     "status": "completed"
    },
    "tags": []
   },
   "outputs": [
    {
     "data": {
      "text/plain": [
       "<Axes: xlabel='country', ylabel='count'>"
      ]
     },
     "execution_count": 37,
     "metadata": {},
     "output_type": "execute_result"
    },
    {
     "data": {
      "image/png": "[encoded data removed]",
      "text/plain": [
       "<Figure size 640x480 with 1 Axes>"
      ]
     },
     "metadata": {},
     "output_type": "display_data"
    }
   ],
   "source": [
    "sns.countplot(x = df['country'], order = top_countries.index, hue = df['type'])"
   ]
  },
  {
   "cell_type": "markdown",
   "id": "a88bf58f",
   "metadata": {
    "papermill": {
     "duration": 0.029252,
     "end_time": "2024-04-04T12:47:20.365909",
     "exception": false,
     "start_time": "2024-04-04T12:47:20.336657",
     "status": "completed"
    },
    "tags": []
   },
   "source": [
    "##### In United states, Movies are more popular than TV shows.\n",
    "##### In India, Movies are more popular than TV shows.\n",
    "##### In United Kingdom, Movies and TV Show are equally popular.\n",
    "##### In Japan, TV Shows are more popular than Movies."
   ]
  },
  {
   "cell_type": "markdown",
   "id": "26eca90e",
   "metadata": {
    "papermill": {
     "duration": 0.025443,
     "end_time": "2024-04-04T12:47:20.422349",
     "exception": false,
     "start_time": "2024-04-04T12:47:20.396906",
     "status": "completed"
    },
    "tags": []
   },
   "source": [
    "#### What is the most popular 'rating' in the top countries?"
   ]
  },
  {
   "cell_type": "code",
   "execution_count": 38,
   "id": "9173d684",
   "metadata": {
    "papermill": {
     "duration": 0.750054,
     "end_time": "2024-04-04T12:47:21.195595",
     "exception": false,
     "start_time": "2024-04-04T12:47:20.445541",
     "status": "completed"
    },
    "tags": []
   },
   "outputs": [
    {
     "data": {
      "text/plain": [
       "<Axes: xlabel='country', ylabel='count'>"
      ]
     },
     "execution_count": 38,
     "metadata": {},
     "output_type": "execute_result"
    },
    {
     "data": {
      "image/png": "[encoded data removed]",
      "text/plain": [
       "<Figure size 1200x500 with 1 Axes>"
      ]
     },
     "metadata": {},
     "output_type": "display_data"
    }
   ],
   "source": [
    "plt.figure(figsize=(12,5))\n",
    "sns.countplot(x = df['country'], order = top_countries.index, hue =df['rating'] )"
   ]
  },
  {
   "cell_type": "markdown",
   "id": "97d2bda4",
   "metadata": {
    "papermill": {
     "duration": 0.025027,
     "end_time": "2024-04-04T12:47:21.246419",
     "exception": false,
     "start_time": "2024-04-04T12:47:21.221392",
     "status": "completed"
    },
    "tags": []
   },
   "source": [
    "##### In the United States, most shows are rated 'TV-MA.' \n",
    "##### Moving over to India, the majority of shows have a 'TV-14' rating. \n",
    "##### In the United Kingdom, where you'll find that most shows are rated 'TV-MA' as well. \n",
    "##### In Japan, the common rating for most shows is 'TV-14."
   ]
  },
  {
   "cell_type": "markdown",
   "id": "21a8a258",
   "metadata": {
    "papermill": {
     "duration": 0.023495,
     "end_time": "2024-04-04T12:47:21.294188",
     "exception": false,
     "start_time": "2024-04-04T12:47:21.270693",
     "status": "completed"
    },
    "tags": []
   },
   "source": [
    "### **Summary**"
   ]
  },
  {
   "cell_type": "markdown",
   "id": "ef916ddb",
   "metadata": {
    "papermill": {
     "duration": 0.023136,
     "end_time": "2024-04-04T12:47:21.340934",
     "exception": false,
     "start_time": "2024-04-04T12:47:21.317798",
     "status": "completed"
    },
    "raw_mimetype": "text/markdown",
    "tags": []
   },
   "source": [
    "##### •69.78% of content on Netflix consists of movies, while 30.22% are TV shows.\n",
    "##### •'Rajiv Chilaka' has released the highest number of shows.\n",
    "##### •A significant portion of Netflix shows originates from the USA and India.\n",
    "##### •The highest number of shows was added in the year 2019.\n",
    "##### •July and December stand out as the months when the highest number of shows are released.\n",
    "##### •The most common ratings for shows on Netflix are 'TV-MA' and 'TV-14.'\n",
    "###### •In the United States and India, movies are more popular than TV shows.\n",
    "##### •In the United Kingdom, both movies and TV shows enjoy equal popularity.\n",
    "##### •Conversely, in Japan, TV shows are more favored than movies.\n",
    "##### •In the United States, most shows are rated 'TV-MA.'\n",
    "##### •In India, the majority of shows have a 'TV-14' rating.\n",
    "##### •The United Kingdom sees a prevalence of 'TV-MA' ratings.\n",
    "##### •Finally, in Japan, the common rating for most shows is 'TV-14.'"
   ]
  }
 ],
 "metadata": {
  "celltoolbar": "Raw Cell Format",
  "kaggle": {
   "accelerator": "none",
   "dataSources": [
    {
     "datasetId": 434238,
     "sourceId": 2654038,
     "sourceType": "datasetVersion"
    }
   ],
   "dockerImageVersionId": 30673,
   "isGpuEnabled": false,
   "isInternetEnabled": true,
   "language": "python",
   "sourceType": "notebook"
  },
  "kernelspec": {
   "display_name": "Python 3 (ipykernel)",
   "language": "python",
   "name": "python3"
  },
  "language_info": {
   "codemirror_mode": {
    "name": "ipython",
    "version": 3
   },
   "file_extension": ".py",
   "mimetype": "text/x-python",
   "name": "python",
   "nbconvert_exporter": "python",
   "pygments_lexer": "ipython3",
   "version": "3.12.2"
  },
  "papermill": {
   "default_parameters": {},
   "duration": 11.186891,
   "end_time": "2024-04-04T12:47:21.884095",
   "environment_variables": {},
   "exception": null,
   "input_path": "__notebook__.ipynb",
   "output_path": "__notebook__.ipynb",
   "parameters": {},
   "start_time": "2024-04-04T12:47:10.697204",
   "version": "2.5.0"
  }
 },
 "nbformat": 4,
 "nbformat_minor": 5
}

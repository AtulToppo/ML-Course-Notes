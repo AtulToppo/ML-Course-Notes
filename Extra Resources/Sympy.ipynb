{
 "cells": [
  {
   "cell_type": "markdown",
   "id": "2934f782",
   "metadata": {},
   "source": [
    "# Sympy Library\n",
    "SymPy is a Python library for symbolic mathematics. It aims to become a full-featured computer algebra system (CAS) while keeping the code as simple as possible in order to be comprehensible and easily extensible. SymPy is written entirely in Python.\n"
   ]
  },
  {
   "cell_type": "code",
   "execution_count": 1,
   "id": "c37cf3d3",
   "metadata": {},
   "outputs": [
    {
     "data": {
      "text/plain": [
       "3.0"
      ]
     },
     "execution_count": 1,
     "metadata": {},
     "output_type": "execute_result"
    }
   ],
   "source": [
    "import math \n",
    "math.sqrt(9)"
   ]
  },
  {
   "cell_type": "code",
   "execution_count": 2,
   "id": "524303b8",
   "metadata": {},
   "outputs": [
    {
     "data": {
      "text/plain": [
       "2.8284271247461903"
      ]
     },
     "execution_count": 2,
     "metadata": {},
     "output_type": "execute_result"
    }
   ],
   "source": [
    "#this is not exact\n",
    "\n",
    "import math\n",
    "math.sqrt(8)"
   ]
  },
  {
   "cell_type": "code",
   "execution_count": 3,
   "id": "1567d1e5",
   "metadata": {},
   "outputs": [
    {
     "data": {
      "text/latex": [
       "$\\displaystyle 2 \\sqrt{2}$"
      ],
      "text/plain": [
       "2*sqrt(2)"
      ]
     },
     "execution_count": 3,
     "metadata": {},
     "output_type": "execute_result"
    }
   ],
   "source": [
    "import sympy as sp\n",
    "sp.sqrt(8)"
   ]
  },
  {
   "cell_type": "code",
   "execution_count": 4,
   "id": "f5a53485",
   "metadata": {},
   "outputs": [],
   "source": [
    "#To declace x, y, z\n",
    "\n",
    "import sympy as sp\n",
    "x,y,z=sp.symbols('x y z')"
   ]
  },
  {
   "cell_type": "code",
   "execution_count": 5,
   "id": "986dfc17",
   "metadata": {},
   "outputs": [
    {
     "data": {
      "text/latex": [
       "$\\displaystyle x + 2 y + 1$"
      ],
      "text/plain": [
       "x + 2*y + 1"
      ]
     },
     "execution_count": 5,
     "metadata": {},
     "output_type": "execute_result"
    }
   ],
   "source": [
    "expr0 = x + 2*y + 1\n",
    "expr0"
   ]
  },
  {
   "cell_type": "code",
   "execution_count": 6,
   "id": "36fdce13",
   "metadata": {},
   "outputs": [
    {
     "data": {
      "text/latex": [
       "$\\displaystyle x + 2 y$"
      ],
      "text/plain": [
       "x + 2*y"
      ]
     },
     "execution_count": 6,
     "metadata": {},
     "output_type": "execute_result"
    }
   ],
   "source": [
    "expr0 - 1"
   ]
  },
  {
   "cell_type": "code",
   "execution_count": 7,
   "id": "af2ceda0",
   "metadata": {},
   "outputs": [
    {
     "data": {
      "text/latex": [
       "$\\displaystyle \\left(x + \\pi\\right)^{2}$"
      ],
      "text/plain": [
       "(x + pi)**2"
      ]
     },
     "execution_count": 7,
     "metadata": {},
     "output_type": "execute_result"
    }
   ],
   "source": [
    "(x+sp.pi)**2"
   ]
  },
  {
   "cell_type": "code",
   "execution_count": 8,
   "id": "818b3c7d",
   "metadata": {},
   "outputs": [
    {
     "data": {
      "text/latex": [
       "$\\displaystyle x^{3} + 14 x^{2} + 53 x + 40$"
      ],
      "text/plain": [
       "x**3 + 14*x**2 + 53*x + 40"
      ]
     },
     "execution_count": 8,
     "metadata": {},
     "output_type": "execute_result"
    }
   ],
   "source": [
    "expr1 = (x+1)*(x+5)*(x+8)\n",
    "sp.expand(expr1)"
   ]
  },
  {
   "cell_type": "code",
   "execution_count": 9,
   "id": "831a55e9",
   "metadata": {},
   "outputs": [
    {
     "data": {
      "text/latex": [
       "$\\displaystyle \\sin{\\left(x + y \\right)}$"
      ],
      "text/plain": [
       "sin(x + y)"
      ]
     },
     "execution_count": 9,
     "metadata": {},
     "output_type": "execute_result"
    }
   ],
   "source": [
    "sp.expand(sp.sin(x+y))"
   ]
  },
  {
   "cell_type": "code",
   "execution_count": 10,
   "id": "b44e9d13",
   "metadata": {},
   "outputs": [
    {
     "data": {
      "text/latex": [
       "$\\displaystyle \\sin{\\left(x \\right)} \\cos{\\left(y \\right)} + \\sin{\\left(y \\right)} \\cos{\\left(x \\right)}$"
      ],
      "text/plain": [
       "sin(x)*cos(y) + sin(y)*cos(x)"
      ]
     },
     "execution_count": 10,
     "metadata": {},
     "output_type": "execute_result"
    }
   ],
   "source": [
    "sp.expand(sp.sin(x+y), trig = True)"
   ]
  },
  {
   "cell_type": "code",
   "execution_count": 11,
   "id": "4213af39",
   "metadata": {},
   "outputs": [
    {
     "data": {
      "text/latex": [
       "$\\displaystyle \\left(x + 1\\right) \\left(x + 5\\right) \\left(x + 8\\right)$"
      ],
      "text/plain": [
       "(x + 1)*(x + 5)*(x + 8)"
      ]
     },
     "execution_count": 11,
     "metadata": {},
     "output_type": "execute_result"
    }
   ],
   "source": [
    "sp.factor(x**3 + 14*x**2 + 53*x + 40)"
   ]
  },
  {
   "cell_type": "code",
   "execution_count": 12,
   "id": "4d20ef61",
   "metadata": {},
   "outputs": [
    {
     "data": {
      "text/latex": [
       "$\\displaystyle - \\frac{1}{x + 2} + \\frac{1}{x + 1}$"
      ],
      "text/plain": [
       "-1/(x + 2) + 1/(x + 1)"
      ]
     },
     "execution_count": 12,
     "metadata": {},
     "output_type": "execute_result"
    }
   ],
   "source": [
    "expr2=1/((x+1)*(x+2))\n",
    "sp.apart(expr2)"
   ]
  },
  {
   "cell_type": "code",
   "execution_count": 13,
   "id": "11dadbd4",
   "metadata": {},
   "outputs": [
    {
     "data": {
      "text/latex": [
       "$\\displaystyle \\frac{1}{\\left(x + 1\\right) \\left(x + 2\\right)}$"
      ],
      "text/plain": [
       "1/((x + 1)*(x + 2))"
      ]
     },
     "execution_count": 13,
     "metadata": {},
     "output_type": "execute_result"
    }
   ],
   "source": [
    "expr3=(-1/(x+2))+(1/(x+1))\n",
    "sp.together(expr3)"
   ]
  },
  {
   "cell_type": "code",
   "execution_count": 14,
   "id": "14ef78ee",
   "metadata": {},
   "outputs": [
    {
     "data": {
      "text/latex": [
       "$\\displaystyle 3 x^{2} + 28 x + 53$"
      ],
      "text/plain": [
       "3*x**2 + 28*x + 53"
      ]
     },
     "execution_count": 14,
     "metadata": {},
     "output_type": "execute_result"
    }
   ],
   "source": [
    "expr4=x**3 + 14*x**2 + 53*x + 40\n",
    "sp.diff(expr4,x)"
   ]
  },
  {
   "cell_type": "code",
   "execution_count": 15,
   "id": "5a2aa94f",
   "metadata": {},
   "outputs": [
    {
     "data": {
      "text/latex": [
       "$\\displaystyle 2 \\left(3 x + 14\\right)$"
      ],
      "text/plain": [
       "2*(3*x + 14)"
      ]
     },
     "execution_count": 15,
     "metadata": {},
     "output_type": "execute_result"
    }
   ],
   "source": [
    "sp.diff(expr4,x,x)"
   ]
  },
  {
   "cell_type": "code",
   "execution_count": 16,
   "id": "b7565505",
   "metadata": {},
   "outputs": [
    {
     "data": {
      "text/latex": [
       "$\\displaystyle 2 \\left(3 x + 14\\right)$"
      ],
      "text/plain": [
       "2*(3*x + 14)"
      ]
     },
     "execution_count": 16,
     "metadata": {},
     "output_type": "execute_result"
    }
   ],
   "source": [
    "#other way\n",
    "sp.diff(expr4,x,2)"
   ]
  },
  {
   "cell_type": "code",
   "execution_count": 17,
   "id": "b8f57f20",
   "metadata": {},
   "outputs": [
    {
     "data": {
      "text/latex": [
       "$\\displaystyle 6$"
      ],
      "text/plain": [
       "6"
      ]
     },
     "execution_count": 17,
     "metadata": {},
     "output_type": "execute_result"
    }
   ],
   "source": [
    "sp.diff(expr4,x,3)"
   ]
  },
  {
   "cell_type": "code",
   "execution_count": 18,
   "id": "f2b50665",
   "metadata": {},
   "outputs": [
    {
     "data": {
      "text/latex": [
       "$\\displaystyle 0$"
      ],
      "text/plain": [
       "0"
      ]
     },
     "execution_count": 18,
     "metadata": {},
     "output_type": "execute_result"
    }
   ],
   "source": [
    "#Partil differentiation, one time w.r.t x and two times w.r.t y\n",
    "\n",
    "f=x**3 + 14*y**2 + 53*z + 40\n",
    "sp.diff(f,x,1,y,2)"
   ]
  },
  {
   "cell_type": "code",
   "execution_count": 19,
   "id": "fb6f44f4",
   "metadata": {},
   "outputs": [
    {
     "data": {
      "text/latex": [
       "$\\displaystyle 28 y$"
      ],
      "text/plain": [
       "28*y"
      ]
     },
     "execution_count": 19,
     "metadata": {},
     "output_type": "execute_result"
    }
   ],
   "source": [
    "f=x**3 + 14*y**2 + 53*z + 40\n",
    "sp.diff(f,y,1)"
   ]
  },
  {
   "cell_type": "code",
   "execution_count": 20,
   "id": "9bb442b2",
   "metadata": {},
   "outputs": [
    {
     "data": {
      "text/latex": [
       "$\\displaystyle y \\cos{\\left(x y \\right)}$"
      ],
      "text/plain": [
       "y*cos(x*y)"
      ]
     },
     "execution_count": 20,
     "metadata": {},
     "output_type": "execute_result"
    }
   ],
   "source": [
    "f=sp.sin(x*y)+sp.cos(y*z)\n",
    "sp.diff(f,x,1)"
   ]
  },
  {
   "cell_type": "code",
   "execution_count": 21,
   "id": "e0877d54",
   "metadata": {},
   "outputs": [
    {
     "data": {
      "text/latex": [
       "$\\displaystyle - x \\left(x y \\cos{\\left(x y \\right)} + 2 \\sin{\\left(x y \\right)}\\right)$"
      ],
      "text/plain": [
       "-x*(x*y*cos(x*y) + 2*sin(x*y))"
      ]
     },
     "execution_count": 21,
     "metadata": {},
     "output_type": "execute_result"
    }
   ],
   "source": [
    "f=sp.sin(x*y)+sp.cos(y*z)\n",
    "sp.diff(f,x,1,y,2)"
   ]
  },
  {
   "cell_type": "code",
   "execution_count": 22,
   "id": "6d668c56",
   "metadata": {},
   "outputs": [
    {
     "data": {
      "text/latex": [
       "$\\displaystyle \\sin{\\left(y \\right)} + \\cos{\\left(y z \\right)}$"
      ],
      "text/plain": [
       "sin(y) + cos(y*z)"
      ]
     },
     "execution_count": 22,
     "metadata": {},
     "output_type": "execute_result"
    }
   ],
   "source": [
    "f=sp.sin(x*y)+sp.cos(y*z)\n",
    "sp.diff(f,x,1)\n",
    "f.subs(x,1)        #substitue x as 1"
   ]
  },
  {
   "cell_type": "code",
   "execution_count": 23,
   "id": "81951c68",
   "metadata": {},
   "outputs": [
    {
     "data": {
      "text/latex": [
       "$\\displaystyle x \\cos{\\left(y z \\right)} + \\begin{cases} - \\frac{\\cos{\\left(x y \\right)}}{y} & \\text{for}\\: y \\neq 0 \\\\0 & \\text{otherwise} \\end{cases}$"
      ],
      "text/plain": [
       "x*cos(y*z) + Piecewise((-cos(x*y)/y, Ne(y, 0)), (0, True))"
      ]
     },
     "execution_count": 23,
     "metadata": {},
     "output_type": "execute_result"
    }
   ],
   "source": [
    "#Indefinite Integral\n",
    "\n",
    "f=sp.sin(x*y)+sp.cos(y*z)\n",
    "sp.integrate(f,x)"
   ]
  },
  {
   "cell_type": "code",
   "execution_count": 24,
   "id": "28bff5ed",
   "metadata": {},
   "outputs": [
    {
     "data": {
      "text/latex": [
       "$\\displaystyle 2 \\cos{\\left(y z \\right)}$"
      ],
      "text/plain": [
       "2*cos(y*z)"
      ]
     },
     "execution_count": 24,
     "metadata": {},
     "output_type": "execute_result"
    }
   ],
   "source": [
    "#Definite Integral\n",
    "\n",
    "f=sp.sin(x*y)+sp.cos(y*z)\n",
    "sp.integrate(f,(x,-1,1))"
   ]
  },
  {
   "cell_type": "code",
   "execution_count": 25,
   "id": "a66e9839",
   "metadata": {},
   "outputs": [
    {
     "data": {
      "text/latex": [
       "$\\displaystyle \\int\\limits_{-\\infty}^{\\infty} \\left(\\sin{\\left(x y \\right)} + \\cos{\\left(y z \\right)}\\right)\\, dx$"
      ],
      "text/plain": [
       "Integral(sin(x*y) + cos(y*z), (x, -oo, oo))"
      ]
     },
     "execution_count": 25,
     "metadata": {},
     "output_type": "execute_result"
    }
   ],
   "source": [
    "#Infinity\n",
    "\n",
    "from sympy import *\n",
    "\n",
    "f=sp.sin(x*y)+sp.cos(y*z)\n",
    "sp.integrate(f,(x,-oo,oo))"
   ]
  },
  {
   "cell_type": "code",
   "execution_count": 26,
   "id": "7ce82619",
   "metadata": {},
   "outputs": [
    {
     "data": {
      "text/latex": [
       "$\\displaystyle \\sum_{x=1}^{10} \\frac{1}{x^{2}}$"
      ],
      "text/plain": [
       "Sum(x**(-2), (x, 1, 10))"
      ]
     },
     "execution_count": 26,
     "metadata": {},
     "output_type": "execute_result"
    }
   ],
   "source": [
    "sp.Sum(1/x**2,(x,1,10))"
   ]
  },
  {
   "cell_type": "code",
   "execution_count": 27,
   "id": "69a56f00",
   "metadata": {},
   "outputs": [
    {
     "data": {
      "text/latex": [
       "$\\displaystyle 1.54976773116654$"
      ],
      "text/plain": [
       "1.54976773116654"
      ]
     },
     "execution_count": 27,
     "metadata": {},
     "output_type": "execute_result"
    }
   ],
   "source": [
    "sp.Sum(1/x**2,(x,1,10)).evalf()"
   ]
  },
  {
   "cell_type": "code",
   "execution_count": 28,
   "id": "a83d54d3",
   "metadata": {},
   "outputs": [
    {
     "data": {
      "text/latex": [
       "$\\displaystyle \\prod_{x=1}^{10} \\frac{1}{x^{2}}$"
      ],
      "text/plain": [
       "Product(x**(-2), (x, 1, 10))"
      ]
     },
     "execution_count": 28,
     "metadata": {},
     "output_type": "execute_result"
    }
   ],
   "source": [
    "sp.Product(1/x**2,(x,1,10))"
   ]
  },
  {
   "cell_type": "code",
   "execution_count": 29,
   "id": "f281095f",
   "metadata": {},
   "outputs": [
    {
     "data": {
      "text/latex": [
       "$\\displaystyle 7.59405842812662 \\cdot 10^{-14}$"
      ],
      "text/plain": [
       "7.59405842812662e-14"
      ]
     },
     "execution_count": 29,
     "metadata": {},
     "output_type": "execute_result"
    }
   ],
   "source": [
    "sp.Product(1/x**2,(x,1,10)).evalf()"
   ]
  },
  {
   "cell_type": "code",
   "execution_count": 30,
   "id": "66c170bc",
   "metadata": {},
   "outputs": [
    {
     "data": {
      "text/latex": [
       "$\\displaystyle \\infty$"
      ],
      "text/plain": [
       "oo"
      ]
     },
     "execution_count": 30,
     "metadata": {},
     "output_type": "execute_result"
    }
   ],
   "source": [
    "#limit (1/x), x tends to 0\n",
    "\n",
    "sp.limit(1/x,x,0)"
   ]
  },
  {
   "cell_type": "code",
   "execution_count": 31,
   "id": "664a76f8",
   "metadata": {},
   "outputs": [
    {
     "data": {
      "text/latex": [
       "$\\displaystyle 1$"
      ],
      "text/plain": [
       "1"
      ]
     },
     "execution_count": 31,
     "metadata": {},
     "output_type": "execute_result"
    }
   ],
   "source": [
    "sp.limit(1/x,x,1)"
   ]
  },
  {
   "cell_type": "code",
   "execution_count": 32,
   "id": "3027bc82",
   "metadata": {},
   "outputs": [
    {
     "data": {
      "text/latex": [
       "$\\displaystyle 0$"
      ],
      "text/plain": [
       "0"
      ]
     },
     "execution_count": 32,
     "metadata": {},
     "output_type": "execute_result"
    }
   ],
   "source": [
    "sp.limit(1/x,x,oo)"
   ]
  },
  {
   "cell_type": "code",
   "execution_count": 33,
   "id": "03605f20",
   "metadata": {},
   "outputs": [
    {
     "data": {
      "text/latex": [
       "$\\displaystyle 1 + x + \\frac{x^{2}}{2} + \\frac{x^{3}}{6} + \\frac{x^{4}}{24} + \\frac{x^{5}}{120} + O\\left(x^{6}\\right)$"
      ],
      "text/plain": [
       "1 + x + x**2/2 + x**3/6 + x**4/24 + x**5/120 + O(x**6)"
      ]
     },
     "execution_count": 33,
     "metadata": {},
     "output_type": "execute_result"
    }
   ],
   "source": [
    "#Expansion around 0\n",
    "\n",
    "series(exp(x),x)"
   ]
  },
  {
   "cell_type": "code",
   "execution_count": 34,
   "id": "a4ba37ad",
   "metadata": {},
   "outputs": [
    {
     "data": {
      "text/latex": [
       "$\\displaystyle e + e \\left(x - 1\\right) + \\frac{e \\left(x - 1\\right)^{2}}{2} + \\frac{e \\left(x - 1\\right)^{3}}{6} + \\frac{e \\left(x - 1\\right)^{4}}{24} + \\frac{e \\left(x - 1\\right)^{5}}{120} + O\\left(\\left(x - 1\\right)^{6}; x\\rightarrow 1\\right)$"
      ],
      "text/plain": [
       "E + E*(x - 1) + E*(x - 1)**2/2 + E*(x - 1)**3/6 + E*(x - 1)**4/24 + E*(x - 1)**5/120 + O((x - 1)**6, (x, 1))"
      ]
     },
     "execution_count": 34,
     "metadata": {},
     "output_type": "execute_result"
    }
   ],
   "source": [
    "#Expansion around 1\n",
    "\n",
    "series(exp(x),x,1)"
   ]
  }
 ],
 "metadata": {
  "kernelspec": {
   "display_name": "Python 3",
   "language": "python",
   "name": "python3"
  },
  "language_info": {
   "codemirror_mode": {
    "name": "ipython",
    "version": 3
   },
   "file_extension": ".py",
   "mimetype": "text/x-python",
   "name": "python",
   "nbconvert_exporter": "python",
   "pygments_lexer": "ipython3",
   "version": "3.8.8"
  }
 },
 "nbformat": 4,
 "nbformat_minor": 5
}

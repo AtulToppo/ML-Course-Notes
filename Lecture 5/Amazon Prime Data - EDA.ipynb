{
 "cells": [
  {
   "cell_type": "markdown",
   "id": "7375d72d-7100-40af-bd63-4dc3d3068b28",
   "metadata": {},
   "source": [
    "# Exploratory Data Analysis (EDA) - Amazon Prime"
   ]
  },
  {
   "cell_type": "markdown",
   "id": "ac9468e6-1668-4747-b803-c835f00ebdae",
   "metadata": {},
   "source": [
    "### **Importing Libraries**"
   ]
  },
  {
   "cell_type": "code",
   "execution_count": 1,
   "id": "dcb5dea0",
   "metadata": {
    "_cell_guid": "b1076dfc-b9ad-4769-8c92-a6c4dae69d19",
    "_uuid": "8f2839f25d086af736a60e9eeb907d3b93b6e0e5",
    "papermill": {
     "duration": 1.624004,
     "end_time": "2023-07-11T02:48:39.940676",
     "exception": false,
     "start_time": "2023-07-11T02:48:38.316672",
     "status": "completed"
    },
    "tags": []
   },
   "outputs": [],
   "source": [
    "import numpy as np\n",
    "import pandas as pd\n",
    "\n",
    "import seaborn as sns\n",
    "import matplotlib.pyplot as plt\n",
    "sns.set()"
   ]
  },
  {
   "cell_type": "markdown",
   "id": "7d8f73f8",
   "metadata": {
    "papermill": {
     "duration": 0.012036,
     "end_time": "2023-07-11T02:48:40.014682",
     "exception": false,
     "start_time": "2023-07-11T02:48:40.002646",
     "status": "completed"
    },
    "tags": []
   },
   "source": [
    "#### Reading Data"
   ]
  },
  {
   "cell_type": "code",
   "execution_count": 2,
   "id": "4ecc44f0",
   "metadata": {
    "papermill": {
     "duration": 0.233697,
     "end_time": "2023-07-11T02:48:40.260735",
     "exception": false,
     "start_time": "2023-07-11T02:48:40.027038",
     "status": "completed"
    },
    "tags": []
   },
   "outputs": [
    {
     "data": {
      "text/html": [
       "<div>\n",
       "<style scoped>\n",
       "    .dataframe tbody tr th:only-of-type {\n",
       "        vertical-align: middle;\n",
       "    }\n",
       "\n",
       "    .dataframe tbody tr th {\n",
       "        vertical-align: top;\n",
       "    }\n",
       "\n",
       "    .dataframe thead th {\n",
       "        text-align: right;\n",
       "    }\n",
       "</style>\n",
       "<table border=\"1\" class=\"dataframe\">\n",
       "  <thead>\n",
       "    <tr style=\"text-align: right;\">\n",
       "      <th></th>\n",
       "      <th>show_id</th>\n",
       "      <th>type</th>\n",
       "      <th>title</th>\n",
       "      <th>director</th>\n",
       "      <th>cast</th>\n",
       "      <th>country</th>\n",
       "      <th>date_added</th>\n",
       "      <th>release_year</th>\n",
       "      <th>rating</th>\n",
       "      <th>duration</th>\n",
       "      <th>listed_in</th>\n",
       "      <th>description</th>\n",
       "    </tr>\n",
       "  </thead>\n",
       "  <tbody>\n",
       "    <tr>\n",
       "      <th>0</th>\n",
       "      <td>s1</td>\n",
       "      <td>Movie</td>\n",
       "      <td>The Grand Seduction</td>\n",
       "      <td>Don McKellar</td>\n",
       "      <td>Brendan Gleeson, Taylor Kitsch, Gordon Pinsent</td>\n",
       "      <td>Canada</td>\n",
       "      <td>March 30, 2021</td>\n",
       "      <td>2014</td>\n",
       "      <td>NaN</td>\n",
       "      <td>113 min</td>\n",
       "      <td>Comedy, Drama</td>\n",
       "      <td>A small fishing village must procure a local d...</td>\n",
       "    </tr>\n",
       "    <tr>\n",
       "      <th>1</th>\n",
       "      <td>s2</td>\n",
       "      <td>Movie</td>\n",
       "      <td>Take Care Good Night</td>\n",
       "      <td>Girish Joshi</td>\n",
       "      <td>Mahesh Manjrekar, Abhay Mahajan, Sachin Khedekar</td>\n",
       "      <td>India</td>\n",
       "      <td>March 30, 2021</td>\n",
       "      <td>2018</td>\n",
       "      <td>13+</td>\n",
       "      <td>110 min</td>\n",
       "      <td>Drama, International</td>\n",
       "      <td>A Metro Family decides to fight a Cyber Crimin...</td>\n",
       "    </tr>\n",
       "    <tr>\n",
       "      <th>2</th>\n",
       "      <td>s3</td>\n",
       "      <td>Movie</td>\n",
       "      <td>Secrets of Deception</td>\n",
       "      <td>Josh Webber</td>\n",
       "      <td>Tom Sizemore, Lorenzo Lamas, Robert LaSardo, R...</td>\n",
       "      <td>United States</td>\n",
       "      <td>March 30, 2021</td>\n",
       "      <td>2017</td>\n",
       "      <td>NaN</td>\n",
       "      <td>74 min</td>\n",
       "      <td>Action, Drama, Suspense</td>\n",
       "      <td>After a man discovers his wife is cheating on ...</td>\n",
       "    </tr>\n",
       "    <tr>\n",
       "      <th>3</th>\n",
       "      <td>s4</td>\n",
       "      <td>Movie</td>\n",
       "      <td>Pink: Staying True</td>\n",
       "      <td>Sonia Anderson</td>\n",
       "      <td>Interviews with: Pink, Adele, Beyoncé, Britney...</td>\n",
       "      <td>United States</td>\n",
       "      <td>March 30, 2021</td>\n",
       "      <td>2014</td>\n",
       "      <td>NaN</td>\n",
       "      <td>69 min</td>\n",
       "      <td>Documentary</td>\n",
       "      <td>Pink breaks the mold once again, bringing her ...</td>\n",
       "    </tr>\n",
       "    <tr>\n",
       "      <th>4</th>\n",
       "      <td>s5</td>\n",
       "      <td>Movie</td>\n",
       "      <td>Monster Maker</td>\n",
       "      <td>Giles Foster</td>\n",
       "      <td>Harry Dean Stanton, Kieran O'Brien, George Cos...</td>\n",
       "      <td>United Kingdom</td>\n",
       "      <td>March 30, 2021</td>\n",
       "      <td>1989</td>\n",
       "      <td>NaN</td>\n",
       "      <td>45 min</td>\n",
       "      <td>Drama, Fantasy</td>\n",
       "      <td>Teenage Matt Banting wants to work with a famo...</td>\n",
       "    </tr>\n",
       "  </tbody>\n",
       "</table>\n",
       "</div>"
      ],
      "text/plain": [
       "  show_id   type                 title        director  \\\n",
       "0      s1  Movie   The Grand Seduction    Don McKellar   \n",
       "1      s2  Movie  Take Care Good Night    Girish Joshi   \n",
       "2      s3  Movie  Secrets of Deception     Josh Webber   \n",
       "3      s4  Movie    Pink: Staying True  Sonia Anderson   \n",
       "4      s5  Movie         Monster Maker    Giles Foster   \n",
       "\n",
       "                                                cast         country  \\\n",
       "0     Brendan Gleeson, Taylor Kitsch, Gordon Pinsent          Canada   \n",
       "1   Mahesh Manjrekar, Abhay Mahajan, Sachin Khedekar           India   \n",
       "2  Tom Sizemore, Lorenzo Lamas, Robert LaSardo, R...   United States   \n",
       "3  Interviews with: Pink, Adele, Beyoncé, Britney...   United States   \n",
       "4  Harry Dean Stanton, Kieran O'Brien, George Cos...  United Kingdom   \n",
       "\n",
       "       date_added  release_year rating duration                listed_in  \\\n",
       "0  March 30, 2021          2014    NaN  113 min            Comedy, Drama   \n",
       "1  March 30, 2021          2018    13+  110 min     Drama, International   \n",
       "2  March 30, 2021          2017    NaN   74 min  Action, Drama, Suspense   \n",
       "3  March 30, 2021          2014    NaN   69 min              Documentary   \n",
       "4  March 30, 2021          1989    NaN   45 min           Drama, Fantasy   \n",
       "\n",
       "                                         description  \n",
       "0  A small fishing village must procure a local d...  \n",
       "1  A Metro Family decides to fight a Cyber Crimin...  \n",
       "2  After a man discovers his wife is cheating on ...  \n",
       "3  Pink breaks the mold once again, bringing her ...  \n",
       "4  Teenage Matt Banting wants to work with a famo...  "
      ]
     },
     "execution_count": 2,
     "metadata": {},
     "output_type": "execute_result"
    }
   ],
   "source": [
    "df = pd.read_csv('C:\\\\Users\\\\prabh\\\\OneDrive\\\\Desktop\\\\ML Course Notes\\\\Lecture 5\\\\amazon_prime_titles.csv')\n",
    "df.head()"
   ]
  },
  {
   "cell_type": "code",
   "execution_count": 3,
   "id": "2663765c",
   "metadata": {
    "papermill": {
     "duration": 0.042183,
     "end_time": "2023-07-11T02:48:40.316020",
     "exception": false,
     "start_time": "2023-07-11T02:48:40.273837",
     "status": "completed"
    },
    "tags": []
   },
   "outputs": [
    {
     "data": {
      "text/html": [
       "<div>\n",
       "<style scoped>\n",
       "    .dataframe tbody tr th:only-of-type {\n",
       "        vertical-align: middle;\n",
       "    }\n",
       "\n",
       "    .dataframe tbody tr th {\n",
       "        vertical-align: top;\n",
       "    }\n",
       "\n",
       "    .dataframe thead th {\n",
       "        text-align: right;\n",
       "    }\n",
       "</style>\n",
       "<table border=\"1\" class=\"dataframe\">\n",
       "  <thead>\n",
       "    <tr style=\"text-align: right;\">\n",
       "      <th></th>\n",
       "      <th>show_id</th>\n",
       "      <th>type</th>\n",
       "      <th>title</th>\n",
       "      <th>director</th>\n",
       "      <th>cast</th>\n",
       "      <th>country</th>\n",
       "      <th>date_added</th>\n",
       "      <th>release_year</th>\n",
       "      <th>rating</th>\n",
       "      <th>duration</th>\n",
       "      <th>categories</th>\n",
       "      <th>description</th>\n",
       "    </tr>\n",
       "  </thead>\n",
       "  <tbody>\n",
       "    <tr>\n",
       "      <th>0</th>\n",
       "      <td>s1</td>\n",
       "      <td>Movie</td>\n",
       "      <td>The Grand Seduction</td>\n",
       "      <td>Don McKellar</td>\n",
       "      <td>Brendan Gleeson, Taylor Kitsch, Gordon Pinsent</td>\n",
       "      <td>Canada</td>\n",
       "      <td>March 30, 2021</td>\n",
       "      <td>2014</td>\n",
       "      <td>NaN</td>\n",
       "      <td>113 min</td>\n",
       "      <td>Comedy, Drama</td>\n",
       "      <td>A small fishing village must procure a local d...</td>\n",
       "    </tr>\n",
       "    <tr>\n",
       "      <th>1</th>\n",
       "      <td>s2</td>\n",
       "      <td>Movie</td>\n",
       "      <td>Take Care Good Night</td>\n",
       "      <td>Girish Joshi</td>\n",
       "      <td>Mahesh Manjrekar, Abhay Mahajan, Sachin Khedekar</td>\n",
       "      <td>India</td>\n",
       "      <td>March 30, 2021</td>\n",
       "      <td>2018</td>\n",
       "      <td>13+</td>\n",
       "      <td>110 min</td>\n",
       "      <td>Drama, International</td>\n",
       "      <td>A Metro Family decides to fight a Cyber Crimin...</td>\n",
       "    </tr>\n",
       "    <tr>\n",
       "      <th>2</th>\n",
       "      <td>s3</td>\n",
       "      <td>Movie</td>\n",
       "      <td>Secrets of Deception</td>\n",
       "      <td>Josh Webber</td>\n",
       "      <td>Tom Sizemore, Lorenzo Lamas, Robert LaSardo, R...</td>\n",
       "      <td>United States</td>\n",
       "      <td>March 30, 2021</td>\n",
       "      <td>2017</td>\n",
       "      <td>NaN</td>\n",
       "      <td>74 min</td>\n",
       "      <td>Action, Drama, Suspense</td>\n",
       "      <td>After a man discovers his wife is cheating on ...</td>\n",
       "    </tr>\n",
       "    <tr>\n",
       "      <th>3</th>\n",
       "      <td>s4</td>\n",
       "      <td>Movie</td>\n",
       "      <td>Pink: Staying True</td>\n",
       "      <td>Sonia Anderson</td>\n",
       "      <td>Interviews with: Pink, Adele, Beyoncé, Britney...</td>\n",
       "      <td>United States</td>\n",
       "      <td>March 30, 2021</td>\n",
       "      <td>2014</td>\n",
       "      <td>NaN</td>\n",
       "      <td>69 min</td>\n",
       "      <td>Documentary</td>\n",
       "      <td>Pink breaks the mold once again, bringing her ...</td>\n",
       "    </tr>\n",
       "    <tr>\n",
       "      <th>4</th>\n",
       "      <td>s5</td>\n",
       "      <td>Movie</td>\n",
       "      <td>Monster Maker</td>\n",
       "      <td>Giles Foster</td>\n",
       "      <td>Harry Dean Stanton, Kieran O'Brien, George Cos...</td>\n",
       "      <td>United Kingdom</td>\n",
       "      <td>March 30, 2021</td>\n",
       "      <td>1989</td>\n",
       "      <td>NaN</td>\n",
       "      <td>45 min</td>\n",
       "      <td>Drama, Fantasy</td>\n",
       "      <td>Teenage Matt Banting wants to work with a famo...</td>\n",
       "    </tr>\n",
       "  </tbody>\n",
       "</table>\n",
       "</div>"
      ],
      "text/plain": [
       "  show_id   type                 title        director  \\\n",
       "0      s1  Movie   The Grand Seduction    Don McKellar   \n",
       "1      s2  Movie  Take Care Good Night    Girish Joshi   \n",
       "2      s3  Movie  Secrets of Deception     Josh Webber   \n",
       "3      s4  Movie    Pink: Staying True  Sonia Anderson   \n",
       "4      s5  Movie         Monster Maker    Giles Foster   \n",
       "\n",
       "                                                cast         country  \\\n",
       "0     Brendan Gleeson, Taylor Kitsch, Gordon Pinsent          Canada   \n",
       "1   Mahesh Manjrekar, Abhay Mahajan, Sachin Khedekar           India   \n",
       "2  Tom Sizemore, Lorenzo Lamas, Robert LaSardo, R...   United States   \n",
       "3  Interviews with: Pink, Adele, Beyoncé, Britney...   United States   \n",
       "4  Harry Dean Stanton, Kieran O'Brien, George Cos...  United Kingdom   \n",
       "\n",
       "       date_added  release_year rating duration               categories  \\\n",
       "0  March 30, 2021          2014    NaN  113 min            Comedy, Drama   \n",
       "1  March 30, 2021          2018    13+  110 min     Drama, International   \n",
       "2  March 30, 2021          2017    NaN   74 min  Action, Drama, Suspense   \n",
       "3  March 30, 2021          2014    NaN   69 min              Documentary   \n",
       "4  March 30, 2021          1989    NaN   45 min           Drama, Fantasy   \n",
       "\n",
       "                                         description  \n",
       "0  A small fishing village must procure a local d...  \n",
       "1  A Metro Family decides to fight a Cyber Crimin...  \n",
       "2  After a man discovers his wife is cheating on ...  \n",
       "3  Pink breaks the mold once again, bringing her ...  \n",
       "4  Teenage Matt Banting wants to work with a famo...  "
      ]
     },
     "execution_count": 3,
     "metadata": {},
     "output_type": "execute_result"
    }
   ],
   "source": [
    "df.rename(columns={'listed_in':'categories'},inplace=True)\n",
    "df.head()"
   ]
  },
  {
   "cell_type": "markdown",
   "id": "6004f0e2",
   "metadata": {
    "papermill": {
     "duration": 0.013004,
     "end_time": "2023-07-11T02:48:40.342387",
     "exception": false,
     "start_time": "2023-07-11T02:48:40.329383",
     "status": "completed"
    },
    "tags": []
   },
   "source": [
    "#### Drop the columns that we won't involve in analysis"
   ]
  },
  {
   "cell_type": "code",
   "execution_count": 4,
   "id": "aa5e58f4",
   "metadata": {
    "papermill": {
     "duration": 0.045159,
     "end_time": "2023-07-11T02:48:40.400779",
     "exception": false,
     "start_time": "2023-07-11T02:48:40.355620",
     "status": "completed"
    },
    "tags": []
   },
   "outputs": [
    {
     "data": {
      "text/html": [
       "<div>\n",
       "<style scoped>\n",
       "    .dataframe tbody tr th:only-of-type {\n",
       "        vertical-align: middle;\n",
       "    }\n",
       "\n",
       "    .dataframe tbody tr th {\n",
       "        vertical-align: top;\n",
       "    }\n",
       "\n",
       "    .dataframe thead th {\n",
       "        text-align: right;\n",
       "    }\n",
       "</style>\n",
       "<table border=\"1\" class=\"dataframe\">\n",
       "  <thead>\n",
       "    <tr style=\"text-align: right;\">\n",
       "      <th></th>\n",
       "      <th>type</th>\n",
       "      <th>title</th>\n",
       "      <th>director</th>\n",
       "      <th>cast</th>\n",
       "      <th>country</th>\n",
       "      <th>date_added</th>\n",
       "      <th>release_year</th>\n",
       "      <th>rating</th>\n",
       "      <th>duration</th>\n",
       "      <th>categories</th>\n",
       "    </tr>\n",
       "  </thead>\n",
       "  <tbody>\n",
       "    <tr>\n",
       "      <th>0</th>\n",
       "      <td>Movie</td>\n",
       "      <td>The Grand Seduction</td>\n",
       "      <td>Don McKellar</td>\n",
       "      <td>Brendan Gleeson, Taylor Kitsch, Gordon Pinsent</td>\n",
       "      <td>Canada</td>\n",
       "      <td>March 30, 2021</td>\n",
       "      <td>2014</td>\n",
       "      <td>NaN</td>\n",
       "      <td>113 min</td>\n",
       "      <td>Comedy, Drama</td>\n",
       "    </tr>\n",
       "    <tr>\n",
       "      <th>1</th>\n",
       "      <td>Movie</td>\n",
       "      <td>Take Care Good Night</td>\n",
       "      <td>Girish Joshi</td>\n",
       "      <td>Mahesh Manjrekar, Abhay Mahajan, Sachin Khedekar</td>\n",
       "      <td>India</td>\n",
       "      <td>March 30, 2021</td>\n",
       "      <td>2018</td>\n",
       "      <td>13+</td>\n",
       "      <td>110 min</td>\n",
       "      <td>Drama, International</td>\n",
       "    </tr>\n",
       "    <tr>\n",
       "      <th>2</th>\n",
       "      <td>Movie</td>\n",
       "      <td>Secrets of Deception</td>\n",
       "      <td>Josh Webber</td>\n",
       "      <td>Tom Sizemore, Lorenzo Lamas, Robert LaSardo, R...</td>\n",
       "      <td>United States</td>\n",
       "      <td>March 30, 2021</td>\n",
       "      <td>2017</td>\n",
       "      <td>NaN</td>\n",
       "      <td>74 min</td>\n",
       "      <td>Action, Drama, Suspense</td>\n",
       "    </tr>\n",
       "    <tr>\n",
       "      <th>3</th>\n",
       "      <td>Movie</td>\n",
       "      <td>Pink: Staying True</td>\n",
       "      <td>Sonia Anderson</td>\n",
       "      <td>Interviews with: Pink, Adele, Beyoncé, Britney...</td>\n",
       "      <td>United States</td>\n",
       "      <td>March 30, 2021</td>\n",
       "      <td>2014</td>\n",
       "      <td>NaN</td>\n",
       "      <td>69 min</td>\n",
       "      <td>Documentary</td>\n",
       "    </tr>\n",
       "    <tr>\n",
       "      <th>4</th>\n",
       "      <td>Movie</td>\n",
       "      <td>Monster Maker</td>\n",
       "      <td>Giles Foster</td>\n",
       "      <td>Harry Dean Stanton, Kieran O'Brien, George Cos...</td>\n",
       "      <td>United Kingdom</td>\n",
       "      <td>March 30, 2021</td>\n",
       "      <td>1989</td>\n",
       "      <td>NaN</td>\n",
       "      <td>45 min</td>\n",
       "      <td>Drama, Fantasy</td>\n",
       "    </tr>\n",
       "  </tbody>\n",
       "</table>\n",
       "</div>"
      ],
      "text/plain": [
       "    type                 title        director  \\\n",
       "0  Movie   The Grand Seduction    Don McKellar   \n",
       "1  Movie  Take Care Good Night    Girish Joshi   \n",
       "2  Movie  Secrets of Deception     Josh Webber   \n",
       "3  Movie    Pink: Staying True  Sonia Anderson   \n",
       "4  Movie         Monster Maker    Giles Foster   \n",
       "\n",
       "                                                cast         country  \\\n",
       "0     Brendan Gleeson, Taylor Kitsch, Gordon Pinsent          Canada   \n",
       "1   Mahesh Manjrekar, Abhay Mahajan, Sachin Khedekar           India   \n",
       "2  Tom Sizemore, Lorenzo Lamas, Robert LaSardo, R...   United States   \n",
       "3  Interviews with: Pink, Adele, Beyoncé, Britney...   United States   \n",
       "4  Harry Dean Stanton, Kieran O'Brien, George Cos...  United Kingdom   \n",
       "\n",
       "       date_added  release_year rating duration               categories  \n",
       "0  March 30, 2021          2014    NaN  113 min            Comedy, Drama  \n",
       "1  March 30, 2021          2018    13+  110 min     Drama, International  \n",
       "2  March 30, 2021          2017    NaN   74 min  Action, Drama, Suspense  \n",
       "3  March 30, 2021          2014    NaN   69 min              Documentary  \n",
       "4  March 30, 2021          1989    NaN   45 min           Drama, Fantasy  "
      ]
     },
     "execution_count": 4,
     "metadata": {},
     "output_type": "execute_result"
    }
   ],
   "source": [
    "df.drop(['show_id'], axis = 1, inplace = True)\n",
    "df.drop(['description'], axis = 1, inplace = True)\n",
    "df.head()"
   ]
  },
  {
   "cell_type": "code",
   "execution_count": 5,
   "id": "a6614821",
   "metadata": {
    "papermill": {
     "duration": 0.025104,
     "end_time": "2023-07-11T02:48:40.467539",
     "exception": false,
     "start_time": "2023-07-11T02:48:40.442435",
     "status": "completed"
    },
    "tags": []
   },
   "outputs": [
    {
     "data": {
      "text/plain": [
       "(9668, 10)"
      ]
     },
     "execution_count": 5,
     "metadata": {},
     "output_type": "execute_result"
    }
   ],
   "source": [
    "df.shape"
   ]
  },
  {
   "cell_type": "code",
   "execution_count": 6,
   "id": "03301cae",
   "metadata": {
    "papermill": {
     "duration": 0.06603,
     "end_time": "2023-07-11T02:48:40.547698",
     "exception": false,
     "start_time": "2023-07-11T02:48:40.481668",
     "status": "completed"
    },
    "tags": []
   },
   "outputs": [
    {
     "name": "stdout",
     "output_type": "stream",
     "text": [
      "<class 'pandas.core.frame.DataFrame'>\n",
      "RangeIndex: 9668 entries, 0 to 9667\n",
      "Data columns (total 10 columns):\n",
      " #   Column        Non-Null Count  Dtype \n",
      "---  ------        --------------  ----- \n",
      " 0   type          9668 non-null   object\n",
      " 1   title         9668 non-null   object\n",
      " 2   director      7585 non-null   object\n",
      " 3   cast          8435 non-null   object\n",
      " 4   country       672 non-null    object\n",
      " 5   date_added    155 non-null    object\n",
      " 6   release_year  9668 non-null   int64 \n",
      " 7   rating        9331 non-null   object\n",
      " 8   duration      9668 non-null   object\n",
      " 9   categories    9668 non-null   object\n",
      "dtypes: int64(1), object(9)\n",
      "memory usage: 755.4+ KB\n"
     ]
    }
   ],
   "source": [
    "df.info()"
   ]
  },
  {
   "cell_type": "code",
   "execution_count": 7,
   "id": "f47601bd",
   "metadata": {
    "papermill": {
     "duration": 0.077123,
     "end_time": "2023-07-11T02:48:40.639132",
     "exception": false,
     "start_time": "2023-07-11T02:48:40.562009",
     "status": "completed"
    },
    "tags": []
   },
   "outputs": [
    {
     "data": {
      "text/html": [
       "<div>\n",
       "<style scoped>\n",
       "    .dataframe tbody tr th:only-of-type {\n",
       "        vertical-align: middle;\n",
       "    }\n",
       "\n",
       "    .dataframe tbody tr th {\n",
       "        vertical-align: top;\n",
       "    }\n",
       "\n",
       "    .dataframe thead th {\n",
       "        text-align: right;\n",
       "    }\n",
       "</style>\n",
       "<table border=\"1\" class=\"dataframe\">\n",
       "  <thead>\n",
       "    <tr style=\"text-align: right;\">\n",
       "      <th></th>\n",
       "      <th>type</th>\n",
       "      <th>title</th>\n",
       "      <th>director</th>\n",
       "      <th>cast</th>\n",
       "      <th>country</th>\n",
       "      <th>date_added</th>\n",
       "      <th>rating</th>\n",
       "      <th>duration</th>\n",
       "      <th>categories</th>\n",
       "    </tr>\n",
       "  </thead>\n",
       "  <tbody>\n",
       "    <tr>\n",
       "      <th>count</th>\n",
       "      <td>9668</td>\n",
       "      <td>9668</td>\n",
       "      <td>7585</td>\n",
       "      <td>8435</td>\n",
       "      <td>672</td>\n",
       "      <td>155</td>\n",
       "      <td>9331</td>\n",
       "      <td>9668</td>\n",
       "      <td>9668</td>\n",
       "    </tr>\n",
       "    <tr>\n",
       "      <th>unique</th>\n",
       "      <td>2</td>\n",
       "      <td>9668</td>\n",
       "      <td>5773</td>\n",
       "      <td>7927</td>\n",
       "      <td>86</td>\n",
       "      <td>84</td>\n",
       "      <td>24</td>\n",
       "      <td>219</td>\n",
       "      <td>518</td>\n",
       "    </tr>\n",
       "    <tr>\n",
       "      <th>top</th>\n",
       "      <td>Movie</td>\n",
       "      <td>The Grand Seduction</td>\n",
       "      <td>Mark Knight</td>\n",
       "      <td>Maggie Binkley</td>\n",
       "      <td>United States</td>\n",
       "      <td>March 30, 2021</td>\n",
       "      <td>13+</td>\n",
       "      <td>1 Season</td>\n",
       "      <td>Drama</td>\n",
       "    </tr>\n",
       "    <tr>\n",
       "      <th>freq</th>\n",
       "      <td>7814</td>\n",
       "      <td>1</td>\n",
       "      <td>113</td>\n",
       "      <td>56</td>\n",
       "      <td>253</td>\n",
       "      <td>14</td>\n",
       "      <td>2117</td>\n",
       "      <td>1342</td>\n",
       "      <td>986</td>\n",
       "    </tr>\n",
       "  </tbody>\n",
       "</table>\n",
       "</div>"
      ],
      "text/plain": [
       "         type                title     director            cast  \\\n",
       "count    9668                 9668         7585            8435   \n",
       "unique      2                 9668         5773            7927   \n",
       "top     Movie  The Grand Seduction  Mark Knight  Maggie Binkley   \n",
       "freq     7814                    1          113              56   \n",
       "\n",
       "              country      date_added rating  duration categories  \n",
       "count             672             155   9331      9668       9668  \n",
       "unique             86              84     24       219        518  \n",
       "top     United States  March 30, 2021    13+  1 Season      Drama  \n",
       "freq              253              14   2117      1342        986  "
      ]
     },
     "execution_count": 7,
     "metadata": {},
     "output_type": "execute_result"
    }
   ],
   "source": [
    "df.describe(include = object)"
   ]
  },
  {
   "cell_type": "markdown",
   "id": "e50098e1-9ad7-4824-8623-6dbdd3cf5d26",
   "metadata": {},
   "source": [
    "### **Data Cleaning**"
   ]
  },
  {
   "cell_type": "markdown",
   "id": "c277ce11",
   "metadata": {
    "papermill": {
     "duration": 0.014082,
     "end_time": "2023-07-11T02:48:40.667647",
     "exception": false,
     "start_time": "2023-07-11T02:48:40.653565",
     "status": "completed"
    },
    "tags": []
   },
   "source": [
    "#### Handling Duplicate Values"
   ]
  },
  {
   "cell_type": "code",
   "execution_count": 8,
   "id": "2bd0e04f",
   "metadata": {
    "papermill": {
     "duration": 0.044325,
     "end_time": "2023-07-11T02:48:40.726626",
     "exception": false,
     "start_time": "2023-07-11T02:48:40.682301",
     "status": "completed"
    },
    "tags": []
   },
   "outputs": [
    {
     "data": {
      "text/plain": [
       "0"
      ]
     },
     "execution_count": 8,
     "metadata": {},
     "output_type": "execute_result"
    }
   ],
   "source": [
    "df.duplicated().sum()"
   ]
  },
  {
   "cell_type": "markdown",
   "id": "8784fb29",
   "metadata": {
    "papermill": {
     "duration": 0.014206,
     "end_time": "2023-07-11T02:48:40.755292",
     "exception": false,
     "start_time": "2023-07-11T02:48:40.741086",
     "status": "completed"
    },
    "tags": []
   },
   "source": [
    "#### Handling Missing Values"
   ]
  },
  {
   "cell_type": "code",
   "execution_count": 9,
   "id": "8077cd49",
   "metadata": {
    "papermill": {
     "duration": 0.053675,
     "end_time": "2023-07-11T02:48:40.823404",
     "exception": false,
     "start_time": "2023-07-11T02:48:40.769729",
     "status": "completed"
    },
    "tags": []
   },
   "outputs": [
    {
     "data": {
      "text/plain": [
       "type               0\n",
       "title              0\n",
       "director        2083\n",
       "cast            1233\n",
       "country         8996\n",
       "date_added      9513\n",
       "release_year       0\n",
       "rating           337\n",
       "duration           0\n",
       "categories         0\n",
       "dtype: int64"
      ]
     },
     "execution_count": 9,
     "metadata": {},
     "output_type": "execute_result"
    }
   ],
   "source": [
    "df.isnull().sum()"
   ]
  },
  {
   "cell_type": "code",
   "execution_count": 10,
   "id": "831534a0-081c-49ee-a0c0-35ee29e26a17",
   "metadata": {},
   "outputs": [
    {
     "data": {
      "text/plain": [
       "5773"
      ]
     },
     "execution_count": 10,
     "metadata": {},
     "output_type": "execute_result"
    }
   ],
   "source": [
    "df['director'].nunique()"
   ]
  },
  {
   "cell_type": "code",
   "execution_count": 11,
   "id": "8a1e9387-b498-4b47-8c5e-b708dd0400e9",
   "metadata": {},
   "outputs": [
    {
     "data": {
      "text/plain": [
       "0"
      ]
     },
     "execution_count": 11,
     "metadata": {},
     "output_type": "execute_result"
    }
   ],
   "source": [
    "df['director'] = df['director'].fillna('unknown')\n",
    "df['director'].isnull().sum()"
   ]
  },
  {
   "cell_type": "code",
   "execution_count": 12,
   "id": "497825aa-b4b0-40be-9dff-ca9ee4bb9a0d",
   "metadata": {},
   "outputs": [
    {
     "data": {
      "text/plain": [
       "0"
      ]
     },
     "execution_count": 12,
     "metadata": {},
     "output_type": "execute_result"
    }
   ],
   "source": [
    "df['cast'] = df['cast'].fillna('unknown')\n",
    "df['cast'].isnull().sum()"
   ]
  },
  {
   "cell_type": "code",
   "execution_count": 13,
   "id": "072772ab-1137-41f5-b463-309506ca904a",
   "metadata": {},
   "outputs": [
    {
     "data": {
      "text/plain": [
       "0"
      ]
     },
     "execution_count": 13,
     "metadata": {},
     "output_type": "execute_result"
    }
   ],
   "source": [
    "df['country'] = df['country'].fillna('unknown')\n",
    "df['country'].isnull().sum()"
   ]
  },
  {
   "cell_type": "code",
   "execution_count": 14,
   "id": "e011663e-d6ae-4da4-b014-a78cd669de12",
   "metadata": {},
   "outputs": [
    {
     "data": {
      "text/plain": [
       "0"
      ]
     },
     "execution_count": 14,
     "metadata": {},
     "output_type": "execute_result"
    }
   ],
   "source": [
    "df['rating'] = df['rating'].fillna(df['rating'].mode()[0])\n",
    "df['rating'].isnull().sum()"
   ]
  },
  {
   "cell_type": "code",
   "execution_count": 15,
   "id": "52f6f426-2294-4b4f-bb53-4cd28798b58d",
   "metadata": {},
   "outputs": [
    {
     "data": {
      "text/plain": [
       "0"
      ]
     },
     "execution_count": 15,
     "metadata": {},
     "output_type": "execute_result"
    }
   ],
   "source": [
    "# ffill() - any NaN value in the 'date_added' column will be replaced with the last valid observation in the column.\n",
    "# It is useful to ensure continuity in the data, to maintain the chronological order of the data, used for time-series analysis or visualizations.\n",
    "\n",
    "df['date_added']= df['date_added'].ffill()\n",
    "df['date_added'].isnull().sum()"
   ]
  },
  {
   "cell_type": "code",
   "execution_count": 16,
   "id": "577ee9ae-e414-4008-9cdc-e69b0cc63478",
   "metadata": {},
   "outputs": [
    {
     "data": {
      "text/html": [
       "<div>\n",
       "<style scoped>\n",
       "    .dataframe tbody tr th:only-of-type {\n",
       "        vertical-align: middle;\n",
       "    }\n",
       "\n",
       "    .dataframe tbody tr th {\n",
       "        vertical-align: top;\n",
       "    }\n",
       "\n",
       "    .dataframe thead th {\n",
       "        text-align: right;\n",
       "    }\n",
       "</style>\n",
       "<table border=\"1\" class=\"dataframe\">\n",
       "  <thead>\n",
       "    <tr style=\"text-align: right;\">\n",
       "      <th></th>\n",
       "      <th>type</th>\n",
       "      <th>title</th>\n",
       "      <th>director</th>\n",
       "      <th>cast</th>\n",
       "      <th>country</th>\n",
       "      <th>date_added</th>\n",
       "      <th>release_year</th>\n",
       "      <th>rating</th>\n",
       "      <th>duration</th>\n",
       "      <th>categories</th>\n",
       "    </tr>\n",
       "  </thead>\n",
       "  <tbody>\n",
       "    <tr>\n",
       "      <th>0</th>\n",
       "      <td>Movie</td>\n",
       "      <td>The Grand Seduction</td>\n",
       "      <td>Don McKellar</td>\n",
       "      <td>Brendan Gleeson, Taylor Kitsch, Gordon Pinsent</td>\n",
       "      <td>Canada</td>\n",
       "      <td>March 30, 2021</td>\n",
       "      <td>2014</td>\n",
       "      <td>13+</td>\n",
       "      <td>113 min</td>\n",
       "      <td>Comedy, Drama</td>\n",
       "    </tr>\n",
       "    <tr>\n",
       "      <th>1</th>\n",
       "      <td>Movie</td>\n",
       "      <td>Take Care Good Night</td>\n",
       "      <td>Girish Joshi</td>\n",
       "      <td>Mahesh Manjrekar, Abhay Mahajan, Sachin Khedekar</td>\n",
       "      <td>India</td>\n",
       "      <td>March 30, 2021</td>\n",
       "      <td>2018</td>\n",
       "      <td>13+</td>\n",
       "      <td>110 min</td>\n",
       "      <td>Drama, International</td>\n",
       "    </tr>\n",
       "    <tr>\n",
       "      <th>2</th>\n",
       "      <td>Movie</td>\n",
       "      <td>Secrets of Deception</td>\n",
       "      <td>Josh Webber</td>\n",
       "      <td>Tom Sizemore, Lorenzo Lamas, Robert LaSardo, R...</td>\n",
       "      <td>United States</td>\n",
       "      <td>March 30, 2021</td>\n",
       "      <td>2017</td>\n",
       "      <td>13+</td>\n",
       "      <td>74 min</td>\n",
       "      <td>Action, Drama, Suspense</td>\n",
       "    </tr>\n",
       "    <tr>\n",
       "      <th>3</th>\n",
       "      <td>Movie</td>\n",
       "      <td>Pink: Staying True</td>\n",
       "      <td>Sonia Anderson</td>\n",
       "      <td>Interviews with: Pink, Adele, Beyoncé, Britney...</td>\n",
       "      <td>United States</td>\n",
       "      <td>March 30, 2021</td>\n",
       "      <td>2014</td>\n",
       "      <td>13+</td>\n",
       "      <td>69 min</td>\n",
       "      <td>Documentary</td>\n",
       "    </tr>\n",
       "    <tr>\n",
       "      <th>4</th>\n",
       "      <td>Movie</td>\n",
       "      <td>Monster Maker</td>\n",
       "      <td>Giles Foster</td>\n",
       "      <td>Harry Dean Stanton, Kieran O'Brien, George Cos...</td>\n",
       "      <td>United Kingdom</td>\n",
       "      <td>March 30, 2021</td>\n",
       "      <td>1989</td>\n",
       "      <td>13+</td>\n",
       "      <td>45 min</td>\n",
       "      <td>Drama, Fantasy</td>\n",
       "    </tr>\n",
       "  </tbody>\n",
       "</table>\n",
       "</div>"
      ],
      "text/plain": [
       "    type                 title        director  \\\n",
       "0  Movie   The Grand Seduction    Don McKellar   \n",
       "1  Movie  Take Care Good Night    Girish Joshi   \n",
       "2  Movie  Secrets of Deception     Josh Webber   \n",
       "3  Movie    Pink: Staying True  Sonia Anderson   \n",
       "4  Movie         Monster Maker    Giles Foster   \n",
       "\n",
       "                                                cast         country  \\\n",
       "0     Brendan Gleeson, Taylor Kitsch, Gordon Pinsent          Canada   \n",
       "1   Mahesh Manjrekar, Abhay Mahajan, Sachin Khedekar           India   \n",
       "2  Tom Sizemore, Lorenzo Lamas, Robert LaSardo, R...   United States   \n",
       "3  Interviews with: Pink, Adele, Beyoncé, Britney...   United States   \n",
       "4  Harry Dean Stanton, Kieran O'Brien, George Cos...  United Kingdom   \n",
       "\n",
       "       date_added  release_year rating duration               categories  \n",
       "0  March 30, 2021          2014    13+  113 min            Comedy, Drama  \n",
       "1  March 30, 2021          2018    13+  110 min     Drama, International  \n",
       "2  March 30, 2021          2017    13+   74 min  Action, Drama, Suspense  \n",
       "3  March 30, 2021          2014    13+   69 min              Documentary  \n",
       "4  March 30, 2021          1989    13+   45 min           Drama, Fantasy  "
      ]
     },
     "execution_count": 16,
     "metadata": {},
     "output_type": "execute_result"
    }
   ],
   "source": [
    "df.head()"
   ]
  },
  {
   "cell_type": "code",
   "execution_count": 17,
   "id": "78cce9c0",
   "metadata": {
    "papermill": {
     "duration": 0.04596,
     "end_time": "2023-07-11T02:48:40.957833",
     "exception": false,
     "start_time": "2023-07-11T02:48:40.911873",
     "status": "completed"
    },
    "tags": []
   },
   "outputs": [
    {
     "data": {
      "text/html": [
       "<div>\n",
       "<style scoped>\n",
       "    .dataframe tbody tr th:only-of-type {\n",
       "        vertical-align: middle;\n",
       "    }\n",
       "\n",
       "    .dataframe tbody tr th {\n",
       "        vertical-align: top;\n",
       "    }\n",
       "\n",
       "    .dataframe thead th {\n",
       "        text-align: right;\n",
       "    }\n",
       "</style>\n",
       "<table border=\"1\" class=\"dataframe\">\n",
       "  <thead>\n",
       "    <tr style=\"text-align: right;\">\n",
       "      <th></th>\n",
       "      <th>type</th>\n",
       "      <th>title</th>\n",
       "      <th>director</th>\n",
       "      <th>cast</th>\n",
       "      <th>country</th>\n",
       "      <th>date_added</th>\n",
       "      <th>release_year</th>\n",
       "      <th>rating</th>\n",
       "      <th>duration</th>\n",
       "      <th>categories</th>\n",
       "    </tr>\n",
       "  </thead>\n",
       "  <tbody>\n",
       "    <tr>\n",
       "      <th>0</th>\n",
       "      <td>Movie</td>\n",
       "      <td>The Grand Seduction</td>\n",
       "      <td>Don McKellar</td>\n",
       "      <td>Brendan Gleeson, Taylor Kitsch, Gordon Pinsent</td>\n",
       "      <td>Canada</td>\n",
       "      <td>2021-03-30</td>\n",
       "      <td>2014</td>\n",
       "      <td>13+</td>\n",
       "      <td>113 min</td>\n",
       "      <td>Comedy, Drama</td>\n",
       "    </tr>\n",
       "    <tr>\n",
       "      <th>1</th>\n",
       "      <td>Movie</td>\n",
       "      <td>Take Care Good Night</td>\n",
       "      <td>Girish Joshi</td>\n",
       "      <td>Mahesh Manjrekar, Abhay Mahajan, Sachin Khedekar</td>\n",
       "      <td>India</td>\n",
       "      <td>2021-03-30</td>\n",
       "      <td>2018</td>\n",
       "      <td>13+</td>\n",
       "      <td>110 min</td>\n",
       "      <td>Drama, International</td>\n",
       "    </tr>\n",
       "    <tr>\n",
       "      <th>2</th>\n",
       "      <td>Movie</td>\n",
       "      <td>Secrets of Deception</td>\n",
       "      <td>Josh Webber</td>\n",
       "      <td>Tom Sizemore, Lorenzo Lamas, Robert LaSardo, R...</td>\n",
       "      <td>United States</td>\n",
       "      <td>2021-03-30</td>\n",
       "      <td>2017</td>\n",
       "      <td>13+</td>\n",
       "      <td>74 min</td>\n",
       "      <td>Action, Drama, Suspense</td>\n",
       "    </tr>\n",
       "    <tr>\n",
       "      <th>3</th>\n",
       "      <td>Movie</td>\n",
       "      <td>Pink: Staying True</td>\n",
       "      <td>Sonia Anderson</td>\n",
       "      <td>Interviews with: Pink, Adele, Beyoncé, Britney...</td>\n",
       "      <td>United States</td>\n",
       "      <td>2021-03-30</td>\n",
       "      <td>2014</td>\n",
       "      <td>13+</td>\n",
       "      <td>69 min</td>\n",
       "      <td>Documentary</td>\n",
       "    </tr>\n",
       "    <tr>\n",
       "      <th>4</th>\n",
       "      <td>Movie</td>\n",
       "      <td>Monster Maker</td>\n",
       "      <td>Giles Foster</td>\n",
       "      <td>Harry Dean Stanton, Kieran O'Brien, George Cos...</td>\n",
       "      <td>United Kingdom</td>\n",
       "      <td>2021-03-30</td>\n",
       "      <td>1989</td>\n",
       "      <td>13+</td>\n",
       "      <td>45 min</td>\n",
       "      <td>Drama, Fantasy</td>\n",
       "    </tr>\n",
       "  </tbody>\n",
       "</table>\n",
       "</div>"
      ],
      "text/plain": [
       "    type                 title        director  \\\n",
       "0  Movie   The Grand Seduction    Don McKellar   \n",
       "1  Movie  Take Care Good Night    Girish Joshi   \n",
       "2  Movie  Secrets of Deception     Josh Webber   \n",
       "3  Movie    Pink: Staying True  Sonia Anderson   \n",
       "4  Movie         Monster Maker    Giles Foster   \n",
       "\n",
       "                                                cast         country  \\\n",
       "0     Brendan Gleeson, Taylor Kitsch, Gordon Pinsent          Canada   \n",
       "1   Mahesh Manjrekar, Abhay Mahajan, Sachin Khedekar           India   \n",
       "2  Tom Sizemore, Lorenzo Lamas, Robert LaSardo, R...   United States   \n",
       "3  Interviews with: Pink, Adele, Beyoncé, Britney...   United States   \n",
       "4  Harry Dean Stanton, Kieran O'Brien, George Cos...  United Kingdom   \n",
       "\n",
       "  date_added  release_year rating duration               categories  \n",
       "0 2021-03-30          2014    13+  113 min            Comedy, Drama  \n",
       "1 2021-03-30          2018    13+  110 min     Drama, International  \n",
       "2 2021-03-30          2017    13+   74 min  Action, Drama, Suspense  \n",
       "3 2021-03-30          2014    13+   69 min              Documentary  \n",
       "4 2021-03-30          1989    13+   45 min           Drama, Fantasy  "
      ]
     },
     "execution_count": 17,
     "metadata": {},
     "output_type": "execute_result"
    }
   ],
   "source": [
    "df['date_added']= pd.to_datetime(df['date_added'], format='%B %d, %Y')\n",
    "df.head()"
   ]
  },
  {
   "cell_type": "markdown",
   "id": "e9464aa0",
   "metadata": {
    "papermill": {
     "duration": 0.016034,
     "end_time": "2023-07-11T02:48:41.312721",
     "exception": false,
     "start_time": "2023-07-11T02:48:41.296687",
     "status": "completed"
    },
    "tags": []
   },
   "source": [
    "### **Exploratory Data Analysis**"
   ]
  },
  {
   "cell_type": "markdown",
   "id": "538c64e1-2610-4d1d-967d-5dd77cfc46ff",
   "metadata": {},
   "source": [
    "#### Analyzing 'Type' Feature"
   ]
  },
  {
   "cell_type": "code",
   "execution_count": 18,
   "id": "223e7cba-fc85-49e6-8de0-e9316622bc99",
   "metadata": {},
   "outputs": [
    {
     "data": {
      "text/plain": [
       "2"
      ]
     },
     "execution_count": 18,
     "metadata": {},
     "output_type": "execute_result"
    }
   ],
   "source": [
    "# Number of unique values in the 'type' column\n",
    "\n",
    "df['type'].nunique()"
   ]
  },
  {
   "cell_type": "code",
   "execution_count": 19,
   "id": "e93b68d3",
   "metadata": {
    "papermill": {
     "duration": 0.029666,
     "end_time": "2023-07-11T02:48:41.358396",
     "exception": false,
     "start_time": "2023-07-11T02:48:41.328730",
     "status": "completed"
    },
    "tags": []
   },
   "outputs": [
    {
     "data": {
      "text/plain": [
       "type\n",
       "Movie      7814\n",
       "TV Show    1854\n",
       "Name: count, dtype: int64"
      ]
     },
     "execution_count": 19,
     "metadata": {},
     "output_type": "execute_result"
    }
   ],
   "source": [
    "df.type.value_counts()"
   ]
  },
  {
   "cell_type": "code",
   "execution_count": 20,
   "id": "31546832",
   "metadata": {
    "papermill": {
     "duration": 0.031369,
     "end_time": "2023-07-11T02:48:41.406232",
     "exception": false,
     "start_time": "2023-07-11T02:48:41.374863",
     "status": "completed"
    },
    "tags": []
   },
   "outputs": [
    {
     "data": {
      "text/plain": [
       "type\n",
       "Movie      0.808233\n",
       "TV Show    0.191767\n",
       "Name: proportion, dtype: float64"
      ]
     },
     "execution_count": 20,
     "metadata": {},
     "output_type": "execute_result"
    }
   ],
   "source": [
    "df.type.value_counts(normalize=True)"
   ]
  },
  {
   "cell_type": "code",
   "execution_count": 21,
   "id": "cdad81b4-495a-4797-a629-d46a0d530036",
   "metadata": {},
   "outputs": [
    {
     "data": {
      "text/plain": [
       "<Axes: xlabel='type', ylabel='count'>"
      ]
     },
     "execution_count": 21,
     "metadata": {},
     "output_type": "execute_result"
    },
    {
     "data": {
      "image/png": "[encoded data removed]",
      "text/plain": [
       "<Figure size 640x480 with 1 Axes>"
      ]
     },
     "metadata": {},
     "output_type": "display_data"
    }
   ],
   "source": [
    "sns.countplot(x = df['type'], hue=df['type'], palette=\"Pastel2\")"
   ]
  },
  {
   "cell_type": "markdown",
   "id": "5bd8336d",
   "metadata": {
    "papermill": {
     "duration": 0.016753,
     "end_time": "2023-07-11T02:48:41.860805",
     "exception": false,
     "start_time": "2023-07-11T02:48:41.844052",
     "status": "completed"
    },
    "tags": []
   },
   "source": [
    "##### Most of the shows released on Amazon Prime are movies rather than TV shows, with movies accounting for 80.82% and TV shows for 19.18%."
   ]
  },
  {
   "cell_type": "markdown",
   "id": "4ff9add6",
   "metadata": {
    "papermill": {
     "duration": 0.01666,
     "end_time": "2023-07-11T02:48:41.894522",
     "exception": false,
     "start_time": "2023-07-11T02:48:41.877862",
     "status": "completed"
    },
    "tags": []
   },
   "source": [
    "### Analyzing 'Rating' Feature"
   ]
  },
  {
   "cell_type": "code",
   "execution_count": 22,
   "id": "645402fd",
   "metadata": {
    "papermill": {
     "duration": 0.936735,
     "end_time": "2023-07-11T02:48:42.848245",
     "exception": false,
     "start_time": "2023-07-11T02:48:41.911510",
     "status": "completed"
    },
    "tags": []
   },
   "outputs": [
    {
     "data": {
      "text/plain": [
       "<Axes: xlabel='rating', ylabel='count'>"
      ]
     },
     "execution_count": 22,
     "metadata": {},
     "output_type": "execute_result"
    },
    {
     "data": {
      "image/png": "[encoded data removed]",
      "text/plain": [
       "<Figure size 2500x600 with 1 Axes>"
      ]
     },
     "metadata": {},
     "output_type": "display_data"
    }
   ],
   "source": [
    "plt.figure(figsize=(25,6))\n",
    "sns.countplot(x=df['rating'], hue=df['rating'], palette=\"Pastel2\")"
   ]
  },
  {
   "cell_type": "markdown",
   "id": "bb86c3f8",
   "metadata": {
    "papermill": {
     "duration": 0.018052,
     "end_time": "2023-07-11T02:48:42.887087",
     "exception": false,
     "start_time": "2023-07-11T02:48:42.869035",
     "status": "completed"
    },
    "tags": []
   },
   "source": [
    "##### The shows most added on Amazon Prime had a rating of 13+."
   ]
  },
  {
   "cell_type": "markdown",
   "id": "0bc4eca9",
   "metadata": {
    "papermill": {
     "duration": 0.018072,
     "end_time": "2023-07-11T02:48:42.923529",
     "exception": false,
     "start_time": "2023-07-11T02:48:42.905457",
     "status": "completed"
    },
    "tags": []
   },
   "source": [
    "### Analyzing 'Categories' Feature"
   ]
  },
  {
   "cell_type": "code",
   "execution_count": 23,
   "id": "e5a780ee",
   "metadata": {
    "papermill": {
     "duration": 0.376531,
     "end_time": "2023-07-11T02:48:43.318610",
     "exception": false,
     "start_time": "2023-07-11T02:48:42.942079",
     "status": "completed"
    },
    "tags": []
   },
   "outputs": [
    {
     "data": {
      "text/plain": [
       "<Axes: xlabel='categories', ylabel='count'>"
      ]
     },
     "execution_count": 23,
     "metadata": {},
     "output_type": "execute_result"
    },
    {
     "data": {
      "image/png": "[encoded data removed]",
      "text/plain": [
       "<Figure size 2000x300 with 1 Axes>"
      ]
     },
     "metadata": {},
     "output_type": "display_data"
    }
   ],
   "source": [
    "plt.figure(figsize=(20, 3))\n",
    "sns.countplot(x=df['categories'], hue=df['categories'], order=df['categories'].value_counts().nlargest(10).index.tolist(), palette=\"Pastel2\")"
   ]
  },
  {
   "cell_type": "markdown",
   "id": "a40a013d",
   "metadata": {
    "papermill": {
     "duration": 0.018843,
     "end_time": "2023-07-11T02:48:43.357074",
     "exception": false,
     "start_time": "2023-07-11T02:48:43.338231",
     "status": "completed"
    },
    "tags": []
   },
   "source": [
    "##### The drama category is the show category that has been released the most on Amazon Prime."
   ]
  },
  {
   "cell_type": "markdown",
   "id": "ac717be8",
   "metadata": {
    "papermill": {
     "duration": 0.021053,
     "end_time": "2023-07-11T02:48:43.397497",
     "exception": false,
     "start_time": "2023-07-11T02:48:43.376444",
     "status": "completed"
    },
    "tags": []
   },
   "source": [
    "#### Analyzing 'country' feature"
   ]
  },
  {
   "cell_type": "code",
   "execution_count": 24,
   "id": "233b0378-8074-4e83-8da9-531d69f49c58",
   "metadata": {},
   "outputs": [
    {
     "data": {
      "text/plain": [
       "87"
      ]
     },
     "execution_count": 24,
     "metadata": {},
     "output_type": "execute_result"
    }
   ],
   "source": [
    "# The number of unique values in the 'country' column\n",
    "\n",
    "df['country'].nunique()"
   ]
  },
  {
   "cell_type": "code",
   "execution_count": 25,
   "id": "8a8db868-0e01-4707-9829-afc2b5731231",
   "metadata": {},
   "outputs": [
    {
     "data": {
      "text/plain": [
       "country\n",
       "unknown                                  8996\n",
       "United States                             253\n",
       "India                                     229\n",
       "United Kingdom                             28\n",
       "Canada                                     16\n",
       "                                         ... \n",
       "United States, Germany, Brazil, Italy       1\n",
       "South Africa                                1\n",
       "Australia, United States, Germany           1\n",
       "Germany, Austria, United States             1\n",
       "Italy, Spain                                1\n",
       "Name: count, Length: 87, dtype: int64"
      ]
     },
     "execution_count": 25,
     "metadata": {},
     "output_type": "execute_result"
    }
   ],
   "source": [
    "country_counts = df['country'].value_counts()\n",
    "country_counts"
   ]
  },
  {
   "cell_type": "code",
   "execution_count": 26,
   "id": "23ad55da-1e47-4002-9086-0dbb94325906",
   "metadata": {},
   "outputs": [
    {
     "data": {
      "text/plain": [
       "([0, 1, 2, 3, 4, 5, 6, 7, 8],\n",
       " [Text(0, 0, 'United States'),\n",
       "  Text(1, 0, 'India'),\n",
       "  Text(2, 0, 'United Kingdom'),\n",
       "  Text(3, 0, 'Canada'),\n",
       "  Text(4, 0, 'United Kingdom, United States'),\n",
       "  Text(5, 0, 'Spain'),\n",
       "  Text(6, 0, 'Italy'),\n",
       "  Text(7, 0, 'Canada, United States'),\n",
       "  Text(8, 0, 'United States, United Kingdom')])"
      ]
     },
     "execution_count": 26,
     "metadata": {},
     "output_type": "execute_result"
    },
    {
     "data": {
      "image/png": "[encoded data removed]",
      "text/plain": [
       "<Figure size 1000x300 with 1 Axes>"
      ]
     },
     "metadata": {},
     "output_type": "display_data"
    }
   ],
   "source": [
    "plt.figure(figsize=(10, 3))\n",
    "top_countries = country_counts.nlargest(10)[1:]\n",
    "top_countries\n",
    "sns.countplot(x=df['country'], order=top_countries.index, hue=df['country'], palette='Set2')\n",
    "plt.xticks(rotation=45)"
   ]
  },
  {
   "cell_type": "markdown",
   "id": "6db4f252",
   "metadata": {
    "papermill": {
     "duration": 0.019232,
     "end_time": "2023-07-11T02:48:43.791780",
     "exception": false,
     "start_time": "2023-07-11T02:48:43.772548",
     "status": "completed"
    },
    "tags": []
   },
   "source": [
    "##### Based on the data, the top 3 countries that released the most TV shows and movies on Amazon Prime, respectively, were the United States, India, and the United Kingdom."
   ]
  },
  {
   "cell_type": "markdown",
   "id": "676a4400",
   "metadata": {
    "papermill": {
     "duration": 0.019236,
     "end_time": "2023-07-11T02:48:43.830755",
     "exception": false,
     "start_time": "2023-07-11T02:48:43.811519",
     "status": "completed"
    },
    "tags": []
   },
   "source": [
    "#### Analyzing 'director' feature"
   ]
  },
  {
   "cell_type": "code",
   "execution_count": 27,
   "id": "e630cb1f-a1f4-4d6f-8834-c3cfd1d87011",
   "metadata": {},
   "outputs": [
    {
     "data": {
      "text/plain": [
       "5774"
      ]
     },
     "execution_count": 27,
     "metadata": {},
     "output_type": "execute_result"
    }
   ],
   "source": [
    "# The number of unique values in the 'country' column\n",
    "\n",
    "df['director'].nunique()"
   ]
  },
  {
   "cell_type": "code",
   "execution_count": 28,
   "id": "c9f093a3-836a-4167-bf5b-f41a65316849",
   "metadata": {},
   "outputs": [
    {
     "data": {
      "text/plain": [
       "director\n",
       "unknown                  2083\n",
       "Mark Knight               113\n",
       "Cannis Holder              61\n",
       "Moonbug Entertainment      37\n",
       "Jay Chapman                34\n",
       "                         ... \n",
       "Karyn Kusama                1\n",
       "K. Subash                   1\n",
       "Robert Cuffley              1\n",
       "J. Sabarish                 1\n",
       "Steve Barker                1\n",
       "Name: count, Length: 5774, dtype: int64"
      ]
     },
     "execution_count": 28,
     "metadata": {},
     "output_type": "execute_result"
    }
   ],
   "source": [
    "director_counts = df['director'].value_counts()\n",
    "director_counts"
   ]
  },
  {
   "cell_type": "code",
   "execution_count": 29,
   "id": "f5505996",
   "metadata": {
    "papermill": {
     "duration": 0.406725,
     "end_time": "2023-07-11T02:48:44.257156",
     "exception": false,
     "start_time": "2023-07-11T02:48:43.850431",
     "status": "completed"
    },
    "tags": []
   },
   "outputs": [
    {
     "data": {
      "text/plain": [
       "<Axes: xlabel='director', ylabel='count'>"
      ]
     },
     "execution_count": 29,
     "metadata": {},
     "output_type": "execute_result"
    },
    {
     "data": {
      "image/png": "[encoded data removed]",
      "text/plain": [
       "<Figure size 1000x300 with 1 Axes>"
      ]
     },
     "metadata": {},
     "output_type": "display_data"
    }
   ],
   "source": [
    "plt.figure(figsize=(10, 3))\n",
    "top_director = director_counts.nlargest(5)[1:]\n",
    "sns.countplot(x=df['director'], order=top_director.index, hue=df['director'], palette='Set2')"
   ]
  },
  {
   "cell_type": "markdown",
   "id": "07120e2c",
   "metadata": {
    "papermill": {
     "duration": 0.019912,
     "end_time": "2023-07-11T02:48:44.297847",
     "exception": false,
     "start_time": "2023-07-11T02:48:44.277935",
     "status": "completed"
    },
    "tags": []
   },
   "source": [
    "##### Mark Night produced the most shows released on Amazon Prime."
   ]
  },
  {
   "cell_type": "markdown",
   "id": "50cd1b80",
   "metadata": {
    "papermill": {
     "duration": 0.019993,
     "end_time": "2023-07-11T02:48:44.338107",
     "exception": false,
     "start_time": "2023-07-11T02:48:44.318114",
     "status": "completed"
    },
    "tags": []
   },
   "source": [
    "#### Analyzing 'date_added' feature"
   ]
  },
  {
   "cell_type": "code",
   "execution_count": 30,
   "id": "14a3d590",
   "metadata": {
    "papermill": {
     "duration": 0.871087,
     "end_time": "2023-07-11T02:48:45.229393",
     "exception": false,
     "start_time": "2023-07-11T02:48:44.358306",
     "status": "completed"
    },
    "tags": []
   },
   "outputs": [
    {
     "data": {
      "text/plain": [
       "(array([18718., 18748., 18779., 18809., 18840., 18871., 18901.]),\n",
       " [Text(18718.0, 0, '2021-04'),\n",
       "  Text(18748.0, 0, '2021-05'),\n",
       "  Text(18779.0, 0, '2021-06'),\n",
       "  Text(18809.0, 0, '2021-07'),\n",
       "  Text(18840.0, 0, '2021-08'),\n",
       "  Text(18871.0, 0, '2021-09'),\n",
       "  Text(18901.0, 0, '2021-10')])"
      ]
     },
     "execution_count": 30,
     "metadata": {},
     "output_type": "execute_result"
    },
    {
     "data": {
      "image/png": "[encoded data removed]",
      "text/plain": [
       "<Figure size 500x500 with 1 Axes>"
      ]
     },
     "metadata": {},
     "output_type": "display_data"
    }
   ],
   "source": [
    "sns.displot(data = df ,x=\"date_added\")\n",
    "plt.xticks(rotation = 45)"
   ]
  },
  {
   "cell_type": "markdown",
   "id": "9868d7ce",
   "metadata": {
    "papermill": {
     "duration": 0.020865,
     "end_time": "2023-07-11T02:48:45.271657",
     "exception": false,
     "start_time": "2023-07-11T02:48:45.250792",
     "status": "completed"
    },
    "tags": []
   },
   "source": [
    "#### Analyzing 'release_year' feature"
   ]
  },
  {
   "cell_type": "code",
   "execution_count": 31,
   "id": "d601c0da",
   "metadata": {
    "papermill": {
     "duration": 0.706096,
     "end_time": "2023-07-11T02:48:45.998925",
     "exception": false,
     "start_time": "2023-07-11T02:48:45.292829",
     "status": "completed"
    },
    "tags": []
   },
   "outputs": [
    {
     "data": {
      "text/plain": [
       "<seaborn.axisgrid.FacetGrid at 0x1b91cfa4d40>"
      ]
     },
     "execution_count": 31,
     "metadata": {},
     "output_type": "execute_result"
    },
    {
     "data": {
      "image/png": "[encoded data removed]",
      "text/plain": [
       "<Figure size 800x400 with 1 Axes>"
      ]
     },
     "metadata": {},
     "output_type": "display_data"
    }
   ],
   "source": [
    "sns.displot(data = df ,x=\"release_year\", height=4, aspect=2)"
   ]
  },
  {
   "cell_type": "markdown",
   "id": "d6aef165",
   "metadata": {
    "papermill": {
     "duration": 0.021314,
     "end_time": "2023-07-11T02:48:46.041882",
     "exception": false,
     "start_time": "2023-07-11T02:48:46.020568",
     "status": "completed"
    },
    "tags": []
   },
   "source": [
    "##### Shows that were released the most on Amazon Prime were from the year 2021."
   ]
  },
  {
   "cell_type": "markdown",
   "id": "c4598302",
   "metadata": {
    "papermill": {
     "duration": 0.021609,
     "end_time": "2023-07-11T02:48:46.085335",
     "exception": false,
     "start_time": "2023-07-11T02:48:46.063726",
     "status": "completed"
    },
    "tags": []
   },
   "source": [
    "### **Conclusion**"
   ]
  },
  {
   "cell_type": "markdown",
   "id": "3f971e99",
   "metadata": {
    "papermill": {
     "duration": 0.021152,
     "end_time": "2023-07-11T02:48:46.128130",
     "exception": false,
     "start_time": "2023-07-11T02:48:46.106978",
     "status": "completed"
    },
    "tags": []
   },
   "source": [
    "##### •Amazon Prime Video uploads more movies than TV shows.\n",
    "##### •Most uploaded shows on Amazon Prime Video are from the US.\n",
    "##### •The trend for the last 5 years is that more movies are always uploaded compared to TV shows.\n",
    "##### •Amazon Prime Video has the most uploads in the drama show category.\n",
    "##### •Shows uploaded on Amazon Prime Video are mostly directed by Mark Knight.\n",
    "##### •The most uploaded show rating on Amazon Prime Video is Rating 13+ in the drama show category."
   ]
  }
 ],
 "metadata": {
  "kernelspec": {
   "display_name": "Python 3 (ipykernel)",
   "language": "python",
   "name": "python3"
  },
  "language_info": {
   "codemirror_mode": {
    "name": "ipython",
    "version": 3
   },
   "file_extension": ".py",
   "mimetype": "text/x-python",
   "name": "python",
   "nbconvert_exporter": "python",
   "pygments_lexer": "ipython3",
   "version": "3.12.2"
  },
  "papermill": {
   "default_parameters": {},
   "duration": 22.715209,
   "end_time": "2023-07-11T02:48:47.258990",
   "environment_variables": {},
   "exception": null,
   "input_path": "__notebook__.ipynb",
   "output_path": "__notebook__.ipynb",
   "parameters": {},
   "start_time": "2023-07-11T02:48:24.543781",
   "version": "2.4.0"
  }
 },
 "nbformat": 4,
 "nbformat_minor": 5
}

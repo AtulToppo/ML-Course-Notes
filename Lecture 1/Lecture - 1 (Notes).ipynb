{
 "cells": [
  {
   "cell_type": "markdown",
   "id": "f431eaee-fe73-4780-88fb-dc8145f4ba83",
   "metadata": {},
   "source": [
    "## **Python - Programming Language**\n"
   ]
  },
  {
   "cell_type": "markdown",
   "id": "7d196b51-a8b1-4535-a841-43e66392b7be",
   "metadata": {},
   "source": [
    "Python is a versatile programming language developed by Guido van Rossum in 1991.\n",
    "\n",
    "**Purpose:**\n",
    "1. Web development\n",
    "2. Software development\n",
    "3. Mathematics\n",
    "4. Scripting\n",
    "\n",
    "**Why Python?**\n",
    "1. Works on multiple platforms.\n",
    "2. Allows writing code in fewer lines compared to other languages.\n",
    "3. Utilizes an interpreter environment, facilitating rapid development and debugging.\n",
    "4. Supports programming paradigms such as procedural, object-oriented, and functional programming.\n",
    "\n",
    "**Python Syntax**\n",
    "\n",
    "1. **English-like:** Python syntax closely resembles English, making it easy to read and write.\n",
    "2. **No Semicolons or Parentheses:** Python code doesn't require semicolons to end statements or parentheses to group expressions.\n",
    "3. **Indentation Only:** Proper indentation, rather than braces or keywords, defines the structure of code blocks."
   ]
  },
  {
   "cell_type": "markdown",
   "id": "43ede971-3f7d-4147-af61-c3f440a728cc",
   "metadata": {},
   "source": [
    "### **Variables in Python**\n",
    "\n",
    "Variables are containers used to store data values.\n",
    "\n",
    "- In Python, there's no command to declare a variable.\n",
    "- Simply assign a value, and the variable is declared."
   ]
  },
  {
   "cell_type": "code",
   "execution_count": 1,
   "id": "ea02bff4-9c89-4208-9313-8bbb7444b052",
   "metadata": {},
   "outputs": [
    {
     "name": "stdout",
     "output_type": "stream",
     "text": [
      "5\n",
      "John\n"
     ]
    }
   ],
   "source": [
    "a = 5\n",
    "b = \"John\"\n",
    "\n",
    "print(a)\n",
    "print(b)"
   ]
  },
  {
   "cell_type": "code",
   "execution_count": 2,
   "id": "799576cb-14fe-45c5-88da-c12d0bc8c66b",
   "metadata": {},
   "outputs": [
    {
     "data": {
      "text/plain": [
       "int"
      ]
     },
     "execution_count": 2,
     "metadata": {},
     "output_type": "execute_result"
    }
   ],
   "source": [
    "type(a)"
   ]
  },
  {
   "cell_type": "code",
   "execution_count": 3,
   "id": "314e7ae7-9598-47e1-8280-251ded2326ab",
   "metadata": {},
   "outputs": [
    {
     "name": "stdout",
     "output_type": "stream",
     "text": [
      "<class 'str'>\n"
     ]
    }
   ],
   "source": [
    "print(type(b))"
   ]
  },
  {
   "cell_type": "markdown",
   "id": "ab98b25a-4a4b-41d4-ad8a-1d008c00805a",
   "metadata": {},
   "source": [
    "### **Casting in Python**\n",
    "\n",
    "Casting is used to specify the data type of a variable.\n",
    "\n",
    "- It allows converting a variable from one data type to another.\n",
    "- Python provides built-in functions like `int()`, `float()`, `str()`, etc., for casting variables."
   ]
  },
  {
   "cell_type": "code",
   "execution_count": 4,
   "id": "7bfed555-e666-4052-b6da-58e115371728",
   "metadata": {},
   "outputs": [],
   "source": [
    "a = str(5)\n",
    "b = int(3)\n",
    "c = float(9)"
   ]
  },
  {
   "cell_type": "code",
   "execution_count": 5,
   "id": "f6f73c1e-1714-457e-a54f-f8feeb282eff",
   "metadata": {},
   "outputs": [
    {
     "name": "stdout",
     "output_type": "stream",
     "text": [
      "5\n"
     ]
    },
    {
     "data": {
      "text/plain": [
       "str"
      ]
     },
     "execution_count": 5,
     "metadata": {},
     "output_type": "execute_result"
    }
   ],
   "source": [
    "print(a)\n",
    "type(a)"
   ]
  },
  {
   "cell_type": "code",
   "execution_count": 6,
   "id": "13d45b01-d366-4ee3-85c4-72a2107644d5",
   "metadata": {},
   "outputs": [
    {
     "name": "stdout",
     "output_type": "stream",
     "text": [
      "3\n"
     ]
    },
    {
     "data": {
      "text/plain": [
       "int"
      ]
     },
     "execution_count": 6,
     "metadata": {},
     "output_type": "execute_result"
    }
   ],
   "source": [
    "print(b)\n",
    "type(b)"
   ]
  },
  {
   "cell_type": "code",
   "execution_count": 7,
   "id": "1645550a-06ee-49bf-b4ee-77d6310e6ef2",
   "metadata": {},
   "outputs": [
    {
     "name": "stdout",
     "output_type": "stream",
     "text": [
      "9.0\n"
     ]
    },
    {
     "data": {
      "text/plain": [
       "float"
      ]
     },
     "execution_count": 7,
     "metadata": {},
     "output_type": "execute_result"
    }
   ],
   "source": [
    "print(c)\n",
    "type(c)"
   ]
  },
  {
   "cell_type": "markdown",
   "id": "2ed41a0b-ce8d-4092-9a96-c4b67bdad56b",
   "metadata": {},
   "source": [
    "### **Single and Double Quotes in Python**\n",
    "\n",
    "In Python, both single ('') and double (\"\") quotes can be used to denote strings."
   ]
  },
  {
   "cell_type": "code",
   "execution_count": 8,
   "id": "83b99195-9542-4251-b366-39d0a92b5085",
   "metadata": {},
   "outputs": [
    {
     "name": "stdout",
     "output_type": "stream",
     "text": [
      "<class 'str'>\n",
      "<class 'str'>\n"
     ]
    }
   ],
   "source": [
    "a = 'John'\n",
    "b = \"John\"\n",
    "\n",
    "print(type(a))\n",
    "print(type(b))"
   ]
  },
  {
   "cell_type": "markdown",
   "id": "03de86c0-d236-47d9-b8a4-8c3602b0508e",
   "metadata": {},
   "source": [
    "### **Case Sensitivity in Python**\n",
    "\n",
    "Variable names in Python are case sensitive. Using uppercase and lowercase letters in variable names creates separate variables."
   ]
  },
  {
   "cell_type": "code",
   "execution_count": 9,
   "id": "4fade51b-cf47-46b5-8fc5-5e774f9486d1",
   "metadata": {},
   "outputs": [
    {
     "name": "stdout",
     "output_type": "stream",
     "text": [
      "4\n",
      "5\n"
     ]
    }
   ],
   "source": [
    "a = 4\n",
    "A = 5\n",
    "\n",
    "print(a)\n",
    "print(A)"
   ]
  },
  {
   "cell_type": "markdown",
   "id": "32824087-c208-4553-80bb-e730a339a9ea",
   "metadata": {},
   "source": [
    "### **Variable Naming Rules in Python**\n",
    "\n",
    "When naming variables in Python, adhere to the following rules:\n",
    "\n",
    "1. Variable names should be descriptive, indicating their purpose or content.\n",
    "2. Start variable names with a letter or underscore (_).\n",
    "3. Variable names cannot start with a number.\n",
    "4. Variable names can contain alphanumeric characters and underscores.\n",
    "5. Variable names are case sensitive.\n",
    "6. Avoid using reserved keywords (e.g., for, while, break, continue) as variable names."
   ]
  },
  {
   "cell_type": "markdown",
   "id": "55e4b85c-e61f-44ff-b993-c434eb9f4cc2",
   "metadata": {},
   "source": [
    "**Right Variable Names:**\n",
    "```python\n",
    "myvar = \"John\"\n",
    "my_var = \"John\"\n",
    "_myvar = \"John\"\n",
    "MYVAR = \"John\"\n",
    "```\n",
    "\n",
    "**Wrong Variable Names:**\n",
    "```python\n",
    "2myvar = \"John\"  # Starts with a number\n",
    "my-var = 5       # Contains invalid character '-'\n",
    "my var = 7       # Contains invalid character ' '\n",
    "for = 5          # Reserved keyword 'for' used as a variable name\n",
    "```"
   ]
  },
  {
   "cell_type": "markdown",
   "id": "f679d375-b002-4176-af40-5dcbd85df6c7",
   "metadata": {},
   "source": [
    "### **Data Types in Python**\n",
    "\n",
    "- **Text:** str\n",
    "- **Numeric:** int, float, complex\n",
    "- **Sequence:** list, tuple, range\n",
    "- **Mapping:** dict\n",
    "- **Set:** set, frozenset\n",
    "- **Boolean:** bool\n",
    "- **None Type:** NoneType"
   ]
  },
  {
   "cell_type": "code",
   "execution_count": 10,
   "id": "9e962851-0f7c-48d2-be84-b1ba16e3444f",
   "metadata": {},
   "outputs": [
    {
     "data": {
      "text/plain": [
       "str"
      ]
     },
     "execution_count": 10,
     "metadata": {},
     "output_type": "execute_result"
    }
   ],
   "source": [
    "a = \"abc\"\n",
    "type(a)"
   ]
  },
  {
   "cell_type": "code",
   "execution_count": 11,
   "id": "76c8c202-dc7c-4a90-a1b5-40219c9ae829",
   "metadata": {},
   "outputs": [
    {
     "data": {
      "text/plain": [
       "int"
      ]
     },
     "execution_count": 11,
     "metadata": {},
     "output_type": "execute_result"
    }
   ],
   "source": [
    "a = 5\n",
    "type(a)"
   ]
  },
  {
   "cell_type": "code",
   "execution_count": 12,
   "id": "07e69aab-377c-4bc0-b760-dc3bd3ce686f",
   "metadata": {},
   "outputs": [
    {
     "data": {
      "text/plain": [
       "float"
      ]
     },
     "execution_count": 12,
     "metadata": {},
     "output_type": "execute_result"
    }
   ],
   "source": [
    "a = 5.0\n",
    "type(a)"
   ]
  },
  {
   "cell_type": "code",
   "execution_count": 13,
   "id": "ff81eda4-b133-43b2-b6b3-ce66e4f1abdb",
   "metadata": {},
   "outputs": [
    {
     "data": {
      "text/plain": [
       "complex"
      ]
     },
     "execution_count": 13,
     "metadata": {},
     "output_type": "execute_result"
    }
   ],
   "source": [
    "a = 5+6j\n",
    "type(a)"
   ]
  },
  {
   "cell_type": "markdown",
   "id": "500b8e6d-fe72-4dc1-8785-243c88b5d4b8",
   "metadata": {},
   "source": [
    "### **List in Python**\n",
    "\n",
    "- Lists are ordered collections of objects in Python.\n",
    "- Lists can contain items of different data types.\n",
    "- They are declared using square brackets `[]`."
   ]
  },
  {
   "cell_type": "code",
   "execution_count": 14,
   "id": "54b1845b-c64d-4866-aca3-a2ca512b5363",
   "metadata": {},
   "outputs": [
    {
     "data": {
      "text/plain": [
       "list"
      ]
     },
     "execution_count": 14,
     "metadata": {},
     "output_type": "execute_result"
    }
   ],
   "source": [
    "s = [1,2,3,4,\"john\"]\n",
    "type(s)"
   ]
  },
  {
   "cell_type": "markdown",
   "id": "784f3830-f0e4-4e20-bdb2-f59806bc701c",
   "metadata": {},
   "source": [
    "#### **Functions for Lists in Python**\n",
    "\n",
    "- `len(s)`: Returns the number of elements in list `s`.\n",
    "- `r.append(\"hello\")`: Appends `\"hello\"` to the end of list `r`.\n",
    "- `f = r.copy()`: Creates a shallow copy of list `r` and assigns it to variable `f`.\n",
    "- `r.insert(2, 'abcd')`: Inserts `'abcd'` at index `2` in list `r`.\n",
    "- `r.count(7)`: Returns the number of occurrences of `7` in list `r`.\n",
    "- `r.pop(6)`: Removes and returns the element at index `6` from list `r`.\n",
    "- `r.sort()`: Sorts the elements of list `r` in ascending order.\n",
    "- `r.remove(1)`: Removes the first occurrence of `1` from list `r`.\n",
    "- `r.clear()`: Removes all elements from list `r`."
   ]
  },
  {
   "cell_type": "code",
   "execution_count": 15,
   "id": "4ccd99e7-ad34-465e-be40-14ac4db67e34",
   "metadata": {},
   "outputs": [
    {
     "data": {
      "text/plain": [
       "5"
      ]
     },
     "execution_count": 15,
     "metadata": {},
     "output_type": "execute_result"
    }
   ],
   "source": [
    "len(s)"
   ]
  },
  {
   "cell_type": "code",
   "execution_count": 16,
   "id": "46c386ff-52b5-405a-84a9-06dbf8eaf33b",
   "metadata": {},
   "outputs": [
    {
     "data": {
      "text/plain": [
       "list"
      ]
     },
     "execution_count": 16,
     "metadata": {},
     "output_type": "execute_result"
    }
   ],
   "source": [
    "r = [6,7,True,2+3j,\"Hello\"]\n",
    "type(r)"
   ]
  },
  {
   "cell_type": "code",
   "execution_count": 17,
   "id": "64e204c9-990c-4f01-a3c0-d92fc418241e",
   "metadata": {},
   "outputs": [
    {
     "data": {
      "text/plain": [
       "[1, 2, 3, 4, 'john', 6, 7, True, (2+3j), 'Hello']"
      ]
     },
     "execution_count": 17,
     "metadata": {},
     "output_type": "execute_result"
    }
   ],
   "source": [
    "# Concatenation operation\n",
    "\n",
    "s+r"
   ]
  },
  {
   "cell_type": "code",
   "execution_count": 18,
   "id": "164f620b-bf45-41a5-b02b-1d6d7b8a1ba8",
   "metadata": {},
   "outputs": [
    {
     "data": {
      "text/plain": [
       "[6, 7, True, (2+3j), 'Hello', 1, 2, 3, 4, 'john']"
      ]
     },
     "execution_count": 18,
     "metadata": {},
     "output_type": "execute_result"
    }
   ],
   "source": [
    "r+s"
   ]
  },
  {
   "cell_type": "code",
   "execution_count": 19,
   "id": "2c979e22-a40f-464a-ab7e-5f2e095b5bbf",
   "metadata": {},
   "outputs": [
    {
     "data": {
      "text/plain": [
       "3"
      ]
     },
     "execution_count": 19,
     "metadata": {},
     "output_type": "execute_result"
    }
   ],
   "source": [
    "s[2]"
   ]
  },
  {
   "cell_type": "code",
   "execution_count": 20,
   "id": "f2e98d09-cc72-4590-a3ec-09af58b7f034",
   "metadata": {},
   "outputs": [
    {
     "data": {
      "text/plain": [
       "'Hello'"
      ]
     },
     "execution_count": 20,
     "metadata": {},
     "output_type": "execute_result"
    }
   ],
   "source": [
    "r[4]"
   ]
  },
  {
   "cell_type": "code",
   "execution_count": 21,
   "id": "6f604421-6bd6-4d16-b648-c0c266e03d7a",
   "metadata": {},
   "outputs": [
    {
     "data": {
      "text/plain": [
       "(2+3j)"
      ]
     },
     "execution_count": 21,
     "metadata": {},
     "output_type": "execute_result"
    }
   ],
   "source": [
    "(s+r)[8]"
   ]
  },
  {
   "cell_type": "markdown",
   "id": "aa3f033c-d9c5-41fc-9ff2-eba76eb2db43",
   "metadata": {},
   "source": [
    "#### Indexes in Lists for Slicing Operation:\n",
    "\n",
    "- **Positive Indexing:** Starts from 0, refers to elements from the beginning.\n",
    "  - Example: `r[2:6]` selects elements from index 2 to index 5.\n",
    "\n",
    "- **Negative Indexing:** Starts from -1, refers to elements from the end.\n",
    "  - Example: `r[-6:-2]` selects elements from the sixth to the second element from the end.\n"
   ]
  },
  {
   "cell_type": "code",
   "execution_count": 22,
   "id": "8fab439b-13e1-49c0-bd48-1aae41866118",
   "metadata": {},
   "outputs": [
    {
     "data": {
      "text/plain": [
       "[6, 7, True]"
      ]
     },
     "execution_count": 22,
     "metadata": {},
     "output_type": "execute_result"
    }
   ],
   "source": [
    "r = [6 , 7 , True , 2+3j , \"Hello\" , 1 , 2 , 3 , 4 , 5 , 6]\n",
    "  # [0 , 1 ,  2   ,  3   ,    4    , 5 , 6 , 7 , 8 , 9 , 10] - positive index\n",
    "  #[-11,-10, -9   , -8   ,   -7    ,-6 ,-5 ,-4 ,-3 ,-2 , -1] - negative index                    \n",
    "\n",
    "r[0:3]"
   ]
  },
  {
   "cell_type": "code",
   "execution_count": 23,
   "id": "8ad85a5a-2b0e-49cf-947d-c90274007342",
   "metadata": {},
   "outputs": [
    {
     "data": {
      "text/plain": [
       "[6, 7, True, (2+3j), 'Hello', 1, 2, 3]"
      ]
     },
     "execution_count": 23,
     "metadata": {},
     "output_type": "execute_result"
    }
   ],
   "source": [
    "r[0:-3]"
   ]
  },
  {
   "cell_type": "code",
   "execution_count": 24,
   "id": "9868ed29-ff2d-4fc7-951c-c93518e830f2",
   "metadata": {},
   "outputs": [
    {
     "data": {
      "text/plain": [
       "3"
      ]
     },
     "execution_count": 24,
     "metadata": {},
     "output_type": "execute_result"
    }
   ],
   "source": [
    "r[7]"
   ]
  },
  {
   "cell_type": "code",
   "execution_count": 25,
   "id": "880d1ff3-c623-43a6-a9bf-e360e66da05f",
   "metadata": {},
   "outputs": [
    {
     "data": {
      "text/plain": [
       "3"
      ]
     },
     "execution_count": 25,
     "metadata": {},
     "output_type": "execute_result"
    }
   ],
   "source": [
    "r[-4]"
   ]
  },
  {
   "cell_type": "code",
   "execution_count": 26,
   "id": "a15935d5-0997-4c12-99c9-040b103036b7",
   "metadata": {},
   "outputs": [
    {
     "data": {
      "text/plain": [
       "[True, 1]"
      ]
     },
     "execution_count": 26,
     "metadata": {},
     "output_type": "execute_result"
    }
   ],
   "source": [
    "r[2:7:3]"
   ]
  },
  {
   "cell_type": "code",
   "execution_count": 27,
   "id": "8a38b0dd-4d6c-4d9b-a2f1-2d36c7f1353c",
   "metadata": {},
   "outputs": [
    {
     "data": {
      "text/plain": [
       "[6, 7, True, (2+3j), 'Hello', 1, 2, 3, 4, 5, 6, 'hello']"
      ]
     },
     "execution_count": 27,
     "metadata": {},
     "output_type": "execute_result"
    }
   ],
   "source": [
    "r.append(\"hello\")\n",
    "r"
   ]
  },
  {
   "cell_type": "code",
   "execution_count": 28,
   "id": "ba342c74-5e92-4007-b9fe-205fbaeb0ab3",
   "metadata": {},
   "outputs": [
    {
     "name": "stdout",
     "output_type": "stream",
     "text": [
      "[6, 7, True, (2+3j), 'Hello', 1, 2, 3, 4, 5, 6, 'hello']\n"
     ]
    }
   ],
   "source": [
    "f = r.copy()\n",
    "print(f)"
   ]
  },
  {
   "cell_type": "code",
   "execution_count": 29,
   "id": "b1434fe0-4ff0-4d9b-8de6-80e33e8c8b69",
   "metadata": {},
   "outputs": [
    {
     "name": "stdout",
     "output_type": "stream",
     "text": [
      "[6, 7, True, (2+3j), 'Hello', 1, 2, 3, 4, 5, 6, 'hello']\n"
     ]
    }
   ],
   "source": [
    "f = r\n",
    "print(f)"
   ]
  },
  {
   "cell_type": "code",
   "execution_count": 30,
   "id": "8acb9c2c-ece9-4574-95e0-c7671736ea81",
   "metadata": {},
   "outputs": [
    {
     "name": "stdout",
     "output_type": "stream",
     "text": [
      "[6, 7, 'abcd', True, (2+3j), 'Hello', 1, 2, 3, 4, 5, 6, 'hello']\n"
     ]
    }
   ],
   "source": [
    "r.insert(2, 'abcd')\n",
    "print(r)"
   ]
  },
  {
   "cell_type": "code",
   "execution_count": 31,
   "id": "f11cc3d6-ae7d-4795-b1ad-6ac25171e1b7",
   "metadata": {},
   "outputs": [
    {
     "data": {
      "text/plain": [
       "1"
      ]
     },
     "execution_count": 31,
     "metadata": {},
     "output_type": "execute_result"
    }
   ],
   "source": [
    "r.count(7)"
   ]
  },
  {
   "cell_type": "code",
   "execution_count": 32,
   "id": "dd0c609a-6f46-4044-9867-b80be63af80e",
   "metadata": {},
   "outputs": [
    {
     "name": "stdout",
     "output_type": "stream",
     "text": [
      "[6, 7, 'abcd', True, (2+3j), 'Hello', 2, 3, 4, 5, 6, 'hello']\n"
     ]
    }
   ],
   "source": [
    "r.pop(6)\n",
    "print(r)"
   ]
  },
  {
   "cell_type": "code",
   "execution_count": 33,
   "id": "05cee1d9-4b43-4b9a-8484-453ae1113809",
   "metadata": {},
   "outputs": [
    {
     "data": {
      "text/plain": [
       "[1, 1, 1, 2, 3, 5, 5, 5, 7]"
      ]
     },
     "execution_count": 33,
     "metadata": {},
     "output_type": "execute_result"
    }
   ],
   "source": [
    "r = [5,7,3,2,1,1,1,5,5]\n",
    "r.sort()\n",
    "r"
   ]
  },
  {
   "cell_type": "code",
   "execution_count": 34,
   "id": "10bc010c-7c91-4876-89d3-844df04ec337",
   "metadata": {},
   "outputs": [
    {
     "data": {
      "text/plain": [
       "[7, 5, 5, 5, 3, 2, 1, 1, 1]"
      ]
     },
     "execution_count": 34,
     "metadata": {},
     "output_type": "execute_result"
    }
   ],
   "source": [
    "r.sort(reverse=True)\n",
    "r"
   ]
  },
  {
   "cell_type": "code",
   "execution_count": 35,
   "id": "caee6da2-cad4-478b-88fa-915263e942f2",
   "metadata": {},
   "outputs": [
    {
     "data": {
      "text/plain": [
       "[7, 5, 5, 5, 3, 2, 1, 1]"
      ]
     },
     "execution_count": 35,
     "metadata": {},
     "output_type": "execute_result"
    }
   ],
   "source": [
    "r.remove(1)\n",
    "r"
   ]
  },
  {
   "cell_type": "code",
   "execution_count": 36,
   "id": "7990e777-e810-4f79-a0e3-ac6c73af8202",
   "metadata": {},
   "outputs": [
    {
     "data": {
      "text/plain": [
       "[]"
      ]
     },
     "execution_count": 36,
     "metadata": {},
     "output_type": "execute_result"
    }
   ],
   "source": [
    "r.clear()\n",
    "r"
   ]
  },
  {
   "cell_type": "markdown",
   "id": "2b15c4a3-dc79-450e-bc1c-01c3d9b6a10f",
   "metadata": {},
   "source": [
    "### **Tuples in Python**\n",
    "\n",
    "- Tuples are ordered collections of items, similar to lists, but they are immutable.\n",
    "- Once created, the order of elements in a tuple cannot be changed.\n",
    "- Tuples are defined using parentheses `()`."
   ]
  },
  {
   "cell_type": "code",
   "execution_count": 37,
   "id": "ee87c916-fb0c-4642-a120-7061b9260368",
   "metadata": {},
   "outputs": [
    {
     "data": {
      "text/plain": [
       "tuple"
      ]
     },
     "execution_count": 37,
     "metadata": {},
     "output_type": "execute_result"
    }
   ],
   "source": [
    "# Tuples - ordered collection of items as a list, but they are immutable (order can not be changed once created)\n",
    "# define - ()\n",
    "\n",
    "t = (1,2,3,4,5)\n",
    "type(t)"
   ]
  },
  {
   "cell_type": "markdown",
   "id": "b4d937ad-3c72-4e2b-bcc0-be0cfae1fdb0",
   "metadata": {},
   "source": [
    "#### **Functions for Tuples in Python**\n",
    "\n",
    "1. **Length:** `len(tuple)` - Returns the number of items in the tuple.\n",
    "2. **Indexing:** `tuple[index]` - Accesses the item at the specified index.\n",
    "3. **Count:** `tuple.count(value)` - Returns the number of occurrences of the specified value in the tuple.\n",
    "4. **Membership:** `value in tuple` - Checks if a value exists in the tuple.\n",
    "5. **Concatenation:** `tuple1 + tuple2` - Concatenates two tuples to create a new tuple."
   ]
  },
  {
   "cell_type": "code",
   "execution_count": 38,
   "id": "8bbd2a98-84a2-4e4f-a8fa-93550b249d42",
   "metadata": {},
   "outputs": [],
   "source": [
    "t = (6,7,True,2+3j,\"Hello\",1, 2, 3, 4, 5, 6)"
   ]
  },
  {
   "cell_type": "code",
   "execution_count": 39,
   "id": "79714adc-da13-4b71-96d8-03a51b89b805",
   "metadata": {},
   "outputs": [
    {
     "data": {
      "text/plain": [
       "(6, 7, True, (2+3j), 'Hello')"
      ]
     },
     "execution_count": 39,
     "metadata": {},
     "output_type": "execute_result"
    }
   ],
   "source": [
    "t[0:5]"
   ]
  },
  {
   "cell_type": "markdown",
   "id": "2084c103-d723-4013-9e24-a7f77f42cdfe",
   "metadata": {},
   "source": [
    "### **Sets in Python**\n",
    "\n",
    "- Sets are unordered collections of unique items.\n",
    "- They are defined using curly braces `{}`.\n",
    "- Sets do not allow duplicate elements."
   ]
  },
  {
   "cell_type": "code",
   "execution_count": 40,
   "id": "d369a6f4-f3f3-465f-9e17-03863f741bda",
   "metadata": {},
   "outputs": [
    {
     "data": {
      "text/plain": [
       "set"
      ]
     },
     "execution_count": 40,
     "metadata": {},
     "output_type": "execute_result"
    }
   ],
   "source": [
    "s = {1,'a', 2.5, 3, 5, 7}\n",
    "type(s)"
   ]
  },
  {
   "cell_type": "markdown",
   "id": "f105fa1f-afa3-412d-a101-2e6532c0a787",
   "metadata": {},
   "source": [
    "#### **Functions for Sets in Python**\n",
    "\n",
    "1. **Length:** `len(set)` - Returns the number of elements in the set.\n",
    "2. **Membership:** `value in set` - Checks if a value exists in the set.\n",
    "3. **Add:** `set.add(value)` - Adds a single element to the set.\n",
    "4. **Remove:** `set.remove(value)` - Removes a specified element from the set.\n",
    "5. **Discard:** `set.discard(value)` - Removes a specified element from the set if it is present.\n",
    "6. **Pop:** `set.pop()` - Removes and returns an arbitrary element from the set.\n",
    "7. **Clear:** `set.clear()` - Removes all elements from the set.\n",
    "8. **Union:** `set1.union(set2)` or `set1 | set2` - Returns a new set containing all unique elements from both sets.\n",
    "9. **Intersection:** `set1.intersection(set2)` or `set1 & set2` - Returns a new set containing common elements from both sets.\n",
    "10. **Difference:** `set1.difference(set2)` or `set1 - set2` - Returns a new set containing elements present in set1 but not in set2."
   ]
  },
  {
   "cell_type": "code",
   "execution_count": 41,
   "id": "ebe0db8d-7820-4f00-812b-af0223da0746",
   "metadata": {},
   "outputs": [],
   "source": [
    "t = {10,11,12}"
   ]
  },
  {
   "cell_type": "code",
   "execution_count": 42,
   "id": "54ee08b7-9225-41c8-a797-053833184d58",
   "metadata": {},
   "outputs": [
    {
     "data": {
      "text/plain": [
       "{1, 10, 11, 12, 2.5, 3, 5, 7, 'a'}"
      ]
     },
     "execution_count": 42,
     "metadata": {},
     "output_type": "execute_result"
    }
   ],
   "source": [
    "s.update(t)\n",
    "s"
   ]
  },
  {
   "cell_type": "code",
   "execution_count": 43,
   "id": "0b5f1dec-2bbf-4182-8bc6-3ccff37e5b64",
   "metadata": {},
   "outputs": [
    {
     "data": {
      "text/plain": [
       "{1, 10, 11, 12, 2.5, 3, 5, 7, 'a'}"
      ]
     },
     "execution_count": 43,
     "metadata": {},
     "output_type": "execute_result"
    }
   ],
   "source": [
    "t.update(s)\n",
    "t"
   ]
  },
  {
   "cell_type": "code",
   "execution_count": 44,
   "id": "96f2507c-f31a-4afe-8de5-eeb2ec027319",
   "metadata": {},
   "outputs": [
    {
     "data": {
      "text/plain": [
       "9"
      ]
     },
     "execution_count": 44,
     "metadata": {},
     "output_type": "execute_result"
    }
   ],
   "source": [
    "len(t)"
   ]
  },
  {
   "cell_type": "code",
   "execution_count": 45,
   "id": "51b5c6b3-45dc-4927-b02b-cee36619cb97",
   "metadata": {},
   "outputs": [
    {
     "data": {
      "text/plain": [
       "{1, 10, 11, 12, 2.5, 3, 5, 7, 'a'}"
      ]
     },
     "execution_count": 45,
     "metadata": {},
     "output_type": "execute_result"
    }
   ],
   "source": [
    "s"
   ]
  },
  {
   "cell_type": "code",
   "execution_count": 46,
   "id": "54885986-4fdc-4aa3-94db-5318d37b59e4",
   "metadata": {},
   "outputs": [
    {
     "data": {
      "text/plain": [
       "{1, 10, 12, 2.5, 3, 5, 7, 'a'}"
      ]
     },
     "execution_count": 46,
     "metadata": {},
     "output_type": "execute_result"
    }
   ],
   "source": [
    "s.discard(11)\n",
    "s"
   ]
  },
  {
   "cell_type": "code",
   "execution_count": 47,
   "id": "77853391-f4c4-4aa7-ad6a-e51dae3ffdae",
   "metadata": {},
   "outputs": [
    {
     "data": {
      "text/plain": [
       "{1, 10, 11, 12, 2.5, 3, 5, 7, 'a'}"
      ]
     },
     "execution_count": 47,
     "metadata": {},
     "output_type": "execute_result"
    }
   ],
   "source": [
    "s | t"
   ]
  },
  {
   "cell_type": "code",
   "execution_count": 48,
   "id": "eebb54ba-af07-471e-82cc-ddac68af0869",
   "metadata": {},
   "outputs": [
    {
     "data": {
      "text/plain": [
       "{1, 10, 12, 2.5, 3, 5, 7, 'a'}"
      ]
     },
     "execution_count": 48,
     "metadata": {},
     "output_type": "execute_result"
    }
   ],
   "source": [
    "s & t"
   ]
  },
  {
   "cell_type": "code",
   "execution_count": 49,
   "id": "c718c68a-d51f-4593-824e-960ff29b671f",
   "metadata": {},
   "outputs": [
    {
     "data": {
      "text/plain": [
       "set()"
      ]
     },
     "execution_count": 49,
     "metadata": {},
     "output_type": "execute_result"
    }
   ],
   "source": [
    "s - t"
   ]
  },
  {
   "cell_type": "code",
   "execution_count": 50,
   "id": "2084b98d-3431-437b-aed8-35a96d9ae546",
   "metadata": {},
   "outputs": [
    {
     "data": {
      "text/plain": [
       "{11}"
      ]
     },
     "execution_count": 50,
     "metadata": {},
     "output_type": "execute_result"
    }
   ],
   "source": [
    "t - s"
   ]
  },
  {
   "cell_type": "markdown",
   "id": "8e8d81a2-012d-4ab2-978d-46d8a504d06c",
   "metadata": {},
   "source": [
    "### **Dictionaries in Python**\n",
    "\n",
    "- Dictionaries are collections of key-value pairs.\n",
    "- They are defined using curly braces `{}`.\n",
    "- Dictionaries are unordered, meaning the order of elements is not guaranteed."
   ]
  },
  {
   "cell_type": "code",
   "execution_count": 51,
   "id": "46235d13-22e1-4583-b7e0-7b1e7fa58543",
   "metadata": {},
   "outputs": [
    {
     "data": {
      "text/plain": [
       "dict"
      ]
     },
     "execution_count": 51,
     "metadata": {},
     "output_type": "execute_result"
    }
   ],
   "source": [
    "d = {'Fruit':\"Apple\" , \"Sport\":\"Cricket\" , \"Game\":\"Ludo\"}\n",
    "type(d)"
   ]
  },
  {
   "cell_type": "markdown",
   "id": "c9d5e9cc-8e0b-4241-8c25-9d6d596472a8",
   "metadata": {},
   "source": [
    "#### **Functions for Dictionary in Python**\n",
    "\n",
    "1. **Length:** `len(dictionary)` - Returns the number of key-value pairs in the dictionary.\n",
    "2. **Accessing Value:** `dictionary[key]` - Accesses the value associated with the specified key.\n",
    "3. **Adding or Modifying Value:** `dictionary[key] = value` - Adds a new key-value pair or modifies the value of an existing key.\n",
    "4. **Removing Key-Value Pair:** `del dictionary[key]` - Removes the key-value pair with the specified key.\n",
    "5. **Keys:** `dictionary.keys()` - Returns a view object containing the keys of the dictionary.\n",
    "6. **Values:** `dictionary.values()` - Returns a view object containing the values of the dictionary.\n",
    "7. **Items:** `dictionary.items()` - Returns a view object containing the key-value pairs of the dictionary.\n",
    "8. **Clear:** `dictionary.clear()` - Removes all key-value pairs from the dictionary.\n",
    "9. **Copy:** `dictionary.copy()` - Returns a shallow copy of the dictionary."
   ]
  },
  {
   "cell_type": "code",
   "execution_count": 52,
   "id": "c2cf81ef-b74d-4e8b-ae10-607a7d158bdd",
   "metadata": {},
   "outputs": [
    {
     "data": {
      "text/plain": [
       "dict_keys(['Fruit', 'Sport', 'Game'])"
      ]
     },
     "execution_count": 52,
     "metadata": {},
     "output_type": "execute_result"
    }
   ],
   "source": [
    "d.keys()"
   ]
  },
  {
   "cell_type": "code",
   "execution_count": 53,
   "id": "04a28ab2-62be-4e3d-ab15-a16d086a760d",
   "metadata": {},
   "outputs": [
    {
     "data": {
      "text/plain": [
       "dict_values(['Apple', 'Cricket', 'Ludo'])"
      ]
     },
     "execution_count": 53,
     "metadata": {},
     "output_type": "execute_result"
    }
   ],
   "source": [
    "d.values()"
   ]
  },
  {
   "cell_type": "code",
   "execution_count": 54,
   "id": "12a8d0e7-75d9-4f74-a62f-9b73618ddbd3",
   "metadata": {},
   "outputs": [
    {
     "data": {
      "text/plain": [
       "dict_items([('Fruit', 'Apple'), ('Sport', 'Cricket'), ('Game', 'Ludo')])"
      ]
     },
     "execution_count": 54,
     "metadata": {},
     "output_type": "execute_result"
    }
   ],
   "source": [
    "d.items()"
   ]
  },
  {
   "cell_type": "code",
   "execution_count": 55,
   "id": "86610e8b-692a-419f-af52-e744ed68d421",
   "metadata": {},
   "outputs": [],
   "source": [
    "d = {'Fruit':[\"Apple\", \"Banana\", \"Lichi\"] , \"Sport\":\"Cricket\" , \"Game\":\"Ludo\"}"
   ]
  },
  {
   "cell_type": "code",
   "execution_count": 56,
   "id": "ff4a29b3-e34c-4549-9448-edc39f95688f",
   "metadata": {},
   "outputs": [
    {
     "data": {
      "text/plain": [
       "{'Fruit': ['Apple', 'Banana', 'Lichi'], 'Sport': 'Cricket', 'Game': 'Ludo'}"
      ]
     },
     "execution_count": 56,
     "metadata": {},
     "output_type": "execute_result"
    }
   ],
   "source": [
    "d"
   ]
  },
  {
   "cell_type": "code",
   "execution_count": 57,
   "id": "9da24957-6391-4f5d-a1fb-700a5f716a79",
   "metadata": {},
   "outputs": [
    {
     "data": {
      "text/plain": [
       "['Apple', 'Banana', 'Lichi']"
      ]
     },
     "execution_count": 57,
     "metadata": {},
     "output_type": "execute_result"
    }
   ],
   "source": [
    "d[\"Fruit\"]"
   ]
  },
  {
   "cell_type": "code",
   "execution_count": 58,
   "id": "f2a94a7c-74c4-49a2-a4dd-d8c7fce7f4b3",
   "metadata": {},
   "outputs": [
    {
     "data": {
      "text/plain": [
       "3"
      ]
     },
     "execution_count": 58,
     "metadata": {},
     "output_type": "execute_result"
    }
   ],
   "source": [
    "len(d)"
   ]
  }
 ],
 "metadata": {
  "kernelspec": {
   "display_name": "Python 3 (ipykernel)",
   "language": "python",
   "name": "python3"
  },
  "language_info": {
   "codemirror_mode": {
    "name": "ipython",
    "version": 3
   },
   "file_extension": ".py",
   "mimetype": "text/x-python",
   "name": "python",
   "nbconvert_exporter": "python",
   "pygments_lexer": "ipython3",
   "version": "3.12.2"
  }
 },
 "nbformat": 4,
 "nbformat_minor": 5
}

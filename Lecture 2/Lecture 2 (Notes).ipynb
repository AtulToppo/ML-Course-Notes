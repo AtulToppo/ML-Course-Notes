{
 "cells": [
  {
   "cell_type": "markdown",
   "id": "bc329caa",
   "metadata": {},
   "source": [
    "# Conditional Statements"
   ]
  },
  {
   "cell_type": "code",
   "execution_count": 1,
   "id": "3840b3d6",
   "metadata": {},
   "outputs": [
    {
     "name": "stdout",
     "output_type": "stream",
     "text": [
      "x is small\n"
     ]
    }
   ],
   "source": [
    "x=3\n",
    "if x<10:\n",
    "    print('x is small')"
   ]
  },
  {
   "cell_type": "code",
   "execution_count": 2,
   "id": "d43f08fb",
   "metadata": {},
   "outputs": [
    {
     "name": "stdout",
     "output_type": "stream",
     "text": [
      "completed\n"
     ]
    }
   ],
   "source": [
    "x=30\n",
    "if x<10:\n",
    "    print('x is small')\n",
    "print('completed')"
   ]
  },
  {
   "cell_type": "code",
   "execution_count": 3,
   "id": "207ff8f4",
   "metadata": {},
   "outputs": [
    {
     "name": "stdout",
     "output_type": "stream",
     "text": [
      "x is small\n",
      "completed\n"
     ]
    }
   ],
   "source": [
    "x=3\n",
    "if x<10:\n",
    "    print('x is small')\n",
    "    print('completed')"
   ]
  },
  {
   "cell_type": "code",
   "execution_count": 4,
   "id": "4dce3b5e",
   "metadata": {},
   "outputs": [
    {
     "ename": "IndentationError",
     "evalue": "expected an indented block (<ipython-input-4-f66da8cbe912>, line 3)",
     "output_type": "error",
     "traceback": [
      "\u001b[1;36m  File \u001b[1;32m\"<ipython-input-4-f66da8cbe912>\"\u001b[1;36m, line \u001b[1;32m3\u001b[0m\n\u001b[1;33m    print('x is small')\u001b[0m\n\u001b[1;37m    ^\u001b[0m\n\u001b[1;31mIndentationError\u001b[0m\u001b[1;31m:\u001b[0m expected an indented block\n"
     ]
    }
   ],
   "source": [
    "x=30\n",
    "if x<10:\n",
    "print('x is small')\n",
    "print('completed')"
   ]
  },
  {
   "cell_type": "code",
   "execution_count": 5,
   "id": "421101a7",
   "metadata": {},
   "outputs": [
    {
     "name": "stdout",
     "output_type": "stream",
     "text": [
      "You can vote\n"
     ]
    }
   ],
   "source": [
    "age=18\n",
    "if age<18:\n",
    "    print('You cant vote')\n",
    "else:\n",
    "    print(\"You can vote\")"
   ]
  },
  {
   "cell_type": "code",
   "execution_count": 6,
   "id": "4c42a0ac",
   "metadata": {},
   "outputs": [
    {
     "name": "stdout",
     "output_type": "stream",
     "text": [
      "You cant vote\n"
     ]
    }
   ],
   "source": [
    "age=10\n",
    "if age<18:\n",
    "    print('You cant vote')\n",
    "else:\n",
    "    print(\"You can vote\")"
   ]
  },
  {
   "cell_type": "code",
   "execution_count": 7,
   "id": "ba4a236f",
   "metadata": {},
   "outputs": [
    {
     "name": "stdout",
     "output_type": "stream",
     "text": [
      "You are a male\n"
     ]
    }
   ],
   "source": [
    "gender=\"male\"\n",
    "if gender==\"male\":\n",
    "    print('You are a male')\n",
    "elif gender==\"female\":\n",
    "    print('You are a female')\n",
    "else:\n",
    "    print('Others')"
   ]
  },
  {
   "cell_type": "code",
   "execution_count": 8,
   "id": "52c0399c",
   "metadata": {},
   "outputs": [
    {
     "name": "stdout",
     "output_type": "stream",
     "text": [
      "Others\n",
      "done\n"
     ]
    }
   ],
   "source": [
    "gender=\"m\"\n",
    "if gender==\"male\":\n",
    "    print('You are a male')\n",
    "elif gender==\"female\":\n",
    "    print('You are a female')\n",
    "else:\n",
    "    print('Others')\n",
    "print(\"done\")"
   ]
  },
  {
   "cell_type": "code",
   "execution_count": 9,
   "id": "8cec1a2f",
   "metadata": {},
   "outputs": [
    {
     "name": "stdout",
     "output_type": "stream",
     "text": [
      "Enter gender male\n",
      "You are a male\n"
     ]
    }
   ],
   "source": [
    "gender=input(\"Enter gender \")\n",
    "if gender==\"male\":\n",
    "    print('You are a male')\n",
    "elif gender==\"female\":\n",
    "    print('You are a female')\n",
    "else:\n",
    "    print('Others')"
   ]
  },
  {
   "cell_type": "code",
   "execution_count": 10,
   "id": "77558fae",
   "metadata": {},
   "outputs": [
    {
     "name": "stdout",
     "output_type": "stream",
     "text": [
      "male\n"
     ]
    }
   ],
   "source": [
    "print(gender)"
   ]
  },
  {
   "cell_type": "code",
   "execution_count": 11,
   "id": "a9fee4ce",
   "metadata": {},
   "outputs": [
    {
     "name": "stdout",
     "output_type": "stream",
     "text": [
      "enter value of a abcde\n"
     ]
    }
   ],
   "source": [
    "#It acts as string\n",
    "\n",
    "a=input(\"enter value of a \")     "
   ]
  },
  {
   "cell_type": "code",
   "execution_count": 12,
   "id": "32e2f2fe",
   "metadata": {},
   "outputs": [
    {
     "name": "stdout",
     "output_type": "stream",
     "text": [
      "enter value of a 1234\n"
     ]
    }
   ],
   "source": [
    "#It acts as int data type\n",
    "\n",
    "a=int(input(\"enter value of a \"))  "
   ]
  },
  {
   "cell_type": "code",
   "execution_count": 13,
   "id": "342e1a03",
   "metadata": {},
   "outputs": [
    {
     "name": "stdout",
     "output_type": "stream",
     "text": [
      "Enter your marks: 99.5\n"
     ]
    }
   ],
   "source": [
    "#It acts as float data type\n",
    "\n",
    "marks = float(input(\"Enter your marks: \"))"
   ]
  },
  {
   "cell_type": "markdown",
   "id": "c6947ff6",
   "metadata": {},
   "source": [
    "\n",
    "\n",
    "\n",
    "\n",
    "# For Loop"
   ]
  },
  {
   "cell_type": "code",
   "execution_count": 14,
   "id": "5425f54d",
   "metadata": {},
   "outputs": [
    {
     "name": "stdout",
     "output_type": "stream",
     "text": [
      "city hyderabad\n",
      "city warangal\n"
     ]
    }
   ],
   "source": [
    "city=['hyderabad','warangal']\n",
    "for x in city:\n",
    "    print('city', x)"
   ]
  },
  {
   "cell_type": "code",
   "execution_count": 15,
   "id": "ee373111",
   "metadata": {},
   "outputs": [
    {
     "name": "stdout",
     "output_type": "stream",
     "text": [
      "0\n",
      "1\n",
      "2\n",
      "3\n",
      "4\n",
      "5\n",
      "6\n",
      "7\n",
      "8\n",
      "9\n"
     ]
    }
   ],
   "source": [
    "for i in range(10):\n",
    "    print(i)"
   ]
  },
  {
   "cell_type": "code",
   "execution_count": 16,
   "id": "1ea58f81",
   "metadata": {},
   "outputs": [
    {
     "name": "stdout",
     "output_type": "stream",
     "text": [
      "1\n",
      "2\n",
      "3\n",
      "4\n",
      "5\n",
      "6\n",
      "7\n",
      "8\n",
      "9\n"
     ]
    }
   ],
   "source": [
    "for i in range(1,10):\n",
    "    print(i)"
   ]
  },
  {
   "cell_type": "code",
   "execution_count": 17,
   "id": "9f27ed9d",
   "metadata": {},
   "outputs": [
    {
     "name": "stdout",
     "output_type": "stream",
     "text": [
      "1\n",
      "4\n",
      "7\n"
     ]
    }
   ],
   "source": [
    "for i in range(1,10,3):\n",
    "    print(i)"
   ]
  },
  {
   "cell_type": "code",
   "execution_count": 18,
   "id": "243492ea",
   "metadata": {},
   "outputs": [
    {
     "name": "stdout",
     "output_type": "stream",
     "text": [
      "[range(0, 5)]\n"
     ]
    }
   ],
   "source": [
    "l=[range(5)]\n",
    "print(l)"
   ]
  },
  {
   "cell_type": "code",
   "execution_count": 19,
   "id": "c073b79e",
   "metadata": {},
   "outputs": [
    {
     "name": "stdout",
     "output_type": "stream",
     "text": [
      "0\n",
      "5\n",
      "10\n",
      "15\n",
      "20\n",
      "25\n",
      "30\n",
      "35\n",
      "40\n",
      "45\n",
      "50\n",
      "55\n",
      "60\n",
      "65\n",
      "70\n",
      "75\n",
      "80\n",
      "85\n",
      "90\n",
      "95\n"
     ]
    }
   ],
   "source": [
    "for i in range(0,100,5):\n",
    "    print(i)"
   ]
  },
  {
   "cell_type": "markdown",
   "id": "67cb1909",
   "metadata": {},
   "source": [
    "# While Loop\n"
   ]
  },
  {
   "cell_type": "code",
   "execution_count": 20,
   "id": "5ef5a394",
   "metadata": {},
   "outputs": [
    {
     "name": "stdout",
     "output_type": "stream",
     "text": [
      "3\n",
      "4\n",
      "5\n",
      "6\n",
      "7\n",
      "8\n",
      "9\n"
     ]
    }
   ],
   "source": [
    "x=3\n",
    "while x<10 :\n",
    "    print(x)\n",
    "    x=x+1"
   ]
  },
  {
   "cell_type": "code",
   "execution_count": null,
   "id": "6b14c565",
   "metadata": {},
   "outputs": [],
   "source": [
    "# It is an infinite loop\n",
    "\n",
    "x=3\n",
    "while True:\n",
    "    print(x) "
   ]
  },
  {
   "cell_type": "code",
   "execution_count": 21,
   "id": "6fb9f4b4",
   "metadata": {},
   "outputs": [
    {
     "name": "stdout",
     "output_type": "stream",
     "text": [
      "1\n",
      "2\n",
      "3\n",
      "4\n",
      "5\n"
     ]
    }
   ],
   "source": [
    "i = 1\n",
    "while i < 6:\n",
    "  print(i)\n",
    "  i += 1"
   ]
  },
  {
   "cell_type": "code",
   "execution_count": 22,
   "id": "d3e03be5",
   "metadata": {},
   "outputs": [
    {
     "name": "stdout",
     "output_type": "stream",
     "text": [
      "1\n",
      "2\n",
      "3\n"
     ]
    }
   ],
   "source": [
    "i = 1\n",
    "while i < 6:\n",
    "  print(i)\n",
    "  if i == 3:\n",
    "    break\n",
    "  i += 1"
   ]
  },
  {
   "cell_type": "code",
   "execution_count": 23,
   "id": "fed6308d",
   "metadata": {},
   "outputs": [
    {
     "name": "stdout",
     "output_type": "stream",
     "text": [
      "1 * 1 = 1\n",
      "2 * 2 = 4\n",
      "3 * 3 = 9\n",
      "4 * 4 = 16\n",
      "5 * 5 = 25\n"
     ]
    }
   ],
   "source": [
    "x=[1,2,3,4,5]\n",
    "for i in x:\n",
    "    y=i*i\n",
    "    print(i,'*',i,'=',y)"
   ]
  },
  {
   "cell_type": "markdown",
   "id": "beb58aa0",
   "metadata": {},
   "source": [
    "# Functions\n",
    "A function is a block of code which only runs when it is called.\n",
    "You can pass data, known as parameters, into a function.\n",
    "A function can return data as a result.\n",
    "\n",
    "In Python a function is defined using the def keyword"
   ]
  },
  {
   "cell_type": "code",
   "execution_count": 24,
   "id": "f50bc448",
   "metadata": {},
   "outputs": [],
   "source": [
    "def add(a,b):\n",
    "    sum=a+b\n",
    "    return sum"
   ]
  },
  {
   "cell_type": "code",
   "execution_count": 25,
   "id": "827591c5",
   "metadata": {},
   "outputs": [
    {
     "name": "stdout",
     "output_type": "stream",
     "text": [
      "30\n"
     ]
    }
   ],
   "source": [
    "a=10\n",
    "b=20\n",
    "c=add(a,b)\n",
    "print(c)"
   ]
  },
  {
   "cell_type": "code",
   "execution_count": 26,
   "id": "3e65046d",
   "metadata": {},
   "outputs": [],
   "source": [
    "#Recursion\n",
    "\n",
    "def fact(n):\n",
    "    if n==0 or n==1:\n",
    "        return 1\n",
    "    else:\n",
    "        return n*fact(n-1)"
   ]
  },
  {
   "cell_type": "code",
   "execution_count": 27,
   "id": "db5856b0",
   "metadata": {},
   "outputs": [
    {
     "name": "stdout",
     "output_type": "stream",
     "text": [
      "enter number 5\n",
      "120\n"
     ]
    }
   ],
   "source": [
    "a=int(input(\"enter number \"))\n",
    "f=fact(a)\n",
    "print(f)"
   ]
  }
 ],
 "metadata": {
  "kernelspec": {
   "display_name": "Python 3",
   "language": "python",
   "name": "python3"
  },
  "language_info": {
   "codemirror_mode": {
    "name": "ipython",
    "version": 3
   },
   "file_extension": ".py",
   "mimetype": "text/x-python",
   "name": "python",
   "nbconvert_exporter": "python",
   "pygments_lexer": "ipython3",
   "version": "3.8.8"
  }
 },
 "nbformat": 4,
 "nbformat_minor": 5
}
